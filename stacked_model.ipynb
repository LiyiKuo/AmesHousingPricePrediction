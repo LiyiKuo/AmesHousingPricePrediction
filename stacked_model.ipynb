{
 "cells": [
  {
   "cell_type": "code",
   "execution_count": 1,
   "metadata": {},
   "outputs": [],
   "source": [
    "import numpy as np\n",
    "import pandas as pd\n",
    "import math\n",
    "import re\n",
    "import seaborn as sns\n",
    "import matplotlib as plt\n",
    "from sklearn.linear_model import Ridge, Lasso, ElasticNet, LinearRegression\n",
    "from sklearn.ensemble import GradientBoostingRegressor, RandomForestRegressor\n",
    "from sklearn.model_selection import train_test_split"
   ]
  },
  {
   "cell_type": "code",
   "execution_count": 2,
   "metadata": {},
   "outputs": [],
   "source": [
    "df = pd.read_csv('data/train_cleanV2.csv')\n",
    "df_X = df.loc[:,(df.columns != 'Id') & (df.columns != 'SalePrice')]"
   ]
  },
  {
   "cell_type": "code",
   "execution_count": 3,
   "metadata": {},
   "outputs": [
    {
     "name": "stdout",
     "output_type": "stream",
     "text": [
      "train R^2: 0.842491\n",
      "test R^: 0.832876\n"
     ]
    }
   ],
   "source": [
    "# LASSO REGRESSION - ALPHA=15.79 AND 38 FEATURES THAT DO NOT GO TO 0\n",
    "\n",
    "features_lasso = ['LotFrontage', 'LotArea', 'Neighborhood', 'OverallQual', 'OverallCond',\n",
    "       'MasVnrArea', 'ExterQual', 'BsmtQual', 'BsmtCond', 'BsmtFinType1',\n",
    "       'TotalBsmtSF', 'GrLivArea', 'BedroomAbvGr', 'KitchenAbvGr',\n",
    "       'KitchenQual', 'TotRmsAbvGrd', 'Functional', 'Fireplaces',\n",
    "       'FireplaceQu', 'GarageYrBlt', 'GarageFinish', 'GarageCars',\n",
    "       'GarageArea', 'WoodDeckSF', '3SsnPorch', 'ScreenPorch', 'TotalBath',\n",
    "       'LotConfig_CulDSac', 'LotConfig_FR2', 'Exterior1st_Other',\n",
    "       'Exterior1st_Plywood', 'Exterior2nd_HdBoard', 'MasVnrType_BrkFace',\n",
    "       'SaleCondition_Family', 'SaleCondition_Partial', 'BsmtExposure_Gd',\n",
    "       'BsmtExposure_NoBsmt', 'BsmtExposure_NoExposure']\n",
    "lasso = Lasso()\n",
    "lasso.set_params(alpha=15.790316,normalize=True)  \n",
    "\n",
    "X_train, X_test, Y_train, Y_test = train_test_split(df_X.loc[:, features_lasso], df['SalePrice'], test_size=0.3, random_state=42)\n",
    "lasso.fit(X_train,Y_train)\n",
    "print(\"train R^2: %f\" %lasso.score(X_train,Y_train))\n",
    "print(\"test R^2: %f\"%lasso.score(X_test,Y_test))\n",
    "\n",
    "lasso.fit(df_X.loc[:, features_lasso], df['SalePrice'])\n",
    "lasso_predicted = lasso.predict(df_X.loc[:, features_lasso])"
   ]
  },
  {
   "cell_type": "code",
   "execution_count": 7,
   "metadata": {
    "scrolled": true
   },
   "outputs": [
    {
     "name": "stdout",
     "output_type": "stream",
     "text": [
      "train R^2: 0.895563\n",
      "test R^: 0.850068\n"
     ]
    }
   ],
   "source": [
    "gbm = GradientBoostingRegressor()\n",
    "gbm.set_params(learning_rate=0.01, n_estimators=500, verbose=0, \n",
    "               subsample=0.7, warm_start=False, loss='ls', max_depth=2, \n",
    "               max_features = 2, min_impurity_decrease=0.01)\n",
    "features_gbm = ['Neighborhood', 'OverallQual', 'YearRemodAdd', 'TotalBsmtSF',\n",
    "       'GrLivArea', 'Fireplaces', 'GarageCars', 'TotalBath']\n",
    "\n",
    "X_train, X_test, Y_train, Y_test = train_test_split(df_X.loc[:, features_gbm], df['SalePrice'], test_size=0.3, random_state=42)\n",
    "gbm.fit(X_train,Y_train)\n",
    "print(\"train R^2: %f\" %gbm.score(X_train,Y_train))\n",
    "print(\"test R^2: %f\"%gbm.score(X_test,Y_test))\n",
    "\n",
    "gbm.fit(df_X.loc[:, features_gbm], df['SalePrice'])\n",
    "gbm_predicted = gbm.predict(df_X.loc[:, features_gbm])"
   ]
  },
  {
   "cell_type": "code",
   "execution_count": 8,
   "metadata": {},
   "outputs": [
    {
     "name": "stdout",
     "output_type": "stream",
     "text": [
      "train R^2: 0.969072\n",
      "test R^: 0.838222\n"
     ]
    }
   ],
   "source": [
    "forest = RandomForestRegressor()\n",
    "forest.set_params(random_state=42, n_estimators=100, max_features=4)\n",
    "features_forest = ['Neighborhood', 'OverallQual', 'TotalBsmtSF', 'GrLivArea', 'Bedroom/Bathroom']\n",
    "\n",
    "X_train, X_test, Y_train, Y_test = train_test_split(df_X.loc[:, features_forest], df['SalePrice'], test_size=0.3, random_state=42)\n",
    "forest.fit(X_train,Y_train)\n",
    "print(\"train R^2: %f\" %forest.score(X_train,Y_train))\n",
    "print(\"test R^2: %f\"%forest.score(X_test,Y_test))\n",
    "\n",
    "forest.fit(df_X.loc[:, features_forest], df['SalePrice'])\n",
    "forest_predicted = forest.predict(df_X.loc[:, features_forest])"
   ]
  },
  {
   "cell_type": "code",
   "execution_count": 10,
   "metadata": {},
   "outputs": [
    {
     "data": {
      "text/html": [
       "<div>\n",
       "<style scoped>\n",
       "    .dataframe tbody tr th:only-of-type {\n",
       "        vertical-align: middle;\n",
       "    }\n",
       "\n",
       "    .dataframe tbody tr th {\n",
       "        vertical-align: top;\n",
       "    }\n",
       "\n",
       "    .dataframe thead th {\n",
       "        text-align: right;\n",
       "    }\n",
       "</style>\n",
       "<table border=\"1\" class=\"dataframe\">\n",
       "  <thead>\n",
       "    <tr style=\"text-align: right;\">\n",
       "      <th></th>\n",
       "      <th>Lasso_Predicted</th>\n",
       "      <th>GBM_Predicted</th>\n",
       "      <th>Forest_Predicted</th>\n",
       "    </tr>\n",
       "  </thead>\n",
       "  <tbody>\n",
       "    <tr>\n",
       "      <th>0</th>\n",
       "      <td>218594.316714</td>\n",
       "      <td>203820.928079</td>\n",
       "      <td>205014.00000</td>\n",
       "    </tr>\n",
       "    <tr>\n",
       "      <th>1</th>\n",
       "      <td>217906.860059</td>\n",
       "      <td>182367.298234</td>\n",
       "      <td>183415.50000</td>\n",
       "    </tr>\n",
       "    <tr>\n",
       "      <th>2</th>\n",
       "      <td>223529.670552</td>\n",
       "      <td>213428.484444</td>\n",
       "      <td>214722.78000</td>\n",
       "    </tr>\n",
       "    <tr>\n",
       "      <th>3</th>\n",
       "      <td>201667.406196</td>\n",
       "      <td>196316.097183</td>\n",
       "      <td>155947.40000</td>\n",
       "    </tr>\n",
       "    <tr>\n",
       "      <th>4</th>\n",
       "      <td>277865.278885</td>\n",
       "      <td>298230.182831</td>\n",
       "      <td>252787.00000</td>\n",
       "    </tr>\n",
       "    <tr>\n",
       "      <th>...</th>\n",
       "      <td>...</td>\n",
       "      <td>...</td>\n",
       "      <td>...</td>\n",
       "    </tr>\n",
       "    <tr>\n",
       "      <th>1447</th>\n",
       "      <td>169074.035671</td>\n",
       "      <td>182679.462604</td>\n",
       "      <td>175652.00000</td>\n",
       "    </tr>\n",
       "    <tr>\n",
       "      <th>1448</th>\n",
       "      <td>213991.083645</td>\n",
       "      <td>213248.059215</td>\n",
       "      <td>210889.00000</td>\n",
       "    </tr>\n",
       "    <tr>\n",
       "      <th>1449</th>\n",
       "      <td>260278.182984</td>\n",
       "      <td>227970.900267</td>\n",
       "      <td>257778.59000</td>\n",
       "    </tr>\n",
       "    <tr>\n",
       "      <th>1450</th>\n",
       "      <td>138225.274927</td>\n",
       "      <td>130791.246693</td>\n",
       "      <td>146651.26875</td>\n",
       "    </tr>\n",
       "    <tr>\n",
       "      <th>1451</th>\n",
       "      <td>145180.625703</td>\n",
       "      <td>136431.903837</td>\n",
       "      <td>145548.00000</td>\n",
       "    </tr>\n",
       "  </tbody>\n",
       "</table>\n",
       "<p>1452 rows × 3 columns</p>\n",
       "</div>"
      ],
      "text/plain": [
       "      Lasso_Predicted  GBM_Predicted  Forest_Predicted\n",
       "0       218594.316714  203820.928079      205014.00000\n",
       "1       217906.860059  182367.298234      183415.50000\n",
       "2       223529.670552  213428.484444      214722.78000\n",
       "3       201667.406196  196316.097183      155947.40000\n",
       "4       277865.278885  298230.182831      252787.00000\n",
       "...               ...            ...               ...\n",
       "1447    169074.035671  182679.462604      175652.00000\n",
       "1448    213991.083645  213248.059215      210889.00000\n",
       "1449    260278.182984  227970.900267      257778.59000\n",
       "1450    138225.274927  130791.246693      146651.26875\n",
       "1451    145180.625703  136431.903837      145548.00000\n",
       "\n",
       "[1452 rows x 3 columns]"
      ]
     },
     "execution_count": 10,
     "metadata": {},
     "output_type": "execute_result"
    }
   ],
   "source": [
    "df_stack = pd.DataFrame({'Lasso_Predicted': lasso_predicted, 'GBM_Predicted': gbm_predicted, 'Forest_Predicted': forest_predicted})\n",
    "df_stack"
   ]
  },
  {
   "cell_type": "code",
   "execution_count": 11,
   "metadata": {},
   "outputs": [
    {
     "name": "stdout",
     "output_type": "stream",
     "text": [
      "train R^2: 0.984761\n",
      "test R^: 0.981950\n"
     ]
    }
   ],
   "source": [
    "lm = LinearRegression()\n",
    "\n",
    "X_train, X_test, Y_train, Y_test = train_test_split(df_stack, df['SalePrice'], test_size=0.3, random_state=42)\n",
    "lm.fit(X_train,Y_train)\n",
    "print(\"train R^2: %f\" %lm.score(X_train,Y_train))\n",
    "print(\"test R^2: %f\"%lm.score(X_test,Y_test))"
   ]
  }
 ],
 "metadata": {
  "kernelspec": {
   "display_name": "Python 3",
   "language": "python",
   "name": "python3"
  },
  "language_info": {
   "codemirror_mode": {
    "name": "ipython",
    "version": 3
   },
   "file_extension": ".py",
   "mimetype": "text/x-python",
   "name": "python",
   "nbconvert_exporter": "python",
   "pygments_lexer": "ipython3",
   "version": "3.7.3"
  }
 },
 "nbformat": 4,
 "nbformat_minor": 2
}
