{
 "cells": [
  {
   "cell_type": "code",
   "execution_count": 55,
   "metadata": {},
   "outputs": [],
   "source": [
    "import numpy as np\n",
    "import pandas as pd\n",
    "import math\n",
    "import re\n",
    "import seaborn as sns\n",
    "import matplotlib as plt\n",
    "from sklearn.linear_model import Ridge, Lasso, ElasticNet, LinearRegression\n",
    "from sklearn.ensemble import GradientBoostingRegressor, RandomForestRegressor\n",
    "from sklearn.model_selection import train_test_split"
   ]
  },
  {
   "cell_type": "code",
   "execution_count": 56,
   "metadata": {},
   "outputs": [],
   "source": [
    "df = pd.read_csv('data/train_cleanV2.csv')\n",
    "df_X = df.loc[:,(df.columns != 'Id') & (df.columns != 'SalePrice')]"
   ]
  },
  {
   "cell_type": "code",
   "execution_count": 57,
   "metadata": {},
   "outputs": [
    {
     "name": "stdout",
     "output_type": "stream",
     "text": [
      "train R^2: 0.839223\n",
      "test R^2: 0.832512\n"
     ]
    }
   ],
   "source": [
    "# LASSO REGRESSION - ALPHA=15.79 AND 38 FEATURES THAT DO NOT GO TO 0\n",
    "\n",
    "features_lasso = ['LotArea', 'Neighborhood', 'OverallQual', 'OverallCond', 'MasVnrArea',\n",
    "       'ExterQual', 'BsmtQual', 'BsmtFinType1', 'TotalBsmtSF', 'GrLivArea',\n",
    "       'BedroomAbvGr', 'KitchenAbvGr', 'KitchenQual', 'TotRmsAbvGrd',\n",
    "       'Functional', 'Fireplaces', 'GarageYrBlt', 'GarageFinish', 'GarageCars',\n",
    "       'WoodDeckSF', '3SsnPorch', 'ScreenPorch', 'TotalBath',\n",
    "       'LotConfig_CulDSac', 'LotConfig_FR2', 'Exterior1st_Plywood',\n",
    "       'SaleCondition_Partial', 'BsmtExposure_Gd', 'BsmtExposure_NoBsmt']\n",
    "lasso = Lasso()\n",
    "lasso.set_params(alpha=15.790316,normalize=True)  \n",
    "\n",
    "X_train, X_test, Y_train, Y_test = train_test_split(df_X.loc[:, features_lasso], df['SalePrice'], test_size=0.3, random_state=42)\n",
    "lasso.fit(X_train,Y_train)\n",
    "print(\"train R^2: %f\" %lasso.score(X_train,Y_train))\n",
    "print(\"test R^2: %f\"%lasso.score(X_test,Y_test))\n",
    "\n",
    "lasso.fit(df_X.loc[:, features_lasso], df['SalePrice'])\n",
    "lasso_predicted = lasso.predict(df_X.loc[:, features_lasso])"
   ]
  },
  {
   "cell_type": "code",
   "execution_count": 58,
   "metadata": {
    "scrolled": true
   },
   "outputs": [
    {
     "name": "stdout",
     "output_type": "stream",
     "text": [
      "train R^2: 0.896786\n",
      "test R^2: 0.855773\n"
     ]
    }
   ],
   "source": [
    "gbm = GradientBoostingRegressor()\n",
    "gbm.set_params(learning_rate=0.01, n_estimators=500, verbose=0, \n",
    "               subsample=0.7, warm_start=False, loss='ls', max_depth=2, \n",
    "               max_features = 2, min_impurity_decrease=0.01)\n",
    "features_gbm = ['Neighborhood', 'OverallQual', 'YearRemodAdd', 'TotalBsmtSF',\n",
    "       'GrLivArea', 'Fireplaces', 'GarageCars', 'TotalBath']\n",
    "\n",
    "X_train, X_test, Y_train, Y_test = train_test_split(df_X.loc[:, features_gbm], df['SalePrice'], test_size=0.3, random_state=42)\n",
    "gbm.fit(X_train,Y_train)\n",
    "print(\"train R^2: %f\" %gbm.score(X_train,Y_train))\n",
    "print(\"test R^2: %f\"%gbm.score(X_test,Y_test))\n",
    "\n",
    "gbm.fit(df_X.loc[:, features_gbm], df['SalePrice'])\n",
    "gbm_predicted = gbm.predict(df_X.loc[:, features_gbm])"
   ]
  },
  {
   "cell_type": "code",
   "execution_count": 59,
   "metadata": {},
   "outputs": [
    {
     "name": "stdout",
     "output_type": "stream",
     "text": [
      "train R^2: 0.969072\n",
      "test R^2: 0.838222\n"
     ]
    }
   ],
   "source": [
    "forest = RandomForestRegressor()\n",
    "forest.set_params(random_state=42, n_estimators=100, max_features=4)\n",
    "features_forest = ['Neighborhood', 'OverallQual', 'TotalBsmtSF', 'GrLivArea', 'Bedroom/Bathroom']\n",
    "\n",
    "X_train, X_test, Y_train, Y_test = train_test_split(df_X.loc[:, features_forest], df['SalePrice'], test_size=0.3, random_state=42)\n",
    "forest.fit(X_train,Y_train)\n",
    "print(\"train R^2: %f\" %forest.score(X_train,Y_train))\n",
    "print(\"test R^2: %f\"%forest.score(X_test,Y_test))\n",
    "\n",
    "forest.fit(df_X.loc[:, features_forest], df['SalePrice'])\n",
    "forest_predicted = forest.predict(df_X.loc[:, features_forest])"
   ]
  },
  {
   "cell_type": "code",
   "execution_count": 60,
   "metadata": {},
   "outputs": [
    {
     "data": {
      "text/html": [
       "<div>\n",
       "<style scoped>\n",
       "    .dataframe tbody tr th:only-of-type {\n",
       "        vertical-align: middle;\n",
       "    }\n",
       "\n",
       "    .dataframe tbody tr th {\n",
       "        vertical-align: top;\n",
       "    }\n",
       "\n",
       "    .dataframe thead th {\n",
       "        text-align: right;\n",
       "    }\n",
       "</style>\n",
       "<table border=\"1\" class=\"dataframe\">\n",
       "  <thead>\n",
       "    <tr style=\"text-align: right;\">\n",
       "      <th></th>\n",
       "      <th>Lasso_Predicted</th>\n",
       "      <th>GBM_Predicted</th>\n",
       "      <th>Forest_Predicted</th>\n",
       "    </tr>\n",
       "  </thead>\n",
       "  <tbody>\n",
       "    <tr>\n",
       "      <th>0</th>\n",
       "      <td>222399.707129</td>\n",
       "      <td>202969.202377</td>\n",
       "      <td>205014.00000</td>\n",
       "    </tr>\n",
       "    <tr>\n",
       "      <th>1</th>\n",
       "      <td>215071.504844</td>\n",
       "      <td>180309.364443</td>\n",
       "      <td>183415.50000</td>\n",
       "    </tr>\n",
       "    <tr>\n",
       "      <th>2</th>\n",
       "      <td>225248.311590</td>\n",
       "      <td>212086.406423</td>\n",
       "      <td>214722.78000</td>\n",
       "    </tr>\n",
       "    <tr>\n",
       "      <th>3</th>\n",
       "      <td>204392.745208</td>\n",
       "      <td>196812.504746</td>\n",
       "      <td>155947.40000</td>\n",
       "    </tr>\n",
       "    <tr>\n",
       "      <th>4</th>\n",
       "      <td>277106.700716</td>\n",
       "      <td>299348.083703</td>\n",
       "      <td>252787.00000</td>\n",
       "    </tr>\n",
       "    <tr>\n",
       "      <th>...</th>\n",
       "      <td>...</td>\n",
       "      <td>...</td>\n",
       "      <td>...</td>\n",
       "    </tr>\n",
       "    <tr>\n",
       "      <th>1447</th>\n",
       "      <td>168897.552493</td>\n",
       "      <td>182342.482040</td>\n",
       "      <td>175652.00000</td>\n",
       "    </tr>\n",
       "    <tr>\n",
       "      <th>1448</th>\n",
       "      <td>213385.631232</td>\n",
       "      <td>213036.942061</td>\n",
       "      <td>210889.00000</td>\n",
       "    </tr>\n",
       "    <tr>\n",
       "      <th>1449</th>\n",
       "      <td>260866.475145</td>\n",
       "      <td>229657.882228</td>\n",
       "      <td>257778.59000</td>\n",
       "    </tr>\n",
       "    <tr>\n",
       "      <th>1450</th>\n",
       "      <td>136444.062257</td>\n",
       "      <td>132930.823352</td>\n",
       "      <td>146651.26875</td>\n",
       "    </tr>\n",
       "    <tr>\n",
       "      <th>1451</th>\n",
       "      <td>144863.059273</td>\n",
       "      <td>135474.527417</td>\n",
       "      <td>145548.00000</td>\n",
       "    </tr>\n",
       "  </tbody>\n",
       "</table>\n",
       "<p>1452 rows × 3 columns</p>\n",
       "</div>"
      ],
      "text/plain": [
       "      Lasso_Predicted  GBM_Predicted  Forest_Predicted\n",
       "0       222399.707129  202969.202377      205014.00000\n",
       "1       215071.504844  180309.364443      183415.50000\n",
       "2       225248.311590  212086.406423      214722.78000\n",
       "3       204392.745208  196812.504746      155947.40000\n",
       "4       277106.700716  299348.083703      252787.00000\n",
       "...               ...            ...               ...\n",
       "1447    168897.552493  182342.482040      175652.00000\n",
       "1448    213385.631232  213036.942061      210889.00000\n",
       "1449    260866.475145  229657.882228      257778.59000\n",
       "1450    136444.062257  132930.823352      146651.26875\n",
       "1451    144863.059273  135474.527417      145548.00000\n",
       "\n",
       "[1452 rows x 3 columns]"
      ]
     },
     "execution_count": 60,
     "metadata": {},
     "output_type": "execute_result"
    }
   ],
   "source": [
    "df_stack = pd.DataFrame({'Lasso_Predicted': lasso_predicted, 'GBM_Predicted': gbm_predicted, 'Forest_Predicted': forest_predicted})\n",
    "df_stack"
   ]
  },
  {
   "cell_type": "code",
   "execution_count": 61,
   "metadata": {},
   "outputs": [
    {
     "name": "stdout",
     "output_type": "stream",
     "text": [
      "train R^2: 0.984575\n",
      "test R^2: 0.982115\n"
     ]
    }
   ],
   "source": [
    "lm = LinearRegression()\n",
    "\n",
    "X_train, X_test, Y_train, Y_test = train_test_split(df_stack, df['SalePrice'], test_size=0.3, random_state=42)\n",
    "lm.fit(X_train,Y_train)\n",
    "print(\"train R^2: %f\" %lm.score(X_train,Y_train))\n",
    "print(\"test R^2: %f\"%lm.score(X_test,Y_test))"
   ]
  },
  {
   "cell_type": "code",
   "execution_count": 62,
   "metadata": {},
   "outputs": [
    {
     "data": {
      "text/plain": [
       "array(['3SsnPorch', 'Bedroom/Bathroom', 'BedroomAbvGr', 'BsmtExposure',\n",
       "       'BsmtFinType1', 'BsmtQual', 'ExterQual', 'Exterior1st',\n",
       "       'Fireplaces', 'Functional', 'GarageCars', 'GarageFinish',\n",
       "       'GarageYrBlt', 'GrLivArea', 'KitchenAbvGr', 'KitchenQual',\n",
       "       'LotArea', 'LotConfig', 'MasVnrArea', 'Neighborhood',\n",
       "       'OverallCond', 'OverallQual', 'SaleCondition', 'ScreenPorch',\n",
       "       'TotRmsAbvGrd', 'TotalBath', 'TotalBsmtSF', 'WoodDeckSF',\n",
       "       'YearRemodAdd'], dtype='<U16')"
      ]
     },
     "execution_count": 62,
     "metadata": {},
     "output_type": "execute_result"
    }
   ],
   "source": [
    "features_used = np.unique(np.array(features_lasso + features_gbm + features_forest))\n",
    "remove_dummify = lambda x: x.split('_', 1)[0]\n",
    "features_used = np.unique(np.array([remove_dummify(x) for x in features_used]))\n",
    "features_used"
   ]
  },
  {
   "cell_type": "code",
   "execution_count": 63,
   "metadata": {},
   "outputs": [
    {
     "data": {
      "text/plain": [
       "Int64Index([1461, 1462, 1463, 1464, 1465, 1466, 1467, 1468, 1469, 1470,\n",
       "            ...\n",
       "            2910, 2911, 2912, 2913, 2914, 2915, 2916, 2917, 2918, 2919],\n",
       "           dtype='int64', name='Id', length=1459)"
      ]
     },
     "execution_count": 63,
     "metadata": {},
     "output_type": "execute_result"
    }
   ],
   "source": [
    "test_final = pd.read_csv('data/test_clean.csv', index_col=0)\n",
    "test_stack = pd.DataFrame({'Lasso_Predicted': lasso.predict(test_final[features_lasso]), \n",
    "                           'GBM_Predicted': gbm.predict(test_final[features_gbm]), \n",
    "                           'Forest_Predicted': forest.predict(test_final[features_forest])})\n",
    "test_predictions = pd.DataFrame({'SalePrice': lm.predict(test_stack)}).set_index(test_final.index)\n",
    "test_final.index"
   ]
  },
  {
   "cell_type": "code",
   "execution_count": 64,
   "metadata": {},
   "outputs": [],
   "source": [
    "test_predictions.to_csv('data/predictions.csv')"
   ]
  }
 ],
 "metadata": {
  "kernelspec": {
   "display_name": "Python 3",
   "language": "python",
   "name": "python3"
  },
  "language_info": {
   "codemirror_mode": {
    "name": "ipython",
    "version": 3
   },
   "file_extension": ".py",
   "mimetype": "text/x-python",
   "name": "python",
   "nbconvert_exporter": "python",
   "pygments_lexer": "ipython3",
   "version": "3.7.3"
  }
 },
 "nbformat": 4,
 "nbformat_minor": 2
}
