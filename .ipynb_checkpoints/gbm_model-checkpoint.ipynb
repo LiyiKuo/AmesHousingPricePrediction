{
 "cells": [
  {
   "cell_type": "code",
   "execution_count": 11,
   "metadata": {},
   "outputs": [],
   "source": [
    "import pandas as pd\n",
    "import numpy as np\n",
    "import math\n",
    "import re\n",
    "import seaborn as sns\n",
    "from matplotlib import pyplot as plt\n",
    "import sklearn.model_selection as ms\n",
    "from sklearn.ensemble import GradientBoostingRegressor\n",
    "from sklearn.model_selection import train_test_split"
   ]
  },
  {
   "cell_type": "code",
   "execution_count": 2,
   "metadata": {},
   "outputs": [
    {
     "data": {
      "text/plain": [
       "GradientBoostingRegressor(alpha=0.9, criterion='friedman_mse', init=None,\n",
       "                          learning_rate=0.01, loss='ls', max_depth=2,\n",
       "                          max_features=2, max_leaf_nodes=None,\n",
       "                          min_impurity_decrease=0.01, min_impurity_split=None,\n",
       "                          min_samples_leaf=1, min_samples_split=2,\n",
       "                          min_weight_fraction_leaf=0.0, n_estimators=500,\n",
       "                          n_iter_no_change=None, presort='auto',\n",
       "                          random_state=None, subsample=0.7, tol=0.0001,\n",
       "                          validation_fraction=0.1, verbose=1, warm_start=False)"
      ]
     },
     "execution_count": 2,
     "metadata": {},
     "output_type": "execute_result"
    }
   ],
   "source": [
    "gbm = GradientBoostingRegressor()\n",
    "\n",
    "gbm.set_params(learning_rate=0.01, n_estimators=500, verbose=1, \n",
    "               subsample=0.7, warm_start=False, loss='ls', max_depth=2, \n",
    "               max_features=2, min_impurity_decrease=0.01)"
   ]
  },
  {
   "cell_type": "code",
   "execution_count": 3,
   "metadata": {},
   "outputs": [],
   "source": [
    "df = pd.read_csv('data/train_cleanV2.csv')"
   ]
  },
  {
   "cell_type": "code",
   "execution_count": 4,
   "metadata": {},
   "outputs": [],
   "source": [
    "df_X = df.loc[:,(df.columns != 'Id') & (df.columns != 'SalePrice')]"
   ]
  },
  {
   "cell_type": "code",
   "execution_count": 5,
   "metadata": {},
   "outputs": [
    {
     "name": "stdout",
     "output_type": "stream",
     "text": [
      "      Iter       Train Loss      OOB Improve   Remaining Time \n",
      "         1  6145503327.3689    19152949.4608            4.00s\n",
      "         2  6225977594.1683    18326261.2045            1.99s\n",
      "         3  6056396931.6650    49820568.3007            1.33s\n",
      "         4  6536869408.5938    28993635.5927            1.49s\n",
      "         5  6424732886.0177    42115490.9215            1.19s\n",
      "         6  5815958695.2753    35909917.6968            1.32s\n",
      "         7  5931705837.6316     5169286.9431            1.13s\n",
      "         8  5474490948.4295    20394656.5485            0.99s\n",
      "         9  6024940904.9348    31612369.6929            1.09s\n",
      "        10  6256766530.4894    32028016.7877            0.98s\n",
      "        20  5731295287.4444    37616107.7152            0.67s\n",
      "        30  5204614698.0189    46840536.7129            0.56s\n",
      "        40  5280020206.1990    42148719.8796            0.46s\n",
      "        50  4674809687.0084    14846873.2645            0.40s\n",
      "        60  4281712545.3883    30076917.2251            0.38s\n",
      "        70  4298902868.6202    41886790.2903            0.34s\n",
      "        80  4029050205.2991    14410196.3253            0.32s\n",
      "        90  3749669128.0083     2596473.2004            0.31s\n",
      "       100  3891619424.9692    23854655.9737            0.29s\n",
      "       200  2461937044.8072      668241.1067            0.18s\n",
      "       300  1631512728.8082      819202.5059            0.11s\n",
      "       400  1477069814.1319     3855634.0678            0.05s\n",
      "       500  1124737700.6404     1565881.9361            0.00s\n"
     ]
    },
    {
     "data": {
      "text/plain": [
       "GradientBoostingRegressor(alpha=0.9, criterion='friedman_mse', init=None,\n",
       "                          learning_rate=0.01, loss='ls', max_depth=2,\n",
       "                          max_features=2, max_leaf_nodes=None,\n",
       "                          min_impurity_decrease=0.01, min_impurity_split=None,\n",
       "                          min_samples_leaf=1, min_samples_split=2,\n",
       "                          min_weight_fraction_leaf=0.0, n_estimators=500,\n",
       "                          n_iter_no_change=None, presort='auto',\n",
       "                          random_state=None, subsample=0.7, tol=0.0001,\n",
       "                          validation_fraction=0.1, verbose=1, warm_start=False)"
      ]
     },
     "execution_count": 5,
     "metadata": {},
     "output_type": "execute_result"
    }
   ],
   "source": [
    "gbm.fit(df_X, df['SalePrice'])"
   ]
  },
  {
   "cell_type": "code",
   "execution_count": 7,
   "metadata": {},
   "outputs": [
    {
     "data": {
      "text/plain": [
       "0.8183878283427393"
      ]
     },
     "execution_count": 7,
     "metadata": {},
     "output_type": "execute_result"
    }
   ],
   "source": [
    "gbm.score(df_X, df['SalePrice'])"
   ]
  },
  {
   "cell_type": "code",
   "execution_count": 8,
   "metadata": {},
   "outputs": [
    {
     "data": {
      "text/plain": [
       "[('OverallQual', 0.07233339567131906),\n",
       " ('GarageCars', 0.05788578028510459),\n",
       " ('TotalBsmtSF', 0.055705047819073476),\n",
       " ('ExterQual', 0.05338334739000196),\n",
       " ('GrLivArea', 0.04936977750418658),\n",
       " ('GarageArea', 0.04841882135514593),\n",
       " ('BsmtQual', 0.04594082780739021),\n",
       " ('Neighborhood', 0.04450455499755507),\n",
       " ('TotRmsAbvGrd', 0.04097257925053187),\n",
       " ('GarageFinish', 0.039547123292338435),\n",
       " ('FireplaceQu', 0.039184225578486644),\n",
       " ('TotalBath', 0.037737919496262325),\n",
       " ('KitchenQual', 0.03521213582373916),\n",
       " ('LotArea', 0.029882397194142773),\n",
       " ('Foundation_PConc', 0.02941539281412704),\n",
       " ('YearRemodAdd', 0.027222877895244343),\n",
       " ('Fireplaces', 0.025332118748858958),\n",
       " ('OpenPorchSF', 0.02483336531657105),\n",
       " ('MasVnrArea', 0.021225174961994657),\n",
       " ('Bedroom/Bathroom', 0.016703425288615393),\n",
       " ('YearBuilt', 0.01597608325496513),\n",
       " ('BsmtExposure_Gd', 0.015922230248629442),\n",
       " ('BsmtFinType1', 0.013937706052998235),\n",
       " ('HeatingQC', 0.012716196195054796),\n",
       " ('SaleCondition_Partial', 0.011532399593592991),\n",
       " ('MasVnrType_None', 0.011362454194551667),\n",
       " ('WoodDeckSF', 0.011184402706272042),\n",
       " ('LotFrontage', 0.011129948247590494),\n",
       " ('GarageYrBlt', 0.010729368124770947)]"
      ]
     },
     "execution_count": 8,
     "metadata": {},
     "output_type": "execute_result"
    }
   ],
   "source": [
    "feature_importance = sorted(list(zip(list(df_X.columns), list(gbm.feature_importances_))), key=lambda tup: tup[1], reverse=True)\n",
    "top_features = list(filter(lambda tup: tup[1] > 0.01, feature_importance))\n",
    "top_features"
   ]
  },
  {
   "cell_type": "code",
   "execution_count": 9,
   "metadata": {},
   "outputs": [
    {
     "data": {
      "text/plain": [
       "29"
      ]
     },
     "execution_count": 9,
     "metadata": {},
     "output_type": "execute_result"
    }
   ],
   "source": [
    "len(top_features)"
   ]
  },
  {
   "cell_type": "code",
   "execution_count": 14,
   "metadata": {
    "scrolled": true
   },
   "outputs": [
    {
     "name": "stdout",
     "output_type": "stream",
     "text": [
      "      Iter       Train Loss      OOB Improve   Remaining Time \n",
      "         1  5808999689.7364    41528165.1599            0.00s\n",
      "         2  6211240787.6307    39456843.8875            1.00s\n",
      "         3  6480194373.8052    22901728.2991            0.66s\n",
      "         4  6728183187.6478    15038378.1247            0.50s\n",
      "         5  6106258639.9275    46612667.9886            0.79s\n",
      "         6  5686337051.5550    47559878.7218            0.66s\n",
      "         7  6223011205.3881    13568190.4165            0.56s\n",
      "         8  5558421089.0908    12412930.5835            0.74s\n",
      "         9  5625444169.4053    29010250.4165            0.66s\n",
      "        10  6355168293.2764    32066607.9065            0.59s\n",
      "        20  5712736167.5908    31359133.5511            0.48s\n",
      "        30  4972534417.1490    33600336.7761            0.38s\n",
      "        40  4827451686.9118    11430746.4937            0.41s\n",
      "        50  4770482377.1244    15802305.1683            0.40s\n",
      "        60  4844570085.2297    23478819.5593            0.35s\n",
      "        70  4172827410.4706    33530568.1129            0.32s\n",
      "        80  4239205882.5513    34905304.5558            0.32s\n",
      "        90  3747555228.3158    28727212.4362            0.29s\n",
      "       100  3774466354.8177    20304146.0325            0.29s\n",
      "       200  2389078930.9614    11114744.0360            0.17s\n",
      "       300  1658544211.5558     7022628.9041            0.10s\n",
      "       400  1576897151.2276      537718.3781            0.05s\n",
      "       500  1229954895.2152      854729.4433            0.00s\n",
      "train R^2: 0.817849\n",
      "test R^2: 0.799768\n"
     ]
    }
   ],
   "source": [
    "X_train, X_test, Y_train, Y_test = train_test_split(df_X, df['SalePrice'], test_size=0.3, random_state=42)\n",
    "\n",
    "gbm.fit(X_train,Y_train)\n",
    "print(\"train R^2: %f\" %gbm.score(X_train,Y_train))\n",
    "print(\"test R^2: %f\"%gbm.score(X_test,Y_test))"
   ]
  },
  {
   "cell_type": "code",
   "execution_count": 22,
   "metadata": {
    "scrolled": true
   },
   "outputs": [
    {
     "name": "stderr",
     "output_type": "stream",
     "text": [
      "[Parallel(n_jobs=-1)]: Using backend LokyBackend with 4 concurrent workers.\n",
      "[Parallel(n_jobs=-1)]: Done  33 tasks      | elapsed:   18.7s\n",
      "[Parallel(n_jobs=-1)]: Done  75 out of  75 | elapsed:   36.4s finished\n",
      "\n",
      "[2019-11-15 01:43:16] Features: 1/1 -- score: 0.6758001989691046"
     ]
    },
    {
     "name": "stdout",
     "output_type": "stream",
     "text": [
      "Features: [3]\n",
      "Train Score: 0.6818100992645529\n",
      "Test Score: 0.6781050795358382\n"
     ]
    },
    {
     "name": "stderr",
     "output_type": "stream",
     "text": [
      "[Parallel(n_jobs=-1)]: Using backend LokyBackend with 4 concurrent workers.\n",
      "[Parallel(n_jobs=-1)]: Done  33 tasks      | elapsed:   18.1s\n",
      "[Parallel(n_jobs=-1)]: Done  75 out of  75 | elapsed:   37.5s finished\n",
      "\n",
      "[2019-11-15 01:43:55] Features: 1/2 -- score: 0.6759056314738714[Parallel(n_jobs=-1)]: Using backend LokyBackend with 4 concurrent workers.\n",
      "[Parallel(n_jobs=-1)]: Done  33 tasks      | elapsed:   16.3s\n",
      "[Parallel(n_jobs=-1)]: Done  74 out of  74 | elapsed:   34.3s finished\n",
      "\n",
      "[2019-11-15 01:44:30] Features: 2/2 -- score: 0.765792938534549"
     ]
    },
    {
     "name": "stdout",
     "output_type": "stream",
     "text": [
      "Features: [3, 15]\n",
      "Train Score: 0.8096267902468401\n",
      "Test Score: 0.7770558190026154\n"
     ]
    },
    {
     "name": "stderr",
     "output_type": "stream",
     "text": [
      "[Parallel(n_jobs=-1)]: Using backend LokyBackend with 4 concurrent workers.\n",
      "[Parallel(n_jobs=-1)]: Done  33 tasks      | elapsed:   18.3s\n",
      "[Parallel(n_jobs=-1)]: Done  75 out of  75 | elapsed:   37.4s finished\n",
      "\n",
      "[2019-11-15 01:45:08] Features: 1/3 -- score: 0.6756601027301047[Parallel(n_jobs=-1)]: Using backend LokyBackend with 4 concurrent workers.\n",
      "[Parallel(n_jobs=-1)]: Done  33 tasks      | elapsed:   16.8s\n",
      "[Parallel(n_jobs=-1)]: Done  74 out of  74 | elapsed:   37.5s finished\n",
      "\n",
      "[2019-11-15 01:45:45] Features: 2/3 -- score: 0.7667288349051995[Parallel(n_jobs=-1)]: Using backend LokyBackend with 4 concurrent workers.\n",
      "[Parallel(n_jobs=-1)]: Done  33 tasks      | elapsed:   19.8s\n",
      "[Parallel(n_jobs=-1)]: Done  73 out of  73 | elapsed:   42.3s finished\n",
      "\n",
      "[2019-11-15 01:46:28] Features: 3/3 -- score: 0.8212615431795731"
     ]
    },
    {
     "name": "stdout",
     "output_type": "stream",
     "text": [
      "Features: [2, 3, 15]\n",
      "Train Score: 0.8460142010561562\n",
      "Test Score: 0.8251057673400434\n"
     ]
    },
    {
     "name": "stderr",
     "output_type": "stream",
     "text": [
      "[Parallel(n_jobs=-1)]: Using backend LokyBackend with 4 concurrent workers.\n",
      "[Parallel(n_jobs=-1)]: Done  33 tasks      | elapsed:   22.4s\n",
      "[Parallel(n_jobs=-1)]: Done  75 out of  75 | elapsed:   44.2s finished\n",
      "\n",
      "[2019-11-15 01:47:14] Features: 1/4 -- score: 0.6758165906101923[Parallel(n_jobs=-1)]: Using backend LokyBackend with 4 concurrent workers.\n",
      "[Parallel(n_jobs=-1)]: Done  33 tasks      | elapsed:   18.4s\n",
      "[Parallel(n_jobs=-1)]: Done  74 out of  74 | elapsed:   40.7s finished\n",
      "\n",
      "[2019-11-15 01:47:54] Features: 2/4 -- score: 0.7672726659160463[Parallel(n_jobs=-1)]: Using backend LokyBackend with 4 concurrent workers.\n",
      "[Parallel(n_jobs=-1)]: Done  33 tasks      | elapsed:   23.3s\n",
      "[Parallel(n_jobs=-1)]: Done  73 out of  73 | elapsed:   53.0s finished\n",
      "\n",
      "[2019-11-15 01:48:48] Features: 3/4 -- score: 0.8213463772126175[Parallel(n_jobs=-1)]: Using backend LokyBackend with 4 concurrent workers.\n",
      "[Parallel(n_jobs=-1)]: Done  33 tasks      | elapsed:   20.9s\n",
      "[Parallel(n_jobs=-1)]: Done  72 out of  72 | elapsed:   41.5s finished\n",
      "\n",
      "[2019-11-15 01:49:29] Features: 4/4 -- score: 0.8382973418829229"
     ]
    },
    {
     "name": "stdout",
     "output_type": "stream",
     "text": [
      "Features: [2, 3, 13, 15]\n",
      "Train Score: 0.8702099831424677\n",
      "Test Score: 0.840776416516126\n"
     ]
    },
    {
     "name": "stderr",
     "output_type": "stream",
     "text": [
      "[Parallel(n_jobs=-1)]: Using backend LokyBackend with 4 concurrent workers.\n",
      "[Parallel(n_jobs=-1)]: Done  33 tasks      | elapsed:   16.3s\n",
      "[Parallel(n_jobs=-1)]: Done  75 out of  75 | elapsed:   36.4s finished\n",
      "\n",
      "[2019-11-15 01:50:06] Features: 1/5 -- score: 0.6752076095071577[Parallel(n_jobs=-1)]: Using backend LokyBackend with 4 concurrent workers.\n",
      "[Parallel(n_jobs=-1)]: Done  33 tasks      | elapsed:   22.7s\n",
      "[Parallel(n_jobs=-1)]: Done  74 out of  74 | elapsed:   47.9s finished\n",
      "\n",
      "[2019-11-15 01:50:54] Features: 2/5 -- score: 0.7668698968670024[Parallel(n_jobs=-1)]: Using backend LokyBackend with 4 concurrent workers.\n",
      "[Parallel(n_jobs=-1)]: Done  33 tasks      | elapsed:   20.2s\n",
      "[Parallel(n_jobs=-1)]: Done  73 out of  73 | elapsed:   41.3s finished\n",
      "\n",
      "[2019-11-15 01:51:36] Features: 3/5 -- score: 0.8227320883277741[Parallel(n_jobs=-1)]: Using backend LokyBackend with 4 concurrent workers.\n",
      "[Parallel(n_jobs=-1)]: Done  33 tasks      | elapsed:   21.3s\n",
      "[Parallel(n_jobs=-1)]: Done  72 out of  72 | elapsed:   46.3s finished\n",
      "\n",
      "[2019-11-15 01:52:22] Features: 4/5 -- score: 0.8388367250675468[Parallel(n_jobs=-1)]: Using backend LokyBackend with 4 concurrent workers.\n",
      "[Parallel(n_jobs=-1)]: Done  33 tasks      | elapsed:   22.8s\n",
      "[Parallel(n_jobs=-1)]: Done  71 out of  71 | elapsed:   44.3s finished\n",
      "\n",
      "[2019-11-15 01:53:07] Features: 5/5 -- score: 0.8471730527568224"
     ]
    },
    {
     "name": "stdout",
     "output_type": "stream",
     "text": [
      "Features: [2, 3, 13, 15, 43]\n",
      "Train Score: 0.8763416922095936\n",
      "Test Score: 0.8508212492187154\n"
     ]
    },
    {
     "name": "stderr",
     "output_type": "stream",
     "text": [
      "[Parallel(n_jobs=-1)]: Using backend LokyBackend with 4 concurrent workers.\n",
      "[Parallel(n_jobs=-1)]: Done  33 tasks      | elapsed:   19.2s\n",
      "[Parallel(n_jobs=-1)]: Done  75 out of  75 | elapsed:   42.5s finished\n",
      "\n",
      "[2019-11-15 01:53:50] Features: 1/6 -- score: 0.6758582879171577[Parallel(n_jobs=-1)]: Using backend LokyBackend with 4 concurrent workers.\n",
      "[Parallel(n_jobs=-1)]: Done  33 tasks      | elapsed:   41.4s\n",
      "[Parallel(n_jobs=-1)]: Done  74 out of  74 | elapsed:  1.3min finished\n",
      "\n",
      "[2019-11-15 01:55:09] Features: 2/6 -- score: 0.7653604809604928[Parallel(n_jobs=-1)]: Using backend LokyBackend with 4 concurrent workers.\n",
      "[Parallel(n_jobs=-1)]: Done  33 tasks      | elapsed:   37.3s\n",
      "[Parallel(n_jobs=-1)]: Done  73 out of  73 | elapsed:  1.4min finished\n",
      "\n",
      "[2019-11-15 01:56:31] Features: 3/6 -- score: 0.8199756474113562[Parallel(n_jobs=-1)]: Using backend LokyBackend with 4 concurrent workers.\n",
      "[Parallel(n_jobs=-1)]: Done  33 tasks      | elapsed:   57.0s\n",
      "[Parallel(n_jobs=-1)]: Done  72 out of  72 | elapsed:  1.7min finished\n",
      "\n",
      "[2019-11-15 01:58:11] Features: 4/6 -- score: 0.8388114923420036[Parallel(n_jobs=-1)]: Using backend LokyBackend with 4 concurrent workers.\n",
      "[Parallel(n_jobs=-1)]: Done  33 tasks      | elapsed:   43.7s\n",
      "[Parallel(n_jobs=-1)]: Done  71 out of  71 | elapsed:  1.3min finished\n",
      "\n",
      "[2019-11-15 01:59:29] Features: 5/6 -- score: 0.8487585126107383[Parallel(n_jobs=-1)]: Using backend LokyBackend with 4 concurrent workers.\n",
      "[Parallel(n_jobs=-1)]: Done  33 tasks      | elapsed:   36.3s\n",
      "[Parallel(n_jobs=-1)]: Done  70 out of  70 | elapsed:  1.2min finished\n",
      "\n",
      "[2019-11-15 02:00:40] Features: 6/6 -- score: 0.8488467888280843"
     ]
    },
    {
     "name": "stdout",
     "output_type": "stream",
     "text": [
      "Features: [2, 3, 6, 13, 15, 43]\n",
      "Train Score: 0.8733931782155427\n",
      "Test Score: 0.8524511391018921\n"
     ]
    },
    {
     "name": "stderr",
     "output_type": "stream",
     "text": [
      "[Parallel(n_jobs=-1)]: Using backend LokyBackend with 4 concurrent workers.\n",
      "[Parallel(n_jobs=-1)]: Done  33 tasks      | elapsed:   33.8s\n",
      "[Parallel(n_jobs=-1)]: Done  75 out of  75 | elapsed:  1.2min finished\n",
      "\n",
      "[2019-11-15 02:01:55] Features: 1/7 -- score: 0.6757604897698309[Parallel(n_jobs=-1)]: Using backend LokyBackend with 4 concurrent workers.\n",
      "[Parallel(n_jobs=-1)]: Done  33 tasks      | elapsed:   36.9s\n",
      "[Parallel(n_jobs=-1)]: Done  74 out of  74 | elapsed:  1.2min finished\n",
      "\n",
      "[2019-11-15 02:03:08] Features: 2/7 -- score: 0.7645963597482321[Parallel(n_jobs=-1)]: Using backend LokyBackend with 4 concurrent workers.\n",
      "[Parallel(n_jobs=-1)]: Done  33 tasks      | elapsed:   33.9s\n",
      "[Parallel(n_jobs=-1)]: Done  73 out of  73 | elapsed:  1.2min finished\n",
      "\n",
      "[2019-11-15 02:04:20] Features: 3/7 -- score: 0.8215665915460404[Parallel(n_jobs=-1)]: Using backend LokyBackend with 4 concurrent workers.\n",
      "[Parallel(n_jobs=-1)]: Done  33 tasks      | elapsed:   33.8s\n",
      "[Parallel(n_jobs=-1)]: Done  72 out of  72 | elapsed:   59.2s finished\n",
      "\n",
      "[2019-11-15 02:05:19] Features: 4/7 -- score: 0.8383513133182344[Parallel(n_jobs=-1)]: Using backend LokyBackend with 4 concurrent workers.\n",
      "[Parallel(n_jobs=-1)]: Done  33 tasks      | elapsed:   21.7s\n",
      "[Parallel(n_jobs=-1)]: Done  71 out of  71 | elapsed:   40.0s finished\n",
      "\n",
      "[2019-11-15 02:05:59] Features: 5/7 -- score: 0.8487754264619115[Parallel(n_jobs=-1)]: Using backend LokyBackend with 4 concurrent workers.\n",
      "[Parallel(n_jobs=-1)]: Done  33 tasks      | elapsed:   15.7s\n",
      "[Parallel(n_jobs=-1)]: Done  70 out of  70 | elapsed:   31.3s finished\n",
      "\n",
      "[2019-11-15 02:06:31] Features: 6/7 -- score: 0.8508047615070581[Parallel(n_jobs=-1)]: Using backend LokyBackend with 4 concurrent workers.\n",
      "[Parallel(n_jobs=-1)]: Done  33 tasks      | elapsed:   18.3s\n",
      "[Parallel(n_jobs=-1)]: Done  69 out of  69 | elapsed:   35.4s finished\n",
      "\n",
      "[2019-11-15 02:07:06] Features: 7/7 -- score: 0.8478042537532419"
     ]
    },
    {
     "name": "stdout",
     "output_type": "stream",
     "text": [
      "Features: [2, 3, 13, 15, 25, 43, 70]\n",
      "Train Score: 0.8720112166841893\n",
      "Test Score: 0.847354554802255\n"
     ]
    },
    {
     "name": "stderr",
     "output_type": "stream",
     "text": [
      "[Parallel(n_jobs=-1)]: Using backend LokyBackend with 4 concurrent workers.\n",
      "[Parallel(n_jobs=-1)]: Done  33 tasks      | elapsed:   15.6s\n",
      "[Parallel(n_jobs=-1)]: Done  75 out of  75 | elapsed:   33.6s finished\n",
      "\n",
      "[2019-11-15 02:07:42] Features: 1/8 -- score: 0.6761126000485229[Parallel(n_jobs=-1)]: Using backend LokyBackend with 4 concurrent workers.\n",
      "[Parallel(n_jobs=-1)]: Done  33 tasks      | elapsed:   16.2s\n",
      "[Parallel(n_jobs=-1)]: Done  74 out of  74 | elapsed:   34.5s finished\n",
      "\n",
      "[2019-11-15 02:08:16] Features: 2/8 -- score: 0.7663236322277402[Parallel(n_jobs=-1)]: Using backend LokyBackend with 4 concurrent workers.\n",
      "[Parallel(n_jobs=-1)]: Done  33 tasks      | elapsed:   16.7s\n",
      "[Parallel(n_jobs=-1)]: Done  73 out of  73 | elapsed:   39.3s finished\n",
      "\n",
      "[2019-11-15 02:08:56] Features: 3/8 -- score: 0.821371366739536[Parallel(n_jobs=-1)]: Using backend LokyBackend with 4 concurrent workers.\n",
      "[Parallel(n_jobs=-1)]: Done  33 tasks      | elapsed:   17.1s\n",
      "[Parallel(n_jobs=-1)]: Done  72 out of  72 | elapsed:   34.3s finished\n",
      "\n",
      "[2019-11-15 02:09:30] Features: 4/8 -- score: 0.8367640164312198[Parallel(n_jobs=-1)]: Using backend LokyBackend with 4 concurrent workers.\n",
      "[Parallel(n_jobs=-1)]: Done  33 tasks      | elapsed:   16.6s\n",
      "[Parallel(n_jobs=-1)]: Done  71 out of  71 | elapsed:   33.5s finished\n",
      "\n",
      "[2019-11-15 02:10:04] Features: 5/8 -- score: 0.8495768964789271[Parallel(n_jobs=-1)]: Using backend LokyBackend with 4 concurrent workers.\n",
      "[Parallel(n_jobs=-1)]: Done  33 tasks      | elapsed:   16.8s\n",
      "[Parallel(n_jobs=-1)]: Done  70 out of  70 | elapsed:   33.4s finished\n",
      "\n",
      "[2019-11-15 02:10:37] Features: 6/8 -- score: 0.8488975244304564[Parallel(n_jobs=-1)]: Using backend LokyBackend with 4 concurrent workers.\n",
      "[Parallel(n_jobs=-1)]: Done  33 tasks      | elapsed:   20.8s\n",
      "[Parallel(n_jobs=-1)]: Done  69 out of  69 | elapsed:   37.2s finished\n",
      "\n",
      "[2019-11-15 02:11:14] Features: 7/8 -- score: 0.8501675067925636[Parallel(n_jobs=-1)]: Using backend LokyBackend with 4 concurrent workers.\n",
      "[Parallel(n_jobs=-1)]: Done  33 tasks      | elapsed:   16.8s\n",
      "[Parallel(n_jobs=-1)]: Done  68 out of  68 | elapsed:   32.1s finished\n",
      "\n",
      "[2019-11-15 02:11:47] Features: 8/8 -- score: 0.8548188846693202"
     ]
    },
    {
     "name": "stdout",
     "output_type": "stream",
     "text": [
      "Features: [2, 3, 6, 13, 15, 21, 25, 43]\n",
      "Train Score: 0.8783506955672713\n",
      "Test Score: 0.8574139316712251\n"
     ]
    },
    {
     "name": "stderr",
     "output_type": "stream",
     "text": [
      "[Parallel(n_jobs=-1)]: Using backend LokyBackend with 4 concurrent workers.\n",
      "[Parallel(n_jobs=-1)]: Done  33 tasks      | elapsed:   18.6s\n",
      "[Parallel(n_jobs=-1)]: Done  75 out of  75 | elapsed:   41.3s finished\n",
      "\n",
      "[2019-11-15 02:12:29] Features: 1/9 -- score: 0.6754891315751828[Parallel(n_jobs=-1)]: Using backend LokyBackend with 4 concurrent workers.\n",
      "[Parallel(n_jobs=-1)]: Done  33 tasks      | elapsed:   21.8s\n",
      "[Parallel(n_jobs=-1)]: Done  74 out of  74 | elapsed:   46.2s finished\n",
      "\n",
      "[2019-11-15 02:13:15] Features: 2/9 -- score: 0.7656562267973904[Parallel(n_jobs=-1)]: Using backend LokyBackend with 4 concurrent workers.\n",
      "[Parallel(n_jobs=-1)]: Done  33 tasks      | elapsed:   20.9s\n",
      "[Parallel(n_jobs=-1)]: Done  73 out of  73 | elapsed:   39.9s finished\n",
      "\n",
      "[2019-11-15 02:13:55] Features: 3/9 -- score: 0.8201849467705224[Parallel(n_jobs=-1)]: Using backend LokyBackend with 4 concurrent workers.\n",
      "[Parallel(n_jobs=-1)]: Done  33 tasks      | elapsed:   17.4s\n",
      "[Parallel(n_jobs=-1)]: Done  72 out of  72 | elapsed:   34.9s finished\n",
      "\n",
      "[2019-11-15 02:14:30] Features: 4/9 -- score: 0.8379150315212195[Parallel(n_jobs=-1)]: Using backend LokyBackend with 4 concurrent workers.\n",
      "[Parallel(n_jobs=-1)]: Done  33 tasks      | elapsed:   20.5s\n",
      "[Parallel(n_jobs=-1)]: Done  71 out of  71 | elapsed:   39.9s finished\n",
      "\n",
      "[2019-11-15 02:15:10] Features: 5/9 -- score: 0.8463463037928161[Parallel(n_jobs=-1)]: Using backend LokyBackend with 4 concurrent workers.\n",
      "[Parallel(n_jobs=-1)]: Done  33 tasks      | elapsed:   18.2s\n",
      "[Parallel(n_jobs=-1)]: Done  70 out of  70 | elapsed:   36.4s finished\n",
      "\n",
      "[2019-11-15 02:15:46] Features: 6/9 -- score: 0.8488056752888842[Parallel(n_jobs=-1)]: Using backend LokyBackend with 4 concurrent workers.\n",
      "[Parallel(n_jobs=-1)]: Done  33 tasks      | elapsed:   18.4s\n",
      "[Parallel(n_jobs=-1)]: Done  69 out of  69 | elapsed:   36.8s finished\n",
      "\n",
      "[2019-11-15 02:16:23] Features: 7/9 -- score: 0.8518386931417534[Parallel(n_jobs=-1)]: Using backend LokyBackend with 4 concurrent workers.\n",
      "[Parallel(n_jobs=-1)]: Done  33 tasks      | elapsed:   19.6s\n",
      "[Parallel(n_jobs=-1)]: Done  68 out of  68 | elapsed:   44.2s finished\n",
      "\n",
      "[2019-11-15 02:17:08] Features: 8/9 -- score: 0.8524165478286099[Parallel(n_jobs=-1)]: Using backend LokyBackend with 4 concurrent workers.\n",
      "[Parallel(n_jobs=-1)]: Done  33 tasks      | elapsed:   19.9s\n",
      "[Parallel(n_jobs=-1)]: Done  67 out of  67 | elapsed:   39.5s finished\n",
      "\n",
      "[2019-11-15 02:17:47] Features: 9/9 -- score: 0.8523282169733009"
     ]
    },
    {
     "name": "stdout",
     "output_type": "stream",
     "text": [
      "Features: [2, 3, 6, 13, 15, 21, 25, 43, 45]\n",
      "Train Score: 0.8739980338650353\n",
      "Test Score: 0.8509547276100827\n"
     ]
    },
    {
     "name": "stderr",
     "output_type": "stream",
     "text": [
      "[Parallel(n_jobs=-1)]: Using backend LokyBackend with 4 concurrent workers.\n",
      "[Parallel(n_jobs=-1)]: Done  33 tasks      | elapsed:   22.1s\n",
      "[Parallel(n_jobs=-1)]: Done  75 out of  75 | elapsed:   45.1s finished\n",
      "\n",
      "[2019-11-15 02:18:34] Features: 1/10 -- score: 0.6757436223531343[Parallel(n_jobs=-1)]: Using backend LokyBackend with 4 concurrent workers.\n",
      "[Parallel(n_jobs=-1)]: Done  33 tasks      | elapsed:   25.5s\n",
      "[Parallel(n_jobs=-1)]: Done  74 out of  74 | elapsed:   47.5s finished\n",
      "\n",
      "[2019-11-15 02:19:21] Features: 2/10 -- score: 0.7657813265080134[Parallel(n_jobs=-1)]: Using backend LokyBackend with 4 concurrent workers.\n",
      "[Parallel(n_jobs=-1)]: Done  33 tasks      | elapsed:   19.1s\n",
      "[Parallel(n_jobs=-1)]: Done  73 out of  73 | elapsed:   40.2s finished\n",
      "\n",
      "[2019-11-15 02:20:02] Features: 3/10 -- score: 0.8203896384360666[Parallel(n_jobs=-1)]: Using backend LokyBackend with 4 concurrent workers.\n",
      "[Parallel(n_jobs=-1)]: Done  33 tasks      | elapsed:   19.5s\n",
      "[Parallel(n_jobs=-1)]: Done  72 out of  72 | elapsed:   41.1s finished\n",
      "\n",
      "[2019-11-15 02:20:43] Features: 4/10 -- score: 0.8382760111810317[Parallel(n_jobs=-1)]: Using backend LokyBackend with 4 concurrent workers.\n",
      "[Parallel(n_jobs=-1)]: Done  33 tasks      | elapsed:   23.1s\n",
      "[Parallel(n_jobs=-1)]: Done  71 out of  71 | elapsed:   45.2s finished\n",
      "\n",
      "[2019-11-15 02:21:28] Features: 5/10 -- score: 0.8464156509833611[Parallel(n_jobs=-1)]: Using backend LokyBackend with 4 concurrent workers.\n",
      "[Parallel(n_jobs=-1)]: Done  33 tasks      | elapsed:   19.4s\n",
      "[Parallel(n_jobs=-1)]: Done  70 out of  70 | elapsed:   38.9s finished\n",
      "\n",
      "[2019-11-15 02:22:07] Features: 6/10 -- score: 0.8491402048787586[Parallel(n_jobs=-1)]: Using backend LokyBackend with 4 concurrent workers.\n",
      "[Parallel(n_jobs=-1)]: Done  33 tasks      | elapsed:   20.3s\n",
      "[Parallel(n_jobs=-1)]: Done  69 out of  69 | elapsed:   42.6s finished\n",
      "\n",
      "[2019-11-15 02:22:50] Features: 7/10 -- score: 0.8476673812986079[Parallel(n_jobs=-1)]: Using backend LokyBackend with 4 concurrent workers.\n",
      "[Parallel(n_jobs=-1)]: Done  33 tasks      | elapsed:   21.9s\n",
      "[Parallel(n_jobs=-1)]: Done  68 out of  68 | elapsed:   41.5s finished\n",
      "\n",
      "[2019-11-15 02:23:31] Features: 8/10 -- score: 0.8490423064520707[Parallel(n_jobs=-1)]: Using backend LokyBackend with 4 concurrent workers.\n",
      "[Parallel(n_jobs=-1)]: Done  33 tasks      | elapsed:   24.5s\n",
      "[Parallel(n_jobs=-1)]: Done  67 out of  67 | elapsed:   47.7s finished\n",
      "\n",
      "[2019-11-15 02:24:19] Features: 9/10 -- score: 0.8480138672145617[Parallel(n_jobs=-1)]: Using backend LokyBackend with 4 concurrent workers.\n",
      "[Parallel(n_jobs=-1)]: Done  33 tasks      | elapsed:   24.5s\n",
      "[Parallel(n_jobs=-1)]: Done  66 out of  66 | elapsed:   49.6s finished\n",
      "\n",
      "[2019-11-15 02:25:09] Features: 10/10 -- score: 0.8485151193723783"
     ]
    },
    {
     "name": "stdout",
     "output_type": "stream",
     "text": [
      "Features: [2, 3, 4, 13, 15, 18, 21, 25, 43, 70]\n",
      "Train Score: 0.8728695347063646\n",
      "Test Score: 0.8494918793922067\n"
     ]
    }
   ],
   "source": [
    "feature_selection = range(1, 11)\n",
    "\n",
    "features = []\n",
    "train_scores = []\n",
    "test_scores = []\n",
    "\n",
    "from mlxtend.feature_selection import SequentialFeatureSelector as sfs\n",
    "\n",
    "for k_features in feature_selection:\n",
    "    gbm.set_params(learning_rate=0.01, n_estimators=500, verbose=0, \n",
    "               subsample=0.7, warm_start=False, loss='ls', max_depth=2, \n",
    "               max_features = 0.03, min_impurity_decrease=0.01)\n",
    "    sfs1 = sfs(gbm,\n",
    "               k_features=k_features,\n",
    "               forward=True,\n",
    "               floating=False,\n",
    "               verbose=2,\n",
    "               scoring='r2',\n",
    "               cv=5,\n",
    "               n_jobs=-1)\n",
    "    sfs1 = sfs1.fit(np.array(df_X), np.array(df['SalePrice']))\n",
    "    feat_cols = list(sfs1.k_feature_idx_)\n",
    "    features.append(feat_cols)\n",
    "    print('Features: ' + str(feat_cols))\n",
    "    gbm.fit(df_X.iloc[:,feat_cols], df['SalePrice'])\n",
    "    train_scores.append(gbm.score(df_X.iloc[:,feat_cols], df['SalePrice']))\n",
    "    print('Train Score: ' + str(train_scores[-1]))\n",
    "    ms_k3 = ms.KFold(n_splits=3)\n",
    "    test_scores.append(np.mean(ms.cross_val_score(estimator=gbm, X=df_X.iloc[:, feat_cols], y=df['SalePrice'], cv=ms_k3)))\n",
    "    print('Test Score: ' + str(test_scores[-1]))"
   ]
  },
  {
   "cell_type": "code",
   "execution_count": 23,
   "metadata": {},
   "outputs": [
    {
     "data": {
      "text/html": [
       "<div>\n",
       "<style scoped>\n",
       "    .dataframe tbody tr th:only-of-type {\n",
       "        vertical-align: middle;\n",
       "    }\n",
       "\n",
       "    .dataframe tbody tr th {\n",
       "        vertical-align: top;\n",
       "    }\n",
       "\n",
       "    .dataframe thead th {\n",
       "        text-align: right;\n",
       "    }\n",
       "</style>\n",
       "<table border=\"1\" class=\"dataframe\">\n",
       "  <thead>\n",
       "    <tr style=\"text-align: right;\">\n",
       "      <th></th>\n",
       "      <th>Neighborhood</th>\n",
       "      <th>OverallQual</th>\n",
       "      <th>OverallCond</th>\n",
       "      <th>TotalBsmtSF</th>\n",
       "      <th>GrLivArea</th>\n",
       "      <th>KitchenQual</th>\n",
       "      <th>Fireplaces</th>\n",
       "      <th>GarageCars</th>\n",
       "      <th>TotalBath</th>\n",
       "      <th>SaleCondition_Partial</th>\n",
       "    </tr>\n",
       "  </thead>\n",
       "  <tbody>\n",
       "    <tr>\n",
       "      <th>0</th>\n",
       "      <td>20</td>\n",
       "      <td>7</td>\n",
       "      <td>5</td>\n",
       "      <td>856</td>\n",
       "      <td>1710</td>\n",
       "      <td>4</td>\n",
       "      <td>0</td>\n",
       "      <td>2</td>\n",
       "      <td>4</td>\n",
       "      <td>0</td>\n",
       "    </tr>\n",
       "    <tr>\n",
       "      <th>1</th>\n",
       "      <td>23</td>\n",
       "      <td>6</td>\n",
       "      <td>8</td>\n",
       "      <td>1262</td>\n",
       "      <td>1262</td>\n",
       "      <td>3</td>\n",
       "      <td>1</td>\n",
       "      <td>2</td>\n",
       "      <td>3</td>\n",
       "      <td>0</td>\n",
       "    </tr>\n",
       "    <tr>\n",
       "      <th>2</th>\n",
       "      <td>20</td>\n",
       "      <td>7</td>\n",
       "      <td>5</td>\n",
       "      <td>920</td>\n",
       "      <td>1786</td>\n",
       "      <td>4</td>\n",
       "      <td>1</td>\n",
       "      <td>2</td>\n",
       "      <td>4</td>\n",
       "      <td>0</td>\n",
       "    </tr>\n",
       "    <tr>\n",
       "      <th>3</th>\n",
       "      <td>15</td>\n",
       "      <td>7</td>\n",
       "      <td>5</td>\n",
       "      <td>756</td>\n",
       "      <td>1717</td>\n",
       "      <td>4</td>\n",
       "      <td>1</td>\n",
       "      <td>3</td>\n",
       "      <td>2</td>\n",
       "      <td>0</td>\n",
       "    </tr>\n",
       "    <tr>\n",
       "      <th>4</th>\n",
       "      <td>18</td>\n",
       "      <td>8</td>\n",
       "      <td>5</td>\n",
       "      <td>1145</td>\n",
       "      <td>2198</td>\n",
       "      <td>4</td>\n",
       "      <td>1</td>\n",
       "      <td>3</td>\n",
       "      <td>4</td>\n",
       "      <td>0</td>\n",
       "    </tr>\n",
       "    <tr>\n",
       "      <th>...</th>\n",
       "      <td>...</td>\n",
       "      <td>...</td>\n",
       "      <td>...</td>\n",
       "      <td>...</td>\n",
       "      <td>...</td>\n",
       "      <td>...</td>\n",
       "      <td>...</td>\n",
       "      <td>...</td>\n",
       "      <td>...</td>\n",
       "      <td>...</td>\n",
       "    </tr>\n",
       "    <tr>\n",
       "      <th>1447</th>\n",
       "      <td>14</td>\n",
       "      <td>6</td>\n",
       "      <td>5</td>\n",
       "      <td>953</td>\n",
       "      <td>1647</td>\n",
       "      <td>3</td>\n",
       "      <td>1</td>\n",
       "      <td>2</td>\n",
       "      <td>3</td>\n",
       "      <td>0</td>\n",
       "    </tr>\n",
       "    <tr>\n",
       "      <th>1448</th>\n",
       "      <td>9</td>\n",
       "      <td>6</td>\n",
       "      <td>6</td>\n",
       "      <td>1542</td>\n",
       "      <td>2073</td>\n",
       "      <td>3</td>\n",
       "      <td>2</td>\n",
       "      <td>2</td>\n",
       "      <td>3</td>\n",
       "      <td>0</td>\n",
       "    </tr>\n",
       "    <tr>\n",
       "      <th>1449</th>\n",
       "      <td>15</td>\n",
       "      <td>7</td>\n",
       "      <td>9</td>\n",
       "      <td>1152</td>\n",
       "      <td>2340</td>\n",
       "      <td>4</td>\n",
       "      <td>2</td>\n",
       "      <td>1</td>\n",
       "      <td>2</td>\n",
       "      <td>0</td>\n",
       "    </tr>\n",
       "    <tr>\n",
       "      <th>1450</th>\n",
       "      <td>10</td>\n",
       "      <td>5</td>\n",
       "      <td>6</td>\n",
       "      <td>1078</td>\n",
       "      <td>1078</td>\n",
       "      <td>4</td>\n",
       "      <td>0</td>\n",
       "      <td>1</td>\n",
       "      <td>2</td>\n",
       "      <td>0</td>\n",
       "    </tr>\n",
       "    <tr>\n",
       "      <th>1451</th>\n",
       "      <td>6</td>\n",
       "      <td>5</td>\n",
       "      <td>6</td>\n",
       "      <td>1256</td>\n",
       "      <td>1256</td>\n",
       "      <td>3</td>\n",
       "      <td>0</td>\n",
       "      <td>1</td>\n",
       "      <td>3</td>\n",
       "      <td>0</td>\n",
       "    </tr>\n",
       "  </tbody>\n",
       "</table>\n",
       "<p>1452 rows × 10 columns</p>\n",
       "</div>"
      ],
      "text/plain": [
       "      Neighborhood  OverallQual  OverallCond  TotalBsmtSF  GrLivArea  \\\n",
       "0               20            7            5          856       1710   \n",
       "1               23            6            8         1262       1262   \n",
       "2               20            7            5          920       1786   \n",
       "3               15            7            5          756       1717   \n",
       "4               18            8            5         1145       2198   \n",
       "...            ...          ...          ...          ...        ...   \n",
       "1447            14            6            5          953       1647   \n",
       "1448             9            6            6         1542       2073   \n",
       "1449            15            7            9         1152       2340   \n",
       "1450            10            5            6         1078       1078   \n",
       "1451             6            5            6         1256       1256   \n",
       "\n",
       "      KitchenQual  Fireplaces  GarageCars  TotalBath  SaleCondition_Partial  \n",
       "0               4           0           2          4                      0  \n",
       "1               3           1           2          3                      0  \n",
       "2               4           1           2          4                      0  \n",
       "3               4           1           3          2                      0  \n",
       "4               4           1           3          4                      0  \n",
       "...           ...         ...         ...        ...                    ...  \n",
       "1447            3           1           2          3                      0  \n",
       "1448            3           2           2          3                      0  \n",
       "1449            4           2           1          2                      0  \n",
       "1450            4           0           1          2                      0  \n",
       "1451            3           0           1          3                      0  \n",
       "\n",
       "[1452 rows x 10 columns]"
      ]
     },
     "execution_count": 23,
     "metadata": {},
     "output_type": "execute_result"
    }
   ],
   "source": [
    "df_X.iloc[:,features[-1]]"
   ]
  },
  {
   "cell_type": "code",
   "execution_count": null,
   "metadata": {},
   "outputs": [],
   "source": []
  }
 ],
 "metadata": {
  "kernelspec": {
   "display_name": "Python 3",
   "language": "python",
   "name": "python3"
  },
  "language_info": {
   "codemirror_mode": {
    "name": "ipython",
    "version": 3
   },
   "file_extension": ".py",
   "mimetype": "text/x-python",
   "name": "python",
   "nbconvert_exporter": "python",
   "pygments_lexer": "ipython3",
   "version": "3.7.3"
  }
 },
 "nbformat": 4,
 "nbformat_minor": 2
}
