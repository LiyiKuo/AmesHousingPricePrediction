{
 "cells": [
  {
   "cell_type": "code",
   "execution_count": 38,
   "metadata": {},
   "outputs": [],
   "source": [
    "import numpy as np\n",
    "import pandas as pd\n",
    "import math\n",
    "import re\n",
    "import seaborn as sns\n",
    "import matplotlib as plt\n",
    "def warn(*args, **kwargs):\n",
    "    pass\n",
    "import warnings\n",
    "warnings.warn = warn\n",
    "from sklearn.linear_model import Ridge, Lasso, ElasticNet, LinearRegression\n",
    "from sklearn.model_selection import GridSearchCV\n",
    "import sklearn\n",
    "lm = LinearRegression()\n",
    "ridge = Ridge()\n",
    "lasso = Lasso()\n",
    "net   = ElasticNet()\n",
    "from sklearn.model_selection import train_test_split\n",
    "import matplotlib.pyplot as plt"
   ]
  },
  {
   "cell_type": "code",
   "execution_count": 39,
   "metadata": {},
   "outputs": [],
   "source": [
    "#BASED ON V2 "
   ]
  },
  {
   "cell_type": "code",
   "execution_count": 40,
   "metadata": {},
   "outputs": [],
   "source": [
    "train2 = pd.read_csv('./data/train_cleanV2.csv', index_col=0)"
   ]
  },
  {
   "cell_type": "code",
   "execution_count": 41,
   "metadata": {},
   "outputs": [
    {
     "data": {
      "text/html": [
       "<div>\n",
       "<style scoped>\n",
       "    .dataframe tbody tr th:only-of-type {\n",
       "        vertical-align: middle;\n",
       "    }\n",
       "\n",
       "    .dataframe tbody tr th {\n",
       "        vertical-align: top;\n",
       "    }\n",
       "\n",
       "    .dataframe thead th {\n",
       "        text-align: right;\n",
       "    }\n",
       "</style>\n",
       "<table border=\"1\" class=\"dataframe\">\n",
       "  <thead>\n",
       "    <tr style=\"text-align: right;\">\n",
       "      <th></th>\n",
       "      <th>LotFrontage</th>\n",
       "      <th>LotArea</th>\n",
       "      <th>Neighborhood</th>\n",
       "      <th>OverallQual</th>\n",
       "      <th>OverallCond</th>\n",
       "      <th>YearBuilt</th>\n",
       "      <th>YearRemodAdd</th>\n",
       "      <th>MasVnrArea</th>\n",
       "      <th>ExterQual</th>\n",
       "      <th>ExterCond</th>\n",
       "      <th>...</th>\n",
       "      <th>MasVnrType_Stone</th>\n",
       "      <th>SaleCondition_AdjLand</th>\n",
       "      <th>SaleCondition_Alloca</th>\n",
       "      <th>SaleCondition_Family</th>\n",
       "      <th>SaleCondition_Normal</th>\n",
       "      <th>SaleCondition_Partial</th>\n",
       "      <th>BsmtExposure_Gd</th>\n",
       "      <th>BsmtExposure_Mn</th>\n",
       "      <th>BsmtExposure_NoBsmt</th>\n",
       "      <th>BsmtExposure_NoExposure</th>\n",
       "    </tr>\n",
       "    <tr>\n",
       "      <th>Id</th>\n",
       "      <th></th>\n",
       "      <th></th>\n",
       "      <th></th>\n",
       "      <th></th>\n",
       "      <th></th>\n",
       "      <th></th>\n",
       "      <th></th>\n",
       "      <th></th>\n",
       "      <th></th>\n",
       "      <th></th>\n",
       "      <th></th>\n",
       "      <th></th>\n",
       "      <th></th>\n",
       "      <th></th>\n",
       "      <th></th>\n",
       "      <th></th>\n",
       "      <th></th>\n",
       "      <th></th>\n",
       "      <th></th>\n",
       "      <th></th>\n",
       "      <th></th>\n",
       "    </tr>\n",
       "  </thead>\n",
       "  <tbody>\n",
       "  </tbody>\n",
       "</table>\n",
       "<p>0 rows × 76 columns</p>\n",
       "</div>"
      ],
      "text/plain": [
       "Empty DataFrame\n",
       "Columns: [LotFrontage, LotArea, Neighborhood, OverallQual, OverallCond, YearBuilt, YearRemodAdd, MasVnrArea, ExterQual, ExterCond, BsmtQual, BsmtCond, BsmtFinType1, TotalBsmtSF, HeatingQC, GrLivArea, BedroomAbvGr, KitchenAbvGr, KitchenQual, TotRmsAbvGrd, Functional, Fireplaces, FireplaceQu, GarageYrBlt, GarageFinish, GarageCars, GarageArea, GarageQual, GarageCond, PavedDrive, WoodDeckSF, OpenPorchSF, EnclosedPorch, 3SsnPorch, ScreenPorch, PoolArea, PoolQC, Fence, MoSold, YrSold, SalePrice, Gar2, Shed, TenC, TotalBath, Bedroom/Bathroom, LotConfig_CulDSac, LotConfig_FR2, LotConfig_FR3, LotConfig_Inside, Exterior1st_MetalSd, Exterior1st_Other, Exterior1st_Plywood, Exterior1st_VinylSd, Exterior1st_Wd Sdng, Exterior2nd_HdBoard, Exterior2nd_MetalSd, Exterior2nd_Other, Exterior2nd_Plywood, Exterior2nd_VinylSd, Exterior2nd_Wd Sdng, Foundation_CBlock, Foundation_Other, Foundation_PConc, MasVnrType_BrkFace, MasVnrType_None, MasVnrType_Stone, SaleCondition_AdjLand, SaleCondition_Alloca, SaleCondition_Family, SaleCondition_Normal, SaleCondition_Partial, BsmtExposure_Gd, BsmtExposure_Mn, BsmtExposure_NoBsmt, BsmtExposure_NoExposure]\n",
       "Index: []\n",
       "\n",
       "[0 rows x 76 columns]"
      ]
     },
     "execution_count": 41,
     "metadata": {},
     "output_type": "execute_result"
    }
   ],
   "source": [
    "#Check for NA's\n",
    "train2[train2.isna().any(axis=1)]"
   ]
  },
  {
   "cell_type": "code",
   "execution_count": 42,
   "metadata": {},
   "outputs": [],
   "source": [
    "#Split train into \n",
    "trainX2=train2.drop('SalePrice',axis=1)\n",
    "trainY2=train2['SalePrice']"
   ]
  },
  {
   "cell_type": "code",
   "execution_count": 43,
   "metadata": {},
   "outputs": [],
   "source": [
    "##Lasso with 20 alphas btw 0.001 and 100. Normalizatio = True, ALL features \n",
    "lasso_coefs = []\n",
    "lasso_intercepts = []\n",
    "lasso_R2  = []\n",
    "alphaRange = np.linspace(1e-3,100,20)\n",
    "for alpha in alphaRange:\n",
    "    lasso.set_params(alpha=alpha,normalize=True)  \n",
    "    lasso.fit(trainX2,trainY2)\n",
    "    lasso_intercepts.append(lasso.intercept_)\n",
    "    lasso_coefs.append(lasso.coef_)\n",
    "    lasso_R2.append(lasso.score(trainX2,trainY2)) "
   ]
  },
  {
   "cell_type": "code",
   "execution_count": 44,
   "metadata": {},
   "outputs": [],
   "source": [
    "#dataframe for all alphas with all features \n",
    "df_lasso_coef=pd.DataFrame(lasso_coefs,index=alphaRange,columns=trainX2.columns)\n",
    "df_lasso_intercept=pd.DataFrame(lasso_intercepts,index=alphaRange,columns=['Intercept'])\n",
    "df_lasso_R2= pd.DataFrame(lasso_R2,index=alphaRange, columns=['R2'])\n",
    "df_lasso = pd.concat([df_lasso_R2,df_lasso_intercept,df_lasso_coef], axis=1)"
   ]
  },
  {
   "cell_type": "code",
   "execution_count": 45,
   "metadata": {
    "scrolled": true
   },
   "outputs": [
    {
     "name": "stdout",
     "output_type": "stream",
     "text": [
      "Alphas: [1.00000000e-03 5.26410526e+00 1.05272105e+01 1.57903158e+01\n",
      " 2.10534211e+01 2.63165263e+01 3.15796316e+01 3.68427368e+01\n",
      " 4.21058421e+01 4.73689474e+01 5.26320526e+01 5.78951579e+01\n",
      " 6.31582632e+01 6.84213684e+01 7.36844737e+01 7.89475789e+01\n",
      " 8.42106842e+01 8.94737895e+01 9.47368947e+01 1.00000000e+02]\n",
      "Lasso RMSE on Training set : [5.80758563e+08 8.00513468e+08 6.17100959e+08 1.63040000e+09\n",
      " 1.60718577e+09 8.87865576e+08 9.32335585e+08 7.32457686e+08\n",
      " 3.37018188e+09 7.05015561e+08]\n",
      "Best Alpha using built-in LassoCV: 15.790316\n"
     ]
    }
   ],
   "source": [
    "#LassoCV with 10 folds Lasso with 20 alphas btw 0.001 and 100. Normalizatio = True, ALL features \n",
    "from sklearn.linear_model import LassoCV\n",
    "alpha = np.linspace(1e-3,100,20)\n",
    "regressor = LassoCV(alphas=list(alpha),max_iter=10000,cv=10, normalize=True, random_state=42)\n",
    "regressor.fit(trainX2, trainY2)\n",
    "lasso_mse = np.mean(regressor.mse_path_, axis=0)\n",
    "print(\"Alphas: %s\" % alpha)\n",
    "print(\"Lasso RMSE on Training set :\", lasso_mse)\n",
    "print(\"Best Alpha using built-in LassoCV: %f\" % regressor.alpha_)\n",
    "#21.053 is the best Alpha per LassoCV"
   ]
  },
  {
   "cell_type": "code",
   "execution_count": 67,
   "metadata": {},
   "outputs": [
    {
     "data": {
      "text/plain": [
       "Index(['LotFrontage', 'LotArea', 'Neighborhood', 'OverallQual', 'OverallCond',\n",
       "       'MasVnrArea', 'ExterQual', 'BsmtQual', 'BsmtCond', 'BsmtFinType1',\n",
       "       'TotalBsmtSF', 'GrLivArea', 'BedroomAbvGr', 'KitchenAbvGr',\n",
       "       'KitchenQual', 'TotRmsAbvGrd', 'Functional', 'Fireplaces',\n",
       "       'FireplaceQu', 'GarageYrBlt', 'GarageFinish', 'GarageCars',\n",
       "       'GarageArea', 'WoodDeckSF', '3SsnPorch', 'ScreenPorch', 'TotalBath',\n",
       "       'LotConfig_CulDSac', 'LotConfig_FR2', 'Exterior1st_Other',\n",
       "       'Exterior1st_Plywood', 'Exterior2nd_HdBoard', 'MasVnrType_BrkFace',\n",
       "       'SaleCondition_Family', 'SaleCondition_Partial', 'BsmtExposure_Gd',\n",
       "       'BsmtExposure_NoBsmt', 'BsmtExposure_NoExposure'],\n",
       "      dtype='object')"
      ]
     },
     "execution_count": 67,
     "metadata": {},
     "output_type": "execute_result"
    }
   ],
   "source": [
    "# select features based on LassoCV best alpha of 15\n",
    "a=df_lasso.iloc[4:5,2:]!=0\n",
    "new_alpha15=list(a[a.columns[(a != 0).any()]].columns)\n",
    "trainX_alpha15=trainX2[new_alpha15]\n",
    "# print(len(new_alpha15))\n",
    "trainX_alpha15.columns"
   ]
  },
  {
   "cell_type": "code",
   "execution_count": 53,
   "metadata": {
    "scrolled": false
   },
   "outputs": [
    {
     "data": {
      "text/plain": [
       "<matplotlib.legend.Legend at 0x26b29be1a90>"
      ]
     },
     "execution_count": 53,
     "metadata": {},
     "output_type": "execute_result"
    },
    {
     "data": {
      "image/png": "[encoded data removed]",
      "text/plain": [
       "<Figure size 432x288 with 1 Axes>"
      ]
     },
     "metadata": {
      "needs_background": "light"
     },
     "output_type": "display_data"
    }
   ],
   "source": [
    "X_train, X_test, Y_train, Y_test = train_test_split(trainX_alpha15, trainY2, test_size=0.3, random_state=42)\n",
    "\n",
    "lasso_R2_train  = []\n",
    "lasso_R2_test = []\n",
    "alphaRange = np.linspace(1e-3,100,20)\n",
    "for alpha in alphaRange:\n",
    "    #X_train, X_test, Y_train, Y_test = train_test_split(trainX_alpha15, trainY2, test_size=0.3)\n",
    "    lasso.set_params(alpha=alpha,normalize=True)  \n",
    "    lasso.fit(X_train,Y_train)\n",
    "    lasso_R2_train.append(lasso.score(X_train,Y_train)) \n",
    "    lasso_R2_test.append(lasso.score(X_test,Y_test)) \n",
    "plt.plot(alphaRange, lasso_R2_train, label=r'train set $R^2$')\n",
    "plt.plot(alphaRange, lasso_R2_test, label=r'test set $R^2$')\n",
    "plt.legend(loc=4)"
   ]
  },
  {
   "cell_type": "code",
   "execution_count": 54,
   "metadata": {},
   "outputs": [
    {
     "name": "stdout",
     "output_type": "stream",
     "text": [
      "train R^2: 0.827596\n",
      "test R^: 0.827783\n"
     ]
    }
   ],
   "source": [
    "##set alpha to around 70, train/test score \n",
    "X_train, X_test, Y_train, Y_test = train_test_split(trainX_alpha15, trainY2, test_size=0.3, random_state=42)\n",
    "\n",
    "lasso.set_params(alpha=70,normalize=True)  \n",
    "lasso.fit(X_train,Y_train)\n",
    "print(\"train R^2: %f\" %lasso.score(X_train,Y_train))\n",
    "print(\"test R^: %f\"%lasso.score(X_test,Y_test))"
   ]
  },
  {
   "cell_type": "code",
   "execution_count": 55,
   "metadata": {},
   "outputs": [
    {
     "name": "stdout",
     "output_type": "stream",
     "text": [
      "train R^2: 0.842491\n",
      "test R^: 0.832876\n"
     ]
    }
   ],
   "source": [
    "##set alpha to 15.79 per LassoCV, train/test score \n",
    "X_train, X_test, Y_train, Y_test = train_test_split(trainX_alpha15, trainY2, test_size=0.3, random_state=42)\n",
    "\n",
    "lasso.set_params(alpha=regressor.alpha_,normalize=True)  \n",
    "lasso.fit(X_train,Y_train)\n",
    "print(\"train R^2: %f\" %lasso.score(X_train,Y_train))\n",
    "print(\"test R^: %f\"%lasso.score(X_test,Y_test))"
   ]
  },
  {
   "cell_type": "code",
   "execution_count": 56,
   "metadata": {},
   "outputs": [
    {
     "name": "stdout",
     "output_type": "stream",
     "text": [
      "[-6.35684324e+08 -1.09664069e+09 -1.16384851e+09 -7.72243510e+08\n",
      " -2.07801737e+09]\n",
      "[0.83090786 0.84135481 0.83473487 0.83719299 0.87642857]\n"
     ]
    }
   ],
   "source": [
    "#cross validation for 38 features. \n",
    "from sklearn.model_selection import cross_validate\n",
    "scores = cross_validate(lasso, trainX_alpha15, trainY2, cv=5,\n",
    "                        scoring=('r2', 'neg_mean_squared_error'),\n",
    "                        return_train_score=True)\n",
    "print(scores['test_neg_mean_squared_error'])      \n",
    "print(scores['train_r2'])  "
   ]
  },
  {
   "cell_type": "code",
   "execution_count": 57,
   "metadata": {},
   "outputs": [],
   "source": [
    "##Ridge with 20 alphas btw 0.001 and 100. Normalizatio = True \n",
    "ridge_coefs = []\n",
    "ridge_intercepts = []\n",
    "ridge_R2  = []\n",
    "MSE = []\n",
    "alphaRange = np.linspace(1e-3,100,20)\n",
    "for alpha in alphaRange:\n",
    "    ridge.set_params(alpha=alpha,normalize=True)  \n",
    "    ridge.fit(trainX2,trainY2)\n",
    "    ridge_intercepts.append(ridge.intercept_)\n",
    "    ridge_coefs.append(ridge.coef_)\n",
    "    ridge_R2.append(ridge.score(trainX2,trainY2))  "
   ]
  },
  {
   "cell_type": "code",
   "execution_count": 58,
   "metadata": {},
   "outputs": [],
   "source": [
    "#dataframe for all alphas with all features \n",
    "df_ridge_coef=pd.DataFrame(ridge_coefs,index=alphaRange,columns=trainX2.columns)\n",
    "df_ridge_intercept=pd.DataFrame(ridge_intercepts,index=alphaRange,columns=['Intercept'])\n",
    "df_ridge_R2= pd.DataFrame(ridge_R2,index=alphaRange, columns=['R2'])\n",
    "df_ridge = pd.concat([df_ridge_R2,df_ridge_intercept,df_ridge_coef], axis=1)"
   ]
  },
  {
   "cell_type": "code",
   "execution_count": 59,
   "metadata": {},
   "outputs": [
    {
     "name": "stdout",
     "output_type": "stream",
     "text": [
      "Alphas: [1.00000000e-03 5.26410526e+00 1.05272105e+01 1.57903158e+01\n",
      " 2.10534211e+01 2.63165263e+01 3.15796316e+01 3.68427368e+01\n",
      " 4.21058421e+01 4.73689474e+01 5.26320526e+01 5.78951579e+01\n",
      " 6.31582632e+01 6.84213684e+01 7.36844737e+01 7.89475789e+01\n",
      " 8.42106842e+01 8.94737895e+01 9.47368947e+01 1.00000000e+02]\n",
      "Ridge RMSE on Training set : [1.37459353e+09 1.97399800e+09 2.65094609e+09 3.16676647e+09\n",
      " 3.56251380e+09 3.87270060e+09 4.12122782e+09 4.32432290e+09\n",
      " 4.49316038e+09 4.63560781e+09 4.75733340e+09 4.86251052e+09\n",
      " 4.95427331e+09 5.03501781e+09 5.10660529e+09 5.17050252e+09\n",
      " 5.22788040e+09 5.27968464e+09 5.32668711e+09 5.36952396e+09]\n",
      "Best Alpha using built-in RidgeCV: 0.001000\n"
     ]
    }
   ],
   "source": [
    "#Ridge with full features \n",
    "from sklearn.linear_model import RidgeCV\n",
    "alpha = np.linspace(1e-3,100,20)\n",
    "regressor = RidgeCV(alphas=list(alpha),store_cv_values=True,normalize=True)\n",
    "regressor.fit(trainX2, trainY2)\n",
    "cv_mse = np.mean(regressor.cv_values_, axis=0)\n",
    "\n",
    "print(\"Alphas: %s\" % alpha)\n",
    "print(\"Ridge RMSE on Training set :\", cv_mse)\n",
    "print(\"Best Alpha using built-in RidgeCV: %f\" % regressor.alpha_)\n",
    "#this is the second alpha"
   ]
  },
  {
   "cell_type": "code",
   "execution_count": 60,
   "metadata": {},
   "outputs": [
    {
     "name": "stdout",
     "output_type": "stream",
     "text": [
      "75\n"
     ]
    }
   ],
   "source": [
    "# select features based on RidgeCV best alpha of 0.001\n",
    "a=df_lasso.iloc[0:2,2:]!=0\n",
    "new_alpha1=list(a[a.columns[(a != 0).any()]].columns)\n",
    "trainX_alpha1=trainX2[new_alpha15]\n",
    "print(len(new_alpha1))"
   ]
  },
  {
   "cell_type": "code",
   "execution_count": 61,
   "metadata": {},
   "outputs": [
    {
     "data": {
      "text/plain": [
       "<matplotlib.legend.Legend at 0x26b2aff0438>"
      ]
     },
     "execution_count": 61,
     "metadata": {},
     "output_type": "execute_result"
    },
    {
     "data": {
      "image/png": "[encoded data removed]",
      "text/plain": [
       "<Figure size 432x288 with 1 Axes>"
      ]
     },
     "metadata": {
      "needs_background": "light"
     },
     "output_type": "display_data"
    }
   ],
   "source": [
    "\n",
    "X_train, X_test, Y_train, Y_test = train_test_split(trainX_alpha15, trainY2, test_size=0.3, random_state=42)\n",
    "\n",
    "ridge_R2_train  = []\n",
    "ridge_R2_test = []\n",
    "alphaRange = np.linspace(1e-3,100,20)\n",
    "for alpha in alphaRange:\n",
    "    #X_train, X_test, Y_train, Y_test = train_test_split(trainX_alpha15, trainY2, test_size=0.3)\n",
    "    ridge.set_params(alpha=alpha,normalize=True)  \n",
    "    ridge.fit(X_train,Y_train)\n",
    "    ridge_R2_train.append(ridge.score(X_train,Y_train)) \n",
    "    ridge_R2_test.append(ridge.score(X_test,Y_test)) \n",
    "plt.plot(alphaRange, ridge_R2_train, label=r'train set $R^2$')\n",
    "plt.plot(alphaRange, ridge_R2_test, label=r'test set $R^2$')\n",
    "plt.legend(loc=4)"
   ]
  },
  {
   "cell_type": "code",
   "execution_count": 62,
   "metadata": {},
   "outputs": [
    {
     "name": "stdout",
     "output_type": "stream",
     "text": [
      "train R^2: 0.843827\n",
      "test R^2: 0.831263\n"
     ]
    }
   ],
   "source": [
    "X_train, X_test, Y_train, Y_test = train_test_split(trainX_alpha15, trainY2, test_size=0.3, random_state=42)\n",
    "\n",
    "ridge.set_params(alpha=0.001,normalize=True)  \n",
    "ridge.fit(X_train,Y_train)\n",
    "print(\"train R^2: %f\" %ridge.score(X_train,Y_train))\n",
    "print(\"test R^2: %f\"%ridge.score(X_test,Y_test))"
   ]
  },
  {
   "cell_type": "code",
   "execution_count": 63,
   "metadata": {},
   "outputs": [
    {
     "name": "stdout",
     "output_type": "stream",
     "text": [
      "[-6.35684324e+08 -1.09664069e+09 -1.16384851e+09 -7.72243510e+08\n",
      " -2.07801737e+09]\n",
      "[0.83090786 0.84135481 0.83473487 0.83719299 0.87642857]\n"
     ]
    }
   ],
   "source": [
    "from sklearn.model_selection import cross_validate\n",
    "scores = cross_validate(lasso, trainX_alpha1, trainY2, cv=5,\n",
    "                        scoring=('r2', 'neg_mean_squared_error'),\n",
    "                        return_train_score=True)\n",
    "print(scores['test_neg_mean_squared_error'])      \n",
    "print(scores['train_r2'])  "
   ]
  },
  {
   "cell_type": "code",
   "execution_count": 64,
   "metadata": {},
   "outputs": [
    {
     "name": "stdout",
     "output_type": "stream",
     "text": [
      "train R^2: 0.843827\n",
      "test R^2: 0.831091\n"
     ]
    }
   ],
   "source": [
    "X_train, X_test, Y_train, Y_test = train_test_split(trainX_alpha15, trainY2, test_size=0.3, random_state=42)\n",
    "  \n",
    "lm.fit(X_train,Y_train)\n",
    "print(\"train R^2: %f\" %lm.score(X_train,Y_train))\n",
    "print(\"test R^2: %f\"%lm.score(X_test,Y_test))"
   ]
  },
  {
   "cell_type": "code",
   "execution_count": 65,
   "metadata": {},
   "outputs": [
    {
     "name": "stdout",
     "output_type": "stream",
     "text": [
      "[-6.38055063e+08 -1.09722233e+09 -1.11370436e+09 -7.44474181e+08\n",
      " -2.14847945e+09]\n",
      "[0.83234052 0.84285895 0.83623509 0.83853471 0.87801592]\n"
     ]
    }
   ],
   "source": [
    "from sklearn.model_selection import cross_validate\n",
    "scores = cross_validate(lm, trainX_alpha15, trainY2, cv=5,\n",
    "                        scoring=('r2', 'neg_mean_squared_error'),\n",
    "                        return_train_score=True)\n",
    "print(scores['test_neg_mean_squared_error'])      \n",
    "print(scores['train_r2'])  "
   ]
  },
  {
   "cell_type": "code",
   "execution_count": 24,
   "metadata": {},
   "outputs": [],
   "source": [
    "##further feature selection based on features not included from step wise \n",
    "#forward and back selection bsased on AIC value\n",
    "feature_drop=['LotFrontage', 'BsmtCond', 'FireplaceQu', 'GarageArea', 'Exterior1st_Other','Exterior2nd_HdBoard', \n",
    "'MasVnrType_BrkFace','SaleCondition_Family', 'BsmtExposure_NoExposure']"
   ]
  },
  {
   "cell_type": "code",
   "execution_count": 25,
   "metadata": {},
   "outputs": [],
   "source": [
    "# #filter out features with VIF>5\n",
    "# exogs=list(trainX_alpha15.columns)\n",
    "# data=trainX_alpha15\n",
    "# VIF=sklearn_vif(exogs=exogs,data=data)\n",
    "# feature_drop=list(VIF[VIF['VIF']>5].index)\n",
    "# feature_drop"
   ]
  },
  {
   "cell_type": "code",
   "execution_count": 26,
   "metadata": {},
   "outputs": [],
   "source": [
    "trainX_29=trainX_alpha15.drop(feature_drop,axis=1)"
   ]
  },
  {
   "cell_type": "code",
   "execution_count": 37,
   "metadata": {},
   "outputs": [
    {
     "data": {
      "text/plain": [
       "Index(['LotArea', 'Neighborhood', 'OverallQual', 'OverallCond', 'MasVnrArea',\n",
       "       'ExterQual', 'BsmtQual', 'BsmtFinType1', 'TotalBsmtSF', 'GrLivArea',\n",
       "       'BedroomAbvGr', 'KitchenAbvGr', 'KitchenQual', 'TotRmsAbvGrd',\n",
       "       'Functional', 'Fireplaces', 'GarageYrBlt', 'GarageFinish', 'GarageCars',\n",
       "       'WoodDeckSF', '3SsnPorch', 'ScreenPorch', 'TotalBath',\n",
       "       'LotConfig_CulDSac', 'LotConfig_FR2', 'Exterior1st_Plywood',\n",
       "       'SaleCondition_Partial', 'BsmtExposure_Gd', 'BsmtExposure_NoBsmt'],\n",
       "      dtype='object')"
      ]
     },
     "execution_count": 37,
     "metadata": {},
     "output_type": "execute_result"
    }
   ],
   "source": [
    "trainX_29.columns"
   ]
  },
  {
   "cell_type": "code",
   "execution_count": 27,
   "metadata": {},
   "outputs": [
    {
     "name": "stdout",
     "output_type": "stream",
     "text": [
      "Alphas: [1.00000000e-03 5.26410526e+00 1.05272105e+01 1.57903158e+01\n",
      " 2.10534211e+01 2.63165263e+01 3.15796316e+01 3.68427368e+01\n",
      " 4.21058421e+01 4.73689474e+01 5.26320526e+01 5.78951579e+01\n",
      " 6.31582632e+01 6.84213684e+01 7.36844737e+01 7.89475789e+01\n",
      " 8.42106842e+01 8.94737895e+01 9.47368947e+01 1.00000000e+02]\n",
      "Lasso RMSE on Training set : [5.77510232e+08 7.97468331e+08 6.15331267e+08 1.59518241e+09\n",
      " 1.60726058e+09 8.94906833e+08 9.37454364e+08 7.41375986e+08\n",
      " 3.17291407e+09 7.11710531e+08]\n",
      "Best Alpha using built-in LassoCV: 0.001000\n"
     ]
    }
   ],
   "source": [
    "#LassoCV with 10 folds Lasso with 20 alphas btw 0.001 and 100 for 35 features \n",
    "from sklearn.linear_model import LassoCV\n",
    "alpha = np.linspace(1e-3,100,20)\n",
    "regressor = LassoCV(alphas=list(alpha),max_iter=10000,cv=10, normalize=True, random_state=42)\n",
    "regressor.fit(trainX_29, trainY2)\n",
    "lasso_mse = np.mean(regressor.mse_path_, axis=0)\n",
    "print(\"Alphas: %s\" % alpha)\n",
    "print(\"Lasso RMSE on Training set :\", lasso_mse)\n",
    "print(\"Best Alpha using built-in LassoCV: %f\" % regressor.alpha_)\n",
    "#21.053 is the best Alpha per LassoCV"
   ]
  },
  {
   "cell_type": "code",
   "execution_count": 28,
   "metadata": {},
   "outputs": [
    {
     "name": "stdout",
     "output_type": "stream",
     "text": [
      "train R^2: 0.840243\n",
      "test R^2: 0.831894\n"
     ]
    }
   ],
   "source": [
    "##set alpha to 5.264 per RidgeCV, train/test score \n",
    "X_train, X_test, Y_train, Y_test = train_test_split(trainX_29, trainY2, test_size=0.3, random_state=42)\n",
    "\n",
    "lasso.set_params(alpha=regressor.alpha_,normalize=True)  \n",
    "lasso.fit(X_train,Y_train)\n",
    "print(\"train R^2: %f\" %lasso.score(X_train,Y_train))\n",
    "print(\"test R^2: %f\"%lasso.score(X_test,Y_test))"
   ]
  },
  {
   "cell_type": "code",
   "execution_count": 29,
   "metadata": {},
   "outputs": [
    {
     "name": "stdout",
     "output_type": "stream",
     "text": [
      "[-6.26208543e+08 -1.06380619e+09 -1.13219506e+09 -7.79632847e+08\n",
      " -2.03517632e+09]\n",
      "[0.82884256 0.83864295 0.83350422 0.83686203 0.87282872]\n"
     ]
    }
   ],
   "source": [
    "#cross validation for 29 features. \n",
    "from sklearn.model_selection import cross_validate\n",
    "scores = cross_validate(lasso, trainX_29, trainY2, cv=5,\n",
    "                        scoring=('r2', 'neg_mean_squared_error'),\n",
    "                        return_train_score=True)\n",
    "print(scores['test_neg_mean_squared_error'])      \n",
    "print(scores['train_r2'])  "
   ]
  },
  {
   "cell_type": "code",
   "execution_count": 30,
   "metadata": {},
   "outputs": [
    {
     "name": "stdout",
     "output_type": "stream",
     "text": [
      "train R^2: 0.840243\n",
      "test R^2: 0.831893\n"
     ]
    }
   ],
   "source": [
    "#based on MLR\n",
    "X_train, X_test, Y_train, Y_test = train_test_split(trainX_29, trainY2, test_size=0.3, random_state=42)\n",
    "\n",
    "lm.fit(X_train,Y_train)\n",
    "print(\"train R^2: %f\" %lm.score(X_train,Y_train))\n",
    "print(\"test R^2: %f\"%lm.score(X_test,Y_test))"
   ]
  },
  {
   "cell_type": "code",
   "execution_count": 31,
   "metadata": {},
   "outputs": [
    {
     "name": "stdout",
     "output_type": "stream",
     "text": [
      "[-6.26208713e+08 -1.06380650e+09 -1.13219246e+09 -7.79632522e+08\n",
      " -2.03518025e+09]\n",
      "[0.82884256 0.83864295 0.83350422 0.83686203 0.87282872]\n"
     ]
    }
   ],
   "source": [
    "#cross validation based on MLR\n",
    "from sklearn.model_selection import cross_validate\n",
    "scores = cross_validate(lm, trainX_29, trainY2, cv=5,\n",
    "                        scoring=('r2', 'neg_mean_squared_error'),\n",
    "                        return_train_score=True)\n",
    "print(scores['test_neg_mean_squared_error'])      \n",
    "print(scores['train_r2'])  "
   ]
  },
  {
   "cell_type": "code",
   "execution_count": 32,
   "metadata": {},
   "outputs": [],
   "source": [
    "\n",
    "features = ['LotFrontage', 'LotArea', 'OverallQual', 'OverallCond', 'YearBuilt','MasVnrArea', 'ExterQual', 'BsmtFinType1', \n",
    "'TotalBsmtSF','BedroomAbvGr', 'KitchenAbvGr', 'KitchenQual', 'TotRmsAbvGrd','Functional', 'Fireplaces', \n",
    "'GarageYrBlt', 'WoodDeckSF', 'ScreenPorch','LotConfig', 'Exterior1st', 'MasVnrType',\n",
    "'SaleCondition', 'SaleCondition', 'BsmtExposure','BsmtFullBath','BsmtHalfBath','FullBath',\n",
    "           'HalfBath']"
   ]
  },
  {
   "cell_type": "code",
   "execution_count": 33,
   "metadata": {},
   "outputs": [],
   "source": [
    "test = pd.read_csv('data/test.csv', index_col=0)"
   ]
  },
  {
   "cell_type": "code",
   "execution_count": 34,
   "metadata": {},
   "outputs": [
    {
     "data": {
      "text/html": [
       "<div>\n",
       "<style scoped>\n",
       "    .dataframe tbody tr th:only-of-type {\n",
       "        vertical-align: middle;\n",
       "    }\n",
       "\n",
       "    .dataframe tbody tr th {\n",
       "        vertical-align: top;\n",
       "    }\n",
       "\n",
       "    .dataframe thead th {\n",
       "        text-align: right;\n",
       "    }\n",
       "</style>\n",
       "<table border=\"1\" class=\"dataframe\">\n",
       "  <thead>\n",
       "    <tr style=\"text-align: right;\">\n",
       "      <th></th>\n",
       "      <th>LotFrontage</th>\n",
       "      <th>LotArea</th>\n",
       "      <th>LotConfig</th>\n",
       "      <th>OverallQual</th>\n",
       "      <th>OverallCond</th>\n",
       "      <th>YearBuilt</th>\n",
       "      <th>Exterior1st</th>\n",
       "      <th>MasVnrType</th>\n",
       "      <th>MasVnrArea</th>\n",
       "      <th>ExterQual</th>\n",
       "      <th>...</th>\n",
       "      <th>BedroomAbvGr</th>\n",
       "      <th>KitchenAbvGr</th>\n",
       "      <th>KitchenQual</th>\n",
       "      <th>TotRmsAbvGrd</th>\n",
       "      <th>Functional</th>\n",
       "      <th>Fireplaces</th>\n",
       "      <th>GarageYrBlt</th>\n",
       "      <th>WoodDeckSF</th>\n",
       "      <th>ScreenPorch</th>\n",
       "      <th>SaleCondition</th>\n",
       "    </tr>\n",
       "    <tr>\n",
       "      <th>Id</th>\n",
       "      <th></th>\n",
       "      <th></th>\n",
       "      <th></th>\n",
       "      <th></th>\n",
       "      <th></th>\n",
       "      <th></th>\n",
       "      <th></th>\n",
       "      <th></th>\n",
       "      <th></th>\n",
       "      <th></th>\n",
       "      <th></th>\n",
       "      <th></th>\n",
       "      <th></th>\n",
       "      <th></th>\n",
       "      <th></th>\n",
       "      <th></th>\n",
       "      <th></th>\n",
       "      <th></th>\n",
       "      <th></th>\n",
       "      <th></th>\n",
       "      <th></th>\n",
       "    </tr>\n",
       "  </thead>\n",
       "  <tbody>\n",
       "    <tr>\n",
       "      <th>1461</th>\n",
       "      <td>80.0</td>\n",
       "      <td>11622</td>\n",
       "      <td>Inside</td>\n",
       "      <td>5</td>\n",
       "      <td>6</td>\n",
       "      <td>1961</td>\n",
       "      <td>VinylSd</td>\n",
       "      <td>None</td>\n",
       "      <td>0.0</td>\n",
       "      <td>TA</td>\n",
       "      <td>...</td>\n",
       "      <td>2</td>\n",
       "      <td>1</td>\n",
       "      <td>TA</td>\n",
       "      <td>5</td>\n",
       "      <td>Typ</td>\n",
       "      <td>0</td>\n",
       "      <td>1961.0</td>\n",
       "      <td>140</td>\n",
       "      <td>120</td>\n",
       "      <td>Normal</td>\n",
       "    </tr>\n",
       "    <tr>\n",
       "      <th>1462</th>\n",
       "      <td>81.0</td>\n",
       "      <td>14267</td>\n",
       "      <td>Corner</td>\n",
       "      <td>6</td>\n",
       "      <td>6</td>\n",
       "      <td>1958</td>\n",
       "      <td>Wd Sdng</td>\n",
       "      <td>BrkFace</td>\n",
       "      <td>108.0</td>\n",
       "      <td>TA</td>\n",
       "      <td>...</td>\n",
       "      <td>3</td>\n",
       "      <td>1</td>\n",
       "      <td>Gd</td>\n",
       "      <td>6</td>\n",
       "      <td>Typ</td>\n",
       "      <td>0</td>\n",
       "      <td>1958.0</td>\n",
       "      <td>393</td>\n",
       "      <td>0</td>\n",
       "      <td>Normal</td>\n",
       "    </tr>\n",
       "    <tr>\n",
       "      <th>1463</th>\n",
       "      <td>74.0</td>\n",
       "      <td>13830</td>\n",
       "      <td>Inside</td>\n",
       "      <td>5</td>\n",
       "      <td>5</td>\n",
       "      <td>1997</td>\n",
       "      <td>VinylSd</td>\n",
       "      <td>None</td>\n",
       "      <td>0.0</td>\n",
       "      <td>TA</td>\n",
       "      <td>...</td>\n",
       "      <td>3</td>\n",
       "      <td>1</td>\n",
       "      <td>TA</td>\n",
       "      <td>6</td>\n",
       "      <td>Typ</td>\n",
       "      <td>1</td>\n",
       "      <td>1997.0</td>\n",
       "      <td>212</td>\n",
       "      <td>0</td>\n",
       "      <td>Normal</td>\n",
       "    </tr>\n",
       "    <tr>\n",
       "      <th>1464</th>\n",
       "      <td>78.0</td>\n",
       "      <td>9978</td>\n",
       "      <td>Inside</td>\n",
       "      <td>6</td>\n",
       "      <td>6</td>\n",
       "      <td>1998</td>\n",
       "      <td>VinylSd</td>\n",
       "      <td>BrkFace</td>\n",
       "      <td>20.0</td>\n",
       "      <td>TA</td>\n",
       "      <td>...</td>\n",
       "      <td>3</td>\n",
       "      <td>1</td>\n",
       "      <td>Gd</td>\n",
       "      <td>7</td>\n",
       "      <td>Typ</td>\n",
       "      <td>1</td>\n",
       "      <td>1998.0</td>\n",
       "      <td>360</td>\n",
       "      <td>0</td>\n",
       "      <td>Normal</td>\n",
       "    </tr>\n",
       "    <tr>\n",
       "      <th>1465</th>\n",
       "      <td>43.0</td>\n",
       "      <td>5005</td>\n",
       "      <td>Inside</td>\n",
       "      <td>8</td>\n",
       "      <td>5</td>\n",
       "      <td>1992</td>\n",
       "      <td>HdBoard</td>\n",
       "      <td>None</td>\n",
       "      <td>0.0</td>\n",
       "      <td>Gd</td>\n",
       "      <td>...</td>\n",
       "      <td>2</td>\n",
       "      <td>1</td>\n",
       "      <td>Gd</td>\n",
       "      <td>5</td>\n",
       "      <td>Typ</td>\n",
       "      <td>0</td>\n",
       "      <td>1992.0</td>\n",
       "      <td>0</td>\n",
       "      <td>144</td>\n",
       "      <td>Normal</td>\n",
       "    </tr>\n",
       "    <tr>\n",
       "      <th>...</th>\n",
       "      <td>...</td>\n",
       "      <td>...</td>\n",
       "      <td>...</td>\n",
       "      <td>...</td>\n",
       "      <td>...</td>\n",
       "      <td>...</td>\n",
       "      <td>...</td>\n",
       "      <td>...</td>\n",
       "      <td>...</td>\n",
       "      <td>...</td>\n",
       "      <td>...</td>\n",
       "      <td>...</td>\n",
       "      <td>...</td>\n",
       "      <td>...</td>\n",
       "      <td>...</td>\n",
       "      <td>...</td>\n",
       "      <td>...</td>\n",
       "      <td>...</td>\n",
       "      <td>...</td>\n",
       "      <td>...</td>\n",
       "      <td>...</td>\n",
       "    </tr>\n",
       "    <tr>\n",
       "      <th>2915</th>\n",
       "      <td>21.0</td>\n",
       "      <td>1936</td>\n",
       "      <td>Inside</td>\n",
       "      <td>4</td>\n",
       "      <td>7</td>\n",
       "      <td>1970</td>\n",
       "      <td>CemntBd</td>\n",
       "      <td>None</td>\n",
       "      <td>0.0</td>\n",
       "      <td>TA</td>\n",
       "      <td>...</td>\n",
       "      <td>3</td>\n",
       "      <td>1</td>\n",
       "      <td>TA</td>\n",
       "      <td>5</td>\n",
       "      <td>Typ</td>\n",
       "      <td>0</td>\n",
       "      <td>NaN</td>\n",
       "      <td>0</td>\n",
       "      <td>0</td>\n",
       "      <td>Normal</td>\n",
       "    </tr>\n",
       "    <tr>\n",
       "      <th>2916</th>\n",
       "      <td>21.0</td>\n",
       "      <td>1894</td>\n",
       "      <td>Inside</td>\n",
       "      <td>4</td>\n",
       "      <td>5</td>\n",
       "      <td>1970</td>\n",
       "      <td>CemntBd</td>\n",
       "      <td>None</td>\n",
       "      <td>0.0</td>\n",
       "      <td>TA</td>\n",
       "      <td>...</td>\n",
       "      <td>3</td>\n",
       "      <td>1</td>\n",
       "      <td>TA</td>\n",
       "      <td>6</td>\n",
       "      <td>Typ</td>\n",
       "      <td>0</td>\n",
       "      <td>1970.0</td>\n",
       "      <td>0</td>\n",
       "      <td>0</td>\n",
       "      <td>Abnorml</td>\n",
       "    </tr>\n",
       "    <tr>\n",
       "      <th>2917</th>\n",
       "      <td>160.0</td>\n",
       "      <td>20000</td>\n",
       "      <td>Inside</td>\n",
       "      <td>5</td>\n",
       "      <td>7</td>\n",
       "      <td>1960</td>\n",
       "      <td>VinylSd</td>\n",
       "      <td>None</td>\n",
       "      <td>0.0</td>\n",
       "      <td>TA</td>\n",
       "      <td>...</td>\n",
       "      <td>4</td>\n",
       "      <td>1</td>\n",
       "      <td>TA</td>\n",
       "      <td>7</td>\n",
       "      <td>Typ</td>\n",
       "      <td>1</td>\n",
       "      <td>1960.0</td>\n",
       "      <td>474</td>\n",
       "      <td>0</td>\n",
       "      <td>Abnorml</td>\n",
       "    </tr>\n",
       "    <tr>\n",
       "      <th>2918</th>\n",
       "      <td>62.0</td>\n",
       "      <td>10441</td>\n",
       "      <td>Inside</td>\n",
       "      <td>5</td>\n",
       "      <td>5</td>\n",
       "      <td>1992</td>\n",
       "      <td>HdBoard</td>\n",
       "      <td>None</td>\n",
       "      <td>0.0</td>\n",
       "      <td>TA</td>\n",
       "      <td>...</td>\n",
       "      <td>3</td>\n",
       "      <td>1</td>\n",
       "      <td>TA</td>\n",
       "      <td>6</td>\n",
       "      <td>Typ</td>\n",
       "      <td>0</td>\n",
       "      <td>NaN</td>\n",
       "      <td>80</td>\n",
       "      <td>0</td>\n",
       "      <td>Normal</td>\n",
       "    </tr>\n",
       "    <tr>\n",
       "      <th>2919</th>\n",
       "      <td>74.0</td>\n",
       "      <td>9627</td>\n",
       "      <td>Inside</td>\n",
       "      <td>7</td>\n",
       "      <td>5</td>\n",
       "      <td>1993</td>\n",
       "      <td>HdBoard</td>\n",
       "      <td>BrkFace</td>\n",
       "      <td>94.0</td>\n",
       "      <td>TA</td>\n",
       "      <td>...</td>\n",
       "      <td>3</td>\n",
       "      <td>1</td>\n",
       "      <td>TA</td>\n",
       "      <td>9</td>\n",
       "      <td>Typ</td>\n",
       "      <td>1</td>\n",
       "      <td>1993.0</td>\n",
       "      <td>190</td>\n",
       "      <td>0</td>\n",
       "      <td>Normal</td>\n",
       "    </tr>\n",
       "  </tbody>\n",
       "</table>\n",
       "<p>1459 rows × 27 columns</p>\n",
       "</div>"
      ],
      "text/plain": [
       "      LotFrontage  LotArea LotConfig  OverallQual  OverallCond  YearBuilt  \\\n",
       "Id                                                                          \n",
       "1461         80.0    11622    Inside            5            6       1961   \n",
       "1462         81.0    14267    Corner            6            6       1958   \n",
       "1463         74.0    13830    Inside            5            5       1997   \n",
       "1464         78.0     9978    Inside            6            6       1998   \n",
       "1465         43.0     5005    Inside            8            5       1992   \n",
       "...           ...      ...       ...          ...          ...        ...   \n",
       "2915         21.0     1936    Inside            4            7       1970   \n",
       "2916         21.0     1894    Inside            4            5       1970   \n",
       "2917        160.0    20000    Inside            5            7       1960   \n",
       "2918         62.0    10441    Inside            5            5       1992   \n",
       "2919         74.0     9627    Inside            7            5       1993   \n",
       "\n",
       "     Exterior1st MasVnrType  MasVnrArea ExterQual  ... BedroomAbvGr  \\\n",
       "Id                                                 ...                \n",
       "1461     VinylSd       None         0.0        TA  ...            2   \n",
       "1462     Wd Sdng    BrkFace       108.0        TA  ...            3   \n",
       "1463     VinylSd       None         0.0        TA  ...            3   \n",
       "1464     VinylSd    BrkFace        20.0        TA  ...            3   \n",
       "1465     HdBoard       None         0.0        Gd  ...            2   \n",
       "...          ...        ...         ...       ...  ...          ...   \n",
       "2915     CemntBd       None         0.0        TA  ...            3   \n",
       "2916     CemntBd       None         0.0        TA  ...            3   \n",
       "2917     VinylSd       None         0.0        TA  ...            4   \n",
       "2918     HdBoard       None         0.0        TA  ...            3   \n",
       "2919     HdBoard    BrkFace        94.0        TA  ...            3   \n",
       "\n",
       "     KitchenAbvGr  KitchenQual  TotRmsAbvGrd  Functional  Fireplaces  \\\n",
       "Id                                                                     \n",
       "1461            1           TA             5         Typ           0   \n",
       "1462            1           Gd             6         Typ           0   \n",
       "1463            1           TA             6         Typ           1   \n",
       "1464            1           Gd             7         Typ           1   \n",
       "1465            1           Gd             5         Typ           0   \n",
       "...           ...          ...           ...         ...         ...   \n",
       "2915            1           TA             5         Typ           0   \n",
       "2916            1           TA             6         Typ           0   \n",
       "2917            1           TA             7         Typ           1   \n",
       "2918            1           TA             6         Typ           0   \n",
       "2919            1           TA             9         Typ           1   \n",
       "\n",
       "      GarageYrBlt  WoodDeckSF  ScreenPorch SaleCondition  \n",
       "Id                                                        \n",
       "1461       1961.0         140          120        Normal  \n",
       "1462       1958.0         393            0        Normal  \n",
       "1463       1997.0         212            0        Normal  \n",
       "1464       1998.0         360            0        Normal  \n",
       "1465       1992.0           0          144        Normal  \n",
       "...           ...         ...          ...           ...  \n",
       "2915          NaN           0            0        Normal  \n",
       "2916       1970.0           0            0       Abnorml  \n",
       "2917       1960.0         474            0       Abnorml  \n",
       "2918          NaN          80            0        Normal  \n",
       "2919       1993.0         190            0        Normal  \n",
       "\n",
       "[1459 rows x 27 columns]"
      ]
     },
     "execution_count": 34,
     "metadata": {},
     "output_type": "execute_result"
    }
   ],
   "source": [
    "test.drop(list(set(test.columns)-set(features)),axis=1)"
   ]
  },
  {
   "cell_type": "code",
   "execution_count": 35,
   "metadata": {},
   "outputs": [
    {
     "ename": "NameError",
     "evalue": "name 'train' is not defined",
     "output_type": "error",
     "traceback": [
      "\u001b[1;31m---------------------------------------------------------------------------\u001b[0m",
      "\u001b[1;31mNameError\u001b[0m                                 Traceback (most recent call last)",
      "\u001b[1;32m<ipython-input-35-3b26d9643a0b>\u001b[0m in \u001b[0;36m<module>\u001b[1;34m\u001b[0m\n\u001b[1;32m----> 1\u001b[1;33m \u001b[0mtest\u001b[0m\u001b[1;33m[\u001b[0m\u001b[1;34m'TotalBath'\u001b[0m\u001b[1;33m]\u001b[0m\u001b[1;33m=\u001b[0m\u001b[0mtest\u001b[0m\u001b[1;33m[\u001b[0m\u001b[1;34m'BsmtFullBath'\u001b[0m\u001b[1;33m]\u001b[0m\u001b[1;33m+\u001b[0m\u001b[0mtrain\u001b[0m\u001b[1;33m[\u001b[0m\u001b[1;34m'BsmtHalfBath'\u001b[0m\u001b[1;33m]\u001b[0m\u001b[1;33m/\u001b[0m\u001b[1;36m2\u001b[0m\u001b[1;33m+\u001b[0m\u001b[0mtrain\u001b[0m\u001b[1;33m[\u001b[0m\u001b[1;34m'FullBath'\u001b[0m\u001b[1;33m]\u001b[0m\u001b[1;33m+\u001b[0m\u001b[0mtrain\u001b[0m\u001b[1;33m[\u001b[0m\u001b[1;34m'HalfBath'\u001b[0m\u001b[1;33m]\u001b[0m\u001b[1;33m/\u001b[0m\u001b[1;36m2\u001b[0m\u001b[1;33m\u001b[0m\u001b[1;33m\u001b[0m\u001b[0m\n\u001b[0m",
      "\u001b[1;31mNameError\u001b[0m: name 'train' is not defined"
     ]
    }
   ],
   "source": [
    "test['TotalBath']=test['BsmtFullBath']+train['BsmtHalfBath']/2+train['FullBath']+train['HalfBath']/2"
   ]
  },
  {
   "cell_type": "code",
   "execution_count": null,
   "metadata": {},
   "outputs": [],
   "source": [
    "import statsmodels.api as sm\n",
    "x = sm.add_constant(trainX_26)\n",
    "model = sm.OLS(trainY2, x)\n",
    "results = model.fit()\n",
    "print(results.summary())"
   ]
  },
  {
   "cell_type": "markdown",
   "metadata": {},
   "source": [
    "\n",
    "continuous and ordinal \n",
    "- some features dropped to zero with relatively small penalization\n",
    "1. LotFrontage \n",
    "2. YearReModAdd - interesting it dropped to zero then back \n",
    "3. ExterCond - could be correlated to ExterQual \n",
    "4. BsmtCond - could be correlated to BsmtQual \n",
    "5. BsmtFinSF2 - could be correleated to Bsmt features\n",
    "6. BsmtUnfSF - could be correlated to other Bsmt features \n",
    "7. BedrooAbvG - zero after 7 alphas \n",
    "8. GarageYrBlt - could be correlated to YrHouseBuilt \n",
    "9. GarageQual - could be correlated to OverallQual or other Garage features \n",
    "10. GarageCond - could be correlated to GarageQual or OverallQual\n",
    "11. PavedDrive - could be related to OverallQual \n",
    "12. OpenPorchSF - maybe we should remove \n",
    "13. EnclosedPorchSF - maybe we should remove \n",
    "14. 3SsnPorch - zero at 6th alpha\n",
    "15. PoolArea - maybe w should remove \n",
    "16. PoolQC - \n",
    "18. Fence\n",
    "19. MoSold - \n",
    "20. YrSold - \n",
    "21. Gar2  (misc feature) - maybe we should remove\n",
    "22. Shed (misc feature) - maybe we should remove \n",
    "23. TenC (misc feature tennis court) - maybe we should remoe \n",
    "\n",
    "- coefs decreased  to zero then above zero \n",
    "1. TotalBsmtSF\n",
    "2. 1stFlrSf\n",
    "3. ExterQual\n",
    "4. TotalBsmtSF \n",
    "\n",
    "\n",
    "\n",
    "- coefs that increased then decreased \n",
    "1. BsmtFinType1\n",
    "\n",
    "- coefs with increasing coefs \n",
    "1. OverallQual\n",
    "2. ExterQual \n",
    "3. KitchenQual \n",
    "4.  GarageCars\n",
    "\n",
    "- features that seem to be important\n",
    "1. LotArea\n",
    "2. OverallQual\n",
    "3. OverallCond\n",
    "4. YearBuilt\n",
    "5. YearRemodAdd\n",
    "6. MasVnrArea\n",
    "7. ExterQual\n",
    "8. BsmtQual\n",
    "9. BsmtFinType1\n",
    "10. BsmtFinTypeSF - maybe we should add together the SF?\n",
    "11. HeatingQC\n",
    "12. GrLivArea\n",
    "13. KitchenAbvGr\n",
    "14. KitchenQual\n",
    "15. GarageFinish\n",
    "16. GarageCars\n",
    "17. WooddeckSF\n",
    "18. TotalBaths\n",
    "\n",
    "\n",
    "\n",
    "#CATEGORICAL \n",
    "1. MS_Zoning - seems like RM (residential medium density has the most weight on coefs)\n",
    "\n",
    "2. Alley ( no vs paved)\n",
    "3. LotShape\n",
    "   - reg goes to zero quickly\n",
    "4. LotConfig \n",
    "   -FR2, FR3, Inside go down to zero quickly \n",
    "5. Landslope - call go down to zero quickly \n",
    "6. Neighborhood \n",
    "  - BrDale, ClearCr, CollgCr, Gilbert, IDOTRR, MeadowV, NAmes, NPkVills, SWISU, Sawyer, Timber go down quickly \n",
    "7. condition \n",
    "  -PoSA, RRan, RRNe, RRNn go down quickly \n",
    "8. Bldgtype \n",
    "   - 2fmCon goes down to zero quicly \n",
    "9. HouseStyle\n",
    "   0 2.5Unf, SFoyer, Slvl go down quickly \n",
    "10. RoofStyle\n",
    "   - Gambrel,Mansard,Shed\n",
    "   - Hip goes than to zero than back up \n",
    "11. RoofMatl  \n",
    "   - Metal,Roll,Tar&Grv,WdShake go down quickly \n",
    "    - WdShngl seem to matter E\n",
    "12. Exterior 1\n",
    "    -only CemntBd,HdBoard, ImStuc, and Wd Sdng did NOT go down to zero quickly \n",
    "13. Exterior 2 \n",
    "    - only _ImStucc, Stucco,Wd Shng did NOT go down to zero quickly \n",
    "     - VinylSd went to zero then back up \n",
    "14. MasVnrType\n",
    "   - Seems like BrkFace is the only that did not go down to zero quicly \n",
    "15. Foundation - does not like seem any of the dummified features are important \n",
    "16. BsmtExposure\n",
    "    -  only Gd and NoExposure seem to matter \n",
    "17. BsmtFinType2 - does not seem to matter \n",
    "18. Heating - only OthW seems to matter \n",
    "19. Electrical - does not seem to matter \n",
    "20. Central Air - does not seem to matter \n",
    "21. GarageType \n",
    "    -Builin went down to zero than back up \n",
    "22. SaleType \n",
    "   - only New Type seems to matter \n",
    "23. Sale Condition\n",
    "    - only Family seem to matter "
   ]
  },
  {
   "cell_type": "code",
   "execution_count": null,
   "metadata": {},
   "outputs": [],
   "source": [
    "import statsmodels.api as sm\n",
    "x = sm.add_constant(trainX_35)\n",
    "model = sm.OLS(trainY2, x)\n",
    "results = model.fit()\n",
    "print(results.summary())"
   ]
  },
  {
   "cell_type": "code",
   "execution_count": null,
   "metadata": {},
   "outputs": [],
   "source": [
    "import pandas as pd\n",
    "from sklearn.linear_model import LinearRegression\n",
    "\n",
    "def sklearn_vif(exogs, data):\n",
    "\n",
    "    # initialize dictionaries\n",
    "    vif_dict, tolerance_dict = {}, {}\n",
    "\n",
    "    # form input data for each exogenous variable\n",
    "    for exog in exogs:\n",
    "        not_exog = [i for i in exogs if i != exog]\n",
    "        X, y = data[not_exog], data[exog]\n",
    "\n",
    "        # extract r-squared from the fit\n",
    "        r_squared = LinearRegression().fit(X, y).score(X, y)\n",
    "\n",
    "        # calculate VIF\n",
    "        vif = 1/(1 - r_squared)\n",
    "        vif_dict[exog] = vif\n",
    "\n",
    "        # calculate tolerance\n",
    "        tolerance = 1 - r_squared\n",
    "        tolerance_dict[exog] = tolerance\n",
    "\n",
    "    # return VIF DataFrame\n",
    "    df_vif = pd.DataFrame({'VIF': vif_dict, 'Tolerance': tolerance_dict})\n",
    "\n",
    "    return df_vif"
   ]
  },
  {
   "cell_type": "code",
   "execution_count": null,
   "metadata": {},
   "outputs": [],
   "source": []
  }
 ],
 "metadata": {
  "kernelspec": {
   "display_name": "Python 3",
   "language": "python",
   "name": "python3"
  },
  "language_info": {
   "codemirror_mode": {
    "name": "ipython",
    "version": 3
   },
   "file_extension": ".py",
   "mimetype": "text/x-python",
   "name": "python",
   "nbconvert_exporter": "python",
   "pygments_lexer": "ipython3",
   "version": "3.7.3"
  }
 },
 "nbformat": 4,
 "nbformat_minor": 2
}
