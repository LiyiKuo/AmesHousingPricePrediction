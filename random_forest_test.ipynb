{
 "cells": [
  {
   "cell_type": "code",
   "execution_count": 216,
   "metadata": {},
   "outputs": [],
   "source": [
    "import pandas as pd\n",
    "import numpy as np\n",
    "import math\n",
    "import re\n",
    "import seaborn as sns\n",
    "from matplotlib import pyplot as plt\n",
    "import sklearn.model_selection as ms\n",
    "from sklearn.model_selection import train_test_split"
   ]
  },
  {
   "cell_type": "code",
   "execution_count": 186,
   "metadata": {},
   "outputs": [],
   "source": [
    "df = pd.read_csv('data/train_cleanV2.csv')"
   ]
  },
  {
   "cell_type": "code",
   "execution_count": 189,
   "metadata": {},
   "outputs": [
    {
     "data": {
      "text/html": [
       "<div>\n",
       "<style scoped>\n",
       "    .dataframe tbody tr th:only-of-type {\n",
       "        vertical-align: middle;\n",
       "    }\n",
       "\n",
       "    .dataframe tbody tr th {\n",
       "        vertical-align: top;\n",
       "    }\n",
       "\n",
       "    .dataframe thead th {\n",
       "        text-align: right;\n",
       "    }\n",
       "</style>\n",
       "<table border=\"1\" class=\"dataframe\">\n",
       "  <thead>\n",
       "    <tr style=\"text-align: right;\">\n",
       "      <th></th>\n",
       "      <th>Id</th>\n",
       "      <th>LotFrontage</th>\n",
       "      <th>LotArea</th>\n",
       "      <th>Neighborhood</th>\n",
       "      <th>OverallQual</th>\n",
       "      <th>OverallCond</th>\n",
       "      <th>YearBuilt</th>\n",
       "      <th>YearRemodAdd</th>\n",
       "      <th>MasVnrArea</th>\n",
       "      <th>ExterQual</th>\n",
       "      <th>...</th>\n",
       "      <th>MasVnrType_Stone</th>\n",
       "      <th>SaleCondition_AdjLand</th>\n",
       "      <th>SaleCondition_Alloca</th>\n",
       "      <th>SaleCondition_Family</th>\n",
       "      <th>SaleCondition_Normal</th>\n",
       "      <th>SaleCondition_Partial</th>\n",
       "      <th>BsmtExposure_Gd</th>\n",
       "      <th>BsmtExposure_Mn</th>\n",
       "      <th>BsmtExposure_NoBsmt</th>\n",
       "      <th>BsmtExposure_NoExposure</th>\n",
       "    </tr>\n",
       "  </thead>\n",
       "  <tbody>\n",
       "    <tr>\n",
       "      <th>214</th>\n",
       "      <td>215</td>\n",
       "      <td>66.019264</td>\n",
       "      <td>10900</td>\n",
       "      <td>20</td>\n",
       "      <td>6</td>\n",
       "      <td>7</td>\n",
       "      <td>1977</td>\n",
       "      <td>1977</td>\n",
       "      <td>153.0</td>\n",
       "      <td>3</td>\n",
       "      <td>...</td>\n",
       "      <td>0</td>\n",
       "      <td>0</td>\n",
       "      <td>0</td>\n",
       "      <td>0</td>\n",
       "      <td>1</td>\n",
       "      <td>0</td>\n",
       "      <td>0</td>\n",
       "      <td>0</td>\n",
       "      <td>0</td>\n",
       "      <td>1</td>\n",
       "    </tr>\n",
       "    <tr>\n",
       "      <th>1334</th>\n",
       "      <td>1343</td>\n",
       "      <td>75.000000</td>\n",
       "      <td>9375</td>\n",
       "      <td>20</td>\n",
       "      <td>8</td>\n",
       "      <td>5</td>\n",
       "      <td>2002</td>\n",
       "      <td>2002</td>\n",
       "      <td>149.0</td>\n",
       "      <td>4</td>\n",
       "      <td>...</td>\n",
       "      <td>0</td>\n",
       "      <td>0</td>\n",
       "      <td>0</td>\n",
       "      <td>0</td>\n",
       "      <td>1</td>\n",
       "      <td>0</td>\n",
       "      <td>0</td>\n",
       "      <td>0</td>\n",
       "      <td>0</td>\n",
       "      <td>1</td>\n",
       "    </tr>\n",
       "    <tr>\n",
       "      <th>821</th>\n",
       "      <td>825</td>\n",
       "      <td>81.000000</td>\n",
       "      <td>11216</td>\n",
       "      <td>22</td>\n",
       "      <td>8</td>\n",
       "      <td>5</td>\n",
       "      <td>2006</td>\n",
       "      <td>2006</td>\n",
       "      <td>0.0</td>\n",
       "      <td>4</td>\n",
       "      <td>...</td>\n",
       "      <td>0</td>\n",
       "      <td>0</td>\n",
       "      <td>0</td>\n",
       "      <td>0</td>\n",
       "      <td>0</td>\n",
       "      <td>1</td>\n",
       "      <td>0</td>\n",
       "      <td>0</td>\n",
       "      <td>0</td>\n",
       "      <td>1</td>\n",
       "    </tr>\n",
       "    <tr>\n",
       "      <th>1091</th>\n",
       "      <td>1098</td>\n",
       "      <td>43.277802</td>\n",
       "      <td>3696</td>\n",
       "      <td>25</td>\n",
       "      <td>8</td>\n",
       "      <td>5</td>\n",
       "      <td>1986</td>\n",
       "      <td>1986</td>\n",
       "      <td>0.0</td>\n",
       "      <td>4</td>\n",
       "      <td>...</td>\n",
       "      <td>0</td>\n",
       "      <td>0</td>\n",
       "      <td>0</td>\n",
       "      <td>0</td>\n",
       "      <td>1</td>\n",
       "      <td>0</td>\n",
       "      <td>0</td>\n",
       "      <td>0</td>\n",
       "      <td>0</td>\n",
       "      <td>1</td>\n",
       "    </tr>\n",
       "    <tr>\n",
       "      <th>24</th>\n",
       "      <td>25</td>\n",
       "      <td>55.400493</td>\n",
       "      <td>8246</td>\n",
       "      <td>12</td>\n",
       "      <td>5</td>\n",
       "      <td>8</td>\n",
       "      <td>1968</td>\n",
       "      <td>2001</td>\n",
       "      <td>0.0</td>\n",
       "      <td>3</td>\n",
       "      <td>...</td>\n",
       "      <td>0</td>\n",
       "      <td>0</td>\n",
       "      <td>0</td>\n",
       "      <td>0</td>\n",
       "      <td>1</td>\n",
       "      <td>0</td>\n",
       "      <td>0</td>\n",
       "      <td>1</td>\n",
       "      <td>0</td>\n",
       "      <td>0</td>\n",
       "    </tr>\n",
       "    <tr>\n",
       "      <th>636</th>\n",
       "      <td>639</td>\n",
       "      <td>67.000000</td>\n",
       "      <td>8777</td>\n",
       "      <td>6</td>\n",
       "      <td>5</td>\n",
       "      <td>7</td>\n",
       "      <td>1910</td>\n",
       "      <td>1950</td>\n",
       "      <td>0.0</td>\n",
       "      <td>3</td>\n",
       "      <td>...</td>\n",
       "      <td>0</td>\n",
       "      <td>0</td>\n",
       "      <td>0</td>\n",
       "      <td>0</td>\n",
       "      <td>1</td>\n",
       "      <td>0</td>\n",
       "      <td>0</td>\n",
       "      <td>0</td>\n",
       "      <td>0</td>\n",
       "      <td>1</td>\n",
       "    </tr>\n",
       "    <tr>\n",
       "      <th>365</th>\n",
       "      <td>367</td>\n",
       "      <td>75.647886</td>\n",
       "      <td>9500</td>\n",
       "      <td>10</td>\n",
       "      <td>6</td>\n",
       "      <td>5</td>\n",
       "      <td>1963</td>\n",
       "      <td>1963</td>\n",
       "      <td>247.0</td>\n",
       "      <td>3</td>\n",
       "      <td>...</td>\n",
       "      <td>0</td>\n",
       "      <td>0</td>\n",
       "      <td>0</td>\n",
       "      <td>0</td>\n",
       "      <td>1</td>\n",
       "      <td>0</td>\n",
       "      <td>0</td>\n",
       "      <td>0</td>\n",
       "      <td>0</td>\n",
       "      <td>1</td>\n",
       "    </tr>\n",
       "    <tr>\n",
       "      <th>576</th>\n",
       "      <td>579</td>\n",
       "      <td>34.000000</td>\n",
       "      <td>3604</td>\n",
       "      <td>22</td>\n",
       "      <td>7</td>\n",
       "      <td>5</td>\n",
       "      <td>2007</td>\n",
       "      <td>2007</td>\n",
       "      <td>0.0</td>\n",
       "      <td>4</td>\n",
       "      <td>...</td>\n",
       "      <td>0</td>\n",
       "      <td>0</td>\n",
       "      <td>0</td>\n",
       "      <td>0</td>\n",
       "      <td>0</td>\n",
       "      <td>0</td>\n",
       "      <td>0</td>\n",
       "      <td>0</td>\n",
       "      <td>0</td>\n",
       "      <td>1</td>\n",
       "    </tr>\n",
       "    <tr>\n",
       "      <th>428</th>\n",
       "      <td>430</td>\n",
       "      <td>130.000000</td>\n",
       "      <td>11457</td>\n",
       "      <td>21</td>\n",
       "      <td>6</td>\n",
       "      <td>5</td>\n",
       "      <td>1988</td>\n",
       "      <td>1988</td>\n",
       "      <td>0.0</td>\n",
       "      <td>3</td>\n",
       "      <td>...</td>\n",
       "      <td>0</td>\n",
       "      <td>0</td>\n",
       "      <td>0</td>\n",
       "      <td>0</td>\n",
       "      <td>1</td>\n",
       "      <td>0</td>\n",
       "      <td>0</td>\n",
       "      <td>1</td>\n",
       "      <td>0</td>\n",
       "      <td>0</td>\n",
       "    </tr>\n",
       "    <tr>\n",
       "      <th>401</th>\n",
       "      <td>403</td>\n",
       "      <td>60.000000</td>\n",
       "      <td>10200</td>\n",
       "      <td>12</td>\n",
       "      <td>5</td>\n",
       "      <td>8</td>\n",
       "      <td>1940</td>\n",
       "      <td>1997</td>\n",
       "      <td>0.0</td>\n",
       "      <td>3</td>\n",
       "      <td>...</td>\n",
       "      <td>0</td>\n",
       "      <td>0</td>\n",
       "      <td>0</td>\n",
       "      <td>0</td>\n",
       "      <td>1</td>\n",
       "      <td>0</td>\n",
       "      <td>0</td>\n",
       "      <td>0</td>\n",
       "      <td>0</td>\n",
       "      <td>1</td>\n",
       "    </tr>\n",
       "  </tbody>\n",
       "</table>\n",
       "<p>10 rows × 77 columns</p>\n",
       "</div>"
      ],
      "text/plain": [
       "        Id  LotFrontage  LotArea  Neighborhood  OverallQual  OverallCond  \\\n",
       "214    215    66.019264    10900            20            6            7   \n",
       "1334  1343    75.000000     9375            20            8            5   \n",
       "821    825    81.000000    11216            22            8            5   \n",
       "1091  1098    43.277802     3696            25            8            5   \n",
       "24      25    55.400493     8246            12            5            8   \n",
       "636    639    67.000000     8777             6            5            7   \n",
       "365    367    75.647886     9500            10            6            5   \n",
       "576    579    34.000000     3604            22            7            5   \n",
       "428    430   130.000000    11457            21            6            5   \n",
       "401    403    60.000000    10200            12            5            8   \n",
       "\n",
       "      YearBuilt  YearRemodAdd  MasVnrArea  ExterQual  ...  MasVnrType_Stone  \\\n",
       "214        1977          1977       153.0          3  ...                 0   \n",
       "1334       2002          2002       149.0          4  ...                 0   \n",
       "821        2006          2006         0.0          4  ...                 0   \n",
       "1091       1986          1986         0.0          4  ...                 0   \n",
       "24         1968          2001         0.0          3  ...                 0   \n",
       "636        1910          1950         0.0          3  ...                 0   \n",
       "365        1963          1963       247.0          3  ...                 0   \n",
       "576        2007          2007         0.0          4  ...                 0   \n",
       "428        1988          1988         0.0          3  ...                 0   \n",
       "401        1940          1997         0.0          3  ...                 0   \n",
       "\n",
       "      SaleCondition_AdjLand  SaleCondition_Alloca  SaleCondition_Family  \\\n",
       "214                       0                     0                     0   \n",
       "1334                      0                     0                     0   \n",
       "821                       0                     0                     0   \n",
       "1091                      0                     0                     0   \n",
       "24                        0                     0                     0   \n",
       "636                       0                     0                     0   \n",
       "365                       0                     0                     0   \n",
       "576                       0                     0                     0   \n",
       "428                       0                     0                     0   \n",
       "401                       0                     0                     0   \n",
       "\n",
       "      SaleCondition_Normal  SaleCondition_Partial  BsmtExposure_Gd  \\\n",
       "214                      1                      0                0   \n",
       "1334                     1                      0                0   \n",
       "821                      0                      1                0   \n",
       "1091                     1                      0                0   \n",
       "24                       1                      0                0   \n",
       "636                      1                      0                0   \n",
       "365                      1                      0                0   \n",
       "576                      0                      0                0   \n",
       "428                      1                      0                0   \n",
       "401                      1                      0                0   \n",
       "\n",
       "      BsmtExposure_Mn  BsmtExposure_NoBsmt  BsmtExposure_NoExposure  \n",
       "214                 0                    0                        1  \n",
       "1334                0                    0                        1  \n",
       "821                 0                    0                        1  \n",
       "1091                0                    0                        1  \n",
       "24                  1                    0                        0  \n",
       "636                 0                    0                        1  \n",
       "365                 0                    0                        1  \n",
       "576                 0                    0                        1  \n",
       "428                 1                    0                        0  \n",
       "401                 0                    0                        1  \n",
       "\n",
       "[10 rows x 77 columns]"
      ]
     },
     "execution_count": 189,
     "metadata": {},
     "output_type": "execute_result"
    }
   ],
   "source": [
    "df.sample(10)"
   ]
  },
  {
   "cell_type": "code",
   "execution_count": 190,
   "metadata": {},
   "outputs": [
    {
     "data": {
      "text/plain": [
       "['Id',\n",
       " 'LotFrontage',\n",
       " 'LotArea',\n",
       " 'Neighborhood',\n",
       " 'OverallQual',\n",
       " 'OverallCond',\n",
       " 'YearBuilt',\n",
       " 'YearRemodAdd',\n",
       " 'MasVnrArea',\n",
       " 'ExterQual',\n",
       " 'ExterCond',\n",
       " 'BsmtQual',\n",
       " 'BsmtCond',\n",
       " 'BsmtFinType1',\n",
       " 'TotalBsmtSF',\n",
       " 'HeatingQC',\n",
       " 'GrLivArea',\n",
       " 'BedroomAbvGr',\n",
       " 'KitchenAbvGr',\n",
       " 'KitchenQual',\n",
       " 'TotRmsAbvGrd',\n",
       " 'Functional',\n",
       " 'Fireplaces',\n",
       " 'FireplaceQu',\n",
       " 'GarageYrBlt',\n",
       " 'GarageFinish',\n",
       " 'GarageCars',\n",
       " 'GarageArea',\n",
       " 'GarageQual',\n",
       " 'GarageCond',\n",
       " 'PavedDrive',\n",
       " 'WoodDeckSF',\n",
       " 'OpenPorchSF',\n",
       " 'EnclosedPorch',\n",
       " '3SsnPorch',\n",
       " 'ScreenPorch',\n",
       " 'PoolArea',\n",
       " 'PoolQC',\n",
       " 'Fence',\n",
       " 'MoSold',\n",
       " 'YrSold',\n",
       " 'SalePrice',\n",
       " 'Gar2',\n",
       " 'Shed',\n",
       " 'TenC',\n",
       " 'TotalBath',\n",
       " 'Bedroom/Bathroom',\n",
       " 'LotConfig_CulDSac',\n",
       " 'LotConfig_FR2',\n",
       " 'LotConfig_FR3',\n",
       " 'LotConfig_Inside',\n",
       " 'Exterior1st_MetalSd',\n",
       " 'Exterior1st_Other',\n",
       " 'Exterior1st_Plywood',\n",
       " 'Exterior1st_VinylSd',\n",
       " 'Exterior1st_Wd Sdng',\n",
       " 'Exterior2nd_HdBoard',\n",
       " 'Exterior2nd_MetalSd',\n",
       " 'Exterior2nd_Other',\n",
       " 'Exterior2nd_Plywood',\n",
       " 'Exterior2nd_VinylSd',\n",
       " 'Exterior2nd_Wd Sdng',\n",
       " 'Foundation_CBlock',\n",
       " 'Foundation_Other',\n",
       " 'Foundation_PConc',\n",
       " 'MasVnrType_BrkFace',\n",
       " 'MasVnrType_None',\n",
       " 'MasVnrType_Stone',\n",
       " 'SaleCondition_AdjLand',\n",
       " 'SaleCondition_Alloca',\n",
       " 'SaleCondition_Family',\n",
       " 'SaleCondition_Normal',\n",
       " 'SaleCondition_Partial',\n",
       " 'BsmtExposure_Gd',\n",
       " 'BsmtExposure_Mn',\n",
       " 'BsmtExposure_NoBsmt',\n",
       " 'BsmtExposure_NoExposure']"
      ]
     },
     "execution_count": 190,
     "metadata": {},
     "output_type": "execute_result"
    }
   ],
   "source": [
    "list(df.columns)"
   ]
  },
  {
   "cell_type": "code",
   "execution_count": 191,
   "metadata": {
    "scrolled": false
   },
   "outputs": [
    {
     "data": {
      "text/html": [
       "<div>\n",
       "<style scoped>\n",
       "    .dataframe tbody tr th:only-of-type {\n",
       "        vertical-align: middle;\n",
       "    }\n",
       "\n",
       "    .dataframe tbody tr th {\n",
       "        vertical-align: top;\n",
       "    }\n",
       "\n",
       "    .dataframe thead th {\n",
       "        text-align: right;\n",
       "    }\n",
       "</style>\n",
       "<table border=\"1\" class=\"dataframe\">\n",
       "  <thead>\n",
       "    <tr style=\"text-align: right;\">\n",
       "      <th></th>\n",
       "      <th>Id</th>\n",
       "      <th>LotFrontage</th>\n",
       "      <th>LotArea</th>\n",
       "      <th>Neighborhood</th>\n",
       "      <th>OverallQual</th>\n",
       "      <th>OverallCond</th>\n",
       "      <th>YearBuilt</th>\n",
       "      <th>YearRemodAdd</th>\n",
       "      <th>MasVnrArea</th>\n",
       "      <th>ExterQual</th>\n",
       "      <th>...</th>\n",
       "      <th>MasVnrType_Stone</th>\n",
       "      <th>SaleCondition_AdjLand</th>\n",
       "      <th>SaleCondition_Alloca</th>\n",
       "      <th>SaleCondition_Family</th>\n",
       "      <th>SaleCondition_Normal</th>\n",
       "      <th>SaleCondition_Partial</th>\n",
       "      <th>BsmtExposure_Gd</th>\n",
       "      <th>BsmtExposure_Mn</th>\n",
       "      <th>BsmtExposure_NoBsmt</th>\n",
       "      <th>BsmtExposure_NoExposure</th>\n",
       "    </tr>\n",
       "  </thead>\n",
       "  <tbody>\n",
       "  </tbody>\n",
       "</table>\n",
       "<p>0 rows × 77 columns</p>\n",
       "</div>"
      ],
      "text/plain": [
       "Empty DataFrame\n",
       "Columns: [Id, LotFrontage, LotArea, Neighborhood, OverallQual, OverallCond, YearBuilt, YearRemodAdd, MasVnrArea, ExterQual, ExterCond, BsmtQual, BsmtCond, BsmtFinType1, TotalBsmtSF, HeatingQC, GrLivArea, BedroomAbvGr, KitchenAbvGr, KitchenQual, TotRmsAbvGrd, Functional, Fireplaces, FireplaceQu, GarageYrBlt, GarageFinish, GarageCars, GarageArea, GarageQual, GarageCond, PavedDrive, WoodDeckSF, OpenPorchSF, EnclosedPorch, 3SsnPorch, ScreenPorch, PoolArea, PoolQC, Fence, MoSold, YrSold, SalePrice, Gar2, Shed, TenC, TotalBath, Bedroom/Bathroom, LotConfig_CulDSac, LotConfig_FR2, LotConfig_FR3, LotConfig_Inside, Exterior1st_MetalSd, Exterior1st_Other, Exterior1st_Plywood, Exterior1st_VinylSd, Exterior1st_Wd Sdng, Exterior2nd_HdBoard, Exterior2nd_MetalSd, Exterior2nd_Other, Exterior2nd_Plywood, Exterior2nd_VinylSd, Exterior2nd_Wd Sdng, Foundation_CBlock, Foundation_Other, Foundation_PConc, MasVnrType_BrkFace, MasVnrType_None, MasVnrType_Stone, SaleCondition_AdjLand, SaleCondition_Alloca, SaleCondition_Family, SaleCondition_Normal, SaleCondition_Partial, BsmtExposure_Gd, BsmtExposure_Mn, BsmtExposure_NoBsmt, BsmtExposure_NoExposure]\n",
       "Index: []\n",
       "\n",
       "[0 rows x 77 columns]"
      ]
     },
     "execution_count": 191,
     "metadata": {},
     "output_type": "execute_result"
    }
   ],
   "source": [
    "df[df.isna().any(axis=1)]"
   ]
  },
  {
   "cell_type": "code",
   "execution_count": 192,
   "metadata": {},
   "outputs": [],
   "source": [
    "from sklearn import ensemble"
   ]
  },
  {
   "cell_type": "code",
   "execution_count": 193,
   "metadata": {
    "scrolled": true
   },
   "outputs": [
    {
     "data": {
      "text/plain": [
       "RandomForestRegressor(bootstrap=True, criterion='mse', max_depth=None,\n",
       "                      max_features=4, max_leaf_nodes=None,\n",
       "                      min_impurity_decrease=0.0, min_impurity_split=None,\n",
       "                      min_samples_leaf=1, min_samples_split=2,\n",
       "                      min_weight_fraction_leaf=0.0, n_estimators=50,\n",
       "                      n_jobs=None, oob_score=False, random_state=42, verbose=0,\n",
       "                      warm_start=False)"
      ]
     },
     "execution_count": 193,
     "metadata": {},
     "output_type": "execute_result"
    }
   ],
   "source": [
    "randomForest = ensemble.RandomForestRegressor()\n",
    "randomForest.set_params(random_state=42, n_estimators=50, max_features=4)\n",
    "df_X = df.loc[:,(df.columns != 'Id') & (df.columns != 'SalePrice')]\n",
    "randomForest.fit(np.array(df_X), np.array(df['SalePrice']))"
   ]
  },
  {
   "cell_type": "code",
   "execution_count": 194,
   "metadata": {},
   "outputs": [],
   "source": [
    "feature_importance = sorted(list(zip(list(df_X.columns), list(randomForest.feature_importances_))), key=lambda tup: tup[1], reverse=True)"
   ]
  },
  {
   "cell_type": "code",
   "execution_count": 195,
   "metadata": {
    "scrolled": true
   },
   "outputs": [
    {
     "data": {
      "text/plain": [
       "[('GrLivArea', 0.08766640552552343),\n",
       " ('KitchenQual', 0.06022168395692503),\n",
       " ('OverallQual', 0.05676703259923115),\n",
       " ('TotalBsmtSF', 0.05523778606509845),\n",
       " ('BsmtQual', 0.05322223460501342),\n",
       " ('YearBuilt', 0.05211839397622077),\n",
       " ('GarageArea', 0.04729969578375304),\n",
       " ('GarageYrBlt', 0.04326342775452955),\n",
       " ('Neighborhood', 0.04179979168615906),\n",
       " ('LotArea', 0.03375791435523899),\n",
       " ('TotalBath', 0.03263742357732375),\n",
       " ('GarageCars', 0.03236590449312141),\n",
       " ('YearRemodAdd', 0.03191857977923782),\n",
       " ('ExterQual', 0.029965752146518355),\n",
       " ('TotRmsAbvGrd', 0.029158476471342645),\n",
       " ('LotFrontage', 0.025969209318625595),\n",
       " ('FireplaceQu', 0.025537898836762482),\n",
       " ('Fireplaces', 0.023338136123020343),\n",
       " ('MasVnrArea', 0.022667275073025406),\n",
       " ('GarageFinish', 0.020331124621180793),\n",
       " ('OpenPorchSF', 0.018159613336623866),\n",
       " ('Bedroom/Bathroom', 0.014277648245383046),\n",
       " ('HeatingQC', 0.013170917857274297),\n",
       " ('WoodDeckSF', 0.012075955983003768),\n",
       " ('Foundation_PConc', 0.010675446926609345)]"
      ]
     },
     "execution_count": 195,
     "metadata": {},
     "output_type": "execute_result"
    }
   ],
   "source": [
    "top_features = list(filter(lambda tup: tup[1] > 0.01, feature_importance))\n",
    "top_features"
   ]
  },
  {
   "cell_type": "code",
   "execution_count": 196,
   "metadata": {},
   "outputs": [
    {
     "data": {
      "text/plain": [
       "25"
      ]
     },
     "execution_count": 196,
     "metadata": {},
     "output_type": "execute_result"
    }
   ],
   "source": [
    "len(top_features)"
   ]
  },
  {
   "cell_type": "code",
   "execution_count": 197,
   "metadata": {
    "scrolled": true
   },
   "outputs": [
    {
     "data": {
      "text/plain": [
       "{'bootstrap': True,\n",
       " 'criterion': 'mse',\n",
       " 'max_depth': None,\n",
       " 'max_features': 4,\n",
       " 'max_leaf_nodes': None,\n",
       " 'min_impurity_decrease': 0.0,\n",
       " 'min_impurity_split': None,\n",
       " 'min_samples_leaf': 1,\n",
       " 'min_samples_split': 2,\n",
       " 'min_weight_fraction_leaf': 0.0,\n",
       " 'n_estimators': 50,\n",
       " 'n_jobs': None,\n",
       " 'oob_score': False,\n",
       " 'random_state': 42,\n",
       " 'verbose': 0,\n",
       " 'warm_start': False}"
      ]
     },
     "execution_count": 197,
     "metadata": {},
     "output_type": "execute_result"
    }
   ],
   "source": [
    "randomForest.get_params()"
   ]
  },
  {
   "cell_type": "code",
   "execution_count": 198,
   "metadata": {},
   "outputs": [
    {
     "data": {
      "text/plain": [
       "0.9775430519105217"
      ]
     },
     "execution_count": 198,
     "metadata": {},
     "output_type": "execute_result"
    }
   ],
   "source": [
    "randomForest.score(np.array(df_X), np.array(df['SalePrice']))"
   ]
  },
  {
   "cell_type": "code",
   "execution_count": 199,
   "metadata": {},
   "outputs": [
    {
     "data": {
      "text/plain": [
       "array([0.88043773, 0.82804883, 0.8428225 , 0.8674888 , 0.79522355])"
      ]
     },
     "execution_count": 199,
     "metadata": {},
     "output_type": "execute_result"
    }
   ],
   "source": [
    "import sklearn.model_selection as ms\n",
    "\n",
    "cv_k5 = ms.KFold(n_splits=5)\n",
    "randomForest_cv = ensemble.RandomForestRegressor()\n",
    "randomForest_cv.set_params(random_state=42, n_estimators=50, max_features=4)\n",
    "cv_scores = ms.cross_val_score(randomForest_cv, np.array(df_X), np.array(df['SalePrice']),cv=5)\n",
    "cv_scores"
   ]
  },
  {
   "cell_type": "code",
   "execution_count": 200,
   "metadata": {},
   "outputs": [
    {
     "data": {
      "text/plain": [
       "['GrLivArea',\n",
       " 'KitchenQual',\n",
       " 'OverallQual',\n",
       " 'TotalBsmtSF',\n",
       " 'BsmtQual',\n",
       " 'YearBuilt',\n",
       " 'GarageArea',\n",
       " 'GarageYrBlt',\n",
       " 'Neighborhood',\n",
       " 'LotArea',\n",
       " 'TotalBath',\n",
       " 'GarageCars',\n",
       " 'YearRemodAdd',\n",
       " 'ExterQual',\n",
       " 'TotRmsAbvGrd',\n",
       " 'LotFrontage',\n",
       " 'FireplaceQu',\n",
       " 'Fireplaces',\n",
       " 'MasVnrArea',\n",
       " 'GarageFinish',\n",
       " 'OpenPorchSF',\n",
       " 'Bedroom/Bathroom',\n",
       " 'HeatingQC',\n",
       " 'WoodDeckSF',\n",
       " 'Foundation_PConc']"
      ]
     },
     "execution_count": 200,
     "metadata": {},
     "output_type": "execute_result"
    }
   ],
   "source": [
    "top25_features = list(map(lambda x: x[0], top_features))\n",
    "top25_features"
   ]
  },
  {
   "cell_type": "code",
   "execution_count": 201,
   "metadata": {},
   "outputs": [
    {
     "data": {
      "text/html": [
       "<div>\n",
       "<style scoped>\n",
       "    .dataframe tbody tr th:only-of-type {\n",
       "        vertical-align: middle;\n",
       "    }\n",
       "\n",
       "    .dataframe tbody tr th {\n",
       "        vertical-align: top;\n",
       "    }\n",
       "\n",
       "    .dataframe thead th {\n",
       "        text-align: right;\n",
       "    }\n",
       "</style>\n",
       "<table border=\"1\" class=\"dataframe\">\n",
       "  <thead>\n",
       "    <tr style=\"text-align: right;\">\n",
       "      <th></th>\n",
       "      <th>LotFrontage</th>\n",
       "      <th>LotArea</th>\n",
       "      <th>OverallQual</th>\n",
       "      <th>YearBuilt</th>\n",
       "      <th>YearRemodAdd</th>\n",
       "      <th>MasVnrArea</th>\n",
       "      <th>ExterQual</th>\n",
       "      <th>BsmtQual</th>\n",
       "      <th>BsmtFinType1</th>\n",
       "      <th>TotalBsmtSF</th>\n",
       "      <th>...</th>\n",
       "      <th>FireplaceQu</th>\n",
       "      <th>GarageYrBlt</th>\n",
       "      <th>GarageFinish</th>\n",
       "      <th>GarageCars</th>\n",
       "      <th>GarageArea</th>\n",
       "      <th>WoodDeckSF</th>\n",
       "      <th>OpenPorchSF</th>\n",
       "      <th>TotalBath</th>\n",
       "      <th>Bedroom/Bathroom</th>\n",
       "      <th>Foundation_CBlock</th>\n",
       "    </tr>\n",
       "  </thead>\n",
       "  <tbody>\n",
       "    <tr>\n",
       "      <th>0</th>\n",
       "      <td>65.0</td>\n",
       "      <td>8450</td>\n",
       "      <td>7</td>\n",
       "      <td>2003</td>\n",
       "      <td>2003</td>\n",
       "      <td>196.0</td>\n",
       "      <td>4</td>\n",
       "      <td>4</td>\n",
       "      <td>6</td>\n",
       "      <td>856</td>\n",
       "      <td>...</td>\n",
       "      <td>0</td>\n",
       "      <td>2003.0</td>\n",
       "      <td>2</td>\n",
       "      <td>2</td>\n",
       "      <td>548</td>\n",
       "      <td>0</td>\n",
       "      <td>61</td>\n",
       "      <td>4</td>\n",
       "      <td>0.75</td>\n",
       "      <td>0</td>\n",
       "    </tr>\n",
       "    <tr>\n",
       "      <th>1</th>\n",
       "      <td>80.0</td>\n",
       "      <td>9600</td>\n",
       "      <td>6</td>\n",
       "      <td>1976</td>\n",
       "      <td>1976</td>\n",
       "      <td>0.0</td>\n",
       "      <td>3</td>\n",
       "      <td>4</td>\n",
       "      <td>5</td>\n",
       "      <td>1262</td>\n",
       "      <td>...</td>\n",
       "      <td>3</td>\n",
       "      <td>1976.0</td>\n",
       "      <td>2</td>\n",
       "      <td>2</td>\n",
       "      <td>460</td>\n",
       "      <td>298</td>\n",
       "      <td>0</td>\n",
       "      <td>3</td>\n",
       "      <td>1.00</td>\n",
       "      <td>1</td>\n",
       "    </tr>\n",
       "    <tr>\n",
       "      <th>2</th>\n",
       "      <td>68.0</td>\n",
       "      <td>11250</td>\n",
       "      <td>7</td>\n",
       "      <td>2001</td>\n",
       "      <td>2002</td>\n",
       "      <td>162.0</td>\n",
       "      <td>4</td>\n",
       "      <td>4</td>\n",
       "      <td>6</td>\n",
       "      <td>920</td>\n",
       "      <td>...</td>\n",
       "      <td>3</td>\n",
       "      <td>2001.0</td>\n",
       "      <td>2</td>\n",
       "      <td>2</td>\n",
       "      <td>608</td>\n",
       "      <td>0</td>\n",
       "      <td>42</td>\n",
       "      <td>4</td>\n",
       "      <td>0.75</td>\n",
       "      <td>0</td>\n",
       "    </tr>\n",
       "    <tr>\n",
       "      <th>3</th>\n",
       "      <td>60.0</td>\n",
       "      <td>9550</td>\n",
       "      <td>7</td>\n",
       "      <td>1915</td>\n",
       "      <td>1970</td>\n",
       "      <td>0.0</td>\n",
       "      <td>3</td>\n",
       "      <td>3</td>\n",
       "      <td>5</td>\n",
       "      <td>756</td>\n",
       "      <td>...</td>\n",
       "      <td>4</td>\n",
       "      <td>1998.0</td>\n",
       "      <td>1</td>\n",
       "      <td>3</td>\n",
       "      <td>642</td>\n",
       "      <td>0</td>\n",
       "      <td>35</td>\n",
       "      <td>2</td>\n",
       "      <td>1.50</td>\n",
       "      <td>0</td>\n",
       "    </tr>\n",
       "    <tr>\n",
       "      <th>4</th>\n",
       "      <td>84.0</td>\n",
       "      <td>14260</td>\n",
       "      <td>8</td>\n",
       "      <td>2000</td>\n",
       "      <td>2000</td>\n",
       "      <td>350.0</td>\n",
       "      <td>4</td>\n",
       "      <td>4</td>\n",
       "      <td>6</td>\n",
       "      <td>1145</td>\n",
       "      <td>...</td>\n",
       "      <td>3</td>\n",
       "      <td>2000.0</td>\n",
       "      <td>2</td>\n",
       "      <td>3</td>\n",
       "      <td>836</td>\n",
       "      <td>192</td>\n",
       "      <td>84</td>\n",
       "      <td>4</td>\n",
       "      <td>1.00</td>\n",
       "      <td>0</td>\n",
       "    </tr>\n",
       "    <tr>\n",
       "      <th>...</th>\n",
       "      <td>...</td>\n",
       "      <td>...</td>\n",
       "      <td>...</td>\n",
       "      <td>...</td>\n",
       "      <td>...</td>\n",
       "      <td>...</td>\n",
       "      <td>...</td>\n",
       "      <td>...</td>\n",
       "      <td>...</td>\n",
       "      <td>...</td>\n",
       "      <td>...</td>\n",
       "      <td>...</td>\n",
       "      <td>...</td>\n",
       "      <td>...</td>\n",
       "      <td>...</td>\n",
       "      <td>...</td>\n",
       "      <td>...</td>\n",
       "      <td>...</td>\n",
       "      <td>...</td>\n",
       "      <td>...</td>\n",
       "      <td>...</td>\n",
       "    </tr>\n",
       "    <tr>\n",
       "      <th>1447</th>\n",
       "      <td>62.0</td>\n",
       "      <td>7917</td>\n",
       "      <td>6</td>\n",
       "      <td>1999</td>\n",
       "      <td>2000</td>\n",
       "      <td>0.0</td>\n",
       "      <td>3</td>\n",
       "      <td>4</td>\n",
       "      <td>1</td>\n",
       "      <td>953</td>\n",
       "      <td>...</td>\n",
       "      <td>3</td>\n",
       "      <td>1999.0</td>\n",
       "      <td>2</td>\n",
       "      <td>2</td>\n",
       "      <td>460</td>\n",
       "      <td>0</td>\n",
       "      <td>40</td>\n",
       "      <td>3</td>\n",
       "      <td>1.00</td>\n",
       "      <td>0</td>\n",
       "    </tr>\n",
       "    <tr>\n",
       "      <th>1448</th>\n",
       "      <td>85.0</td>\n",
       "      <td>13175</td>\n",
       "      <td>6</td>\n",
       "      <td>1978</td>\n",
       "      <td>1988</td>\n",
       "      <td>119.0</td>\n",
       "      <td>3</td>\n",
       "      <td>4</td>\n",
       "      <td>5</td>\n",
       "      <td>1542</td>\n",
       "      <td>...</td>\n",
       "      <td>3</td>\n",
       "      <td>1978.0</td>\n",
       "      <td>1</td>\n",
       "      <td>2</td>\n",
       "      <td>500</td>\n",
       "      <td>349</td>\n",
       "      <td>0</td>\n",
       "      <td>3</td>\n",
       "      <td>1.00</td>\n",
       "      <td>1</td>\n",
       "    </tr>\n",
       "    <tr>\n",
       "      <th>1449</th>\n",
       "      <td>66.0</td>\n",
       "      <td>9042</td>\n",
       "      <td>7</td>\n",
       "      <td>1941</td>\n",
       "      <td>2006</td>\n",
       "      <td>0.0</td>\n",
       "      <td>5</td>\n",
       "      <td>3</td>\n",
       "      <td>6</td>\n",
       "      <td>1152</td>\n",
       "      <td>...</td>\n",
       "      <td>4</td>\n",
       "      <td>1941.0</td>\n",
       "      <td>2</td>\n",
       "      <td>1</td>\n",
       "      <td>252</td>\n",
       "      <td>0</td>\n",
       "      <td>60</td>\n",
       "      <td>2</td>\n",
       "      <td>2.00</td>\n",
       "      <td>0</td>\n",
       "    </tr>\n",
       "    <tr>\n",
       "      <th>1450</th>\n",
       "      <td>68.0</td>\n",
       "      <td>9717</td>\n",
       "      <td>5</td>\n",
       "      <td>1950</td>\n",
       "      <td>1996</td>\n",
       "      <td>0.0</td>\n",
       "      <td>3</td>\n",
       "      <td>3</td>\n",
       "      <td>6</td>\n",
       "      <td>1078</td>\n",
       "      <td>...</td>\n",
       "      <td>0</td>\n",
       "      <td>1950.0</td>\n",
       "      <td>1</td>\n",
       "      <td>1</td>\n",
       "      <td>240</td>\n",
       "      <td>366</td>\n",
       "      <td>0</td>\n",
       "      <td>2</td>\n",
       "      <td>1.00</td>\n",
       "      <td>1</td>\n",
       "    </tr>\n",
       "    <tr>\n",
       "      <th>1451</th>\n",
       "      <td>75.0</td>\n",
       "      <td>9937</td>\n",
       "      <td>5</td>\n",
       "      <td>1965</td>\n",
       "      <td>1965</td>\n",
       "      <td>0.0</td>\n",
       "      <td>4</td>\n",
       "      <td>3</td>\n",
       "      <td>4</td>\n",
       "      <td>1256</td>\n",
       "      <td>...</td>\n",
       "      <td>0</td>\n",
       "      <td>1965.0</td>\n",
       "      <td>3</td>\n",
       "      <td>1</td>\n",
       "      <td>276</td>\n",
       "      <td>736</td>\n",
       "      <td>68</td>\n",
       "      <td>3</td>\n",
       "      <td>1.00</td>\n",
       "      <td>1</td>\n",
       "    </tr>\n",
       "  </tbody>\n",
       "</table>\n",
       "<p>1452 rows × 25 columns</p>\n",
       "</div>"
      ],
      "text/plain": [
       "      LotFrontage  LotArea  OverallQual  YearBuilt  YearRemodAdd  MasVnrArea  \\\n",
       "0            65.0     8450            7       2003          2003       196.0   \n",
       "1            80.0     9600            6       1976          1976         0.0   \n",
       "2            68.0    11250            7       2001          2002       162.0   \n",
       "3            60.0     9550            7       1915          1970         0.0   \n",
       "4            84.0    14260            8       2000          2000       350.0   \n",
       "...           ...      ...          ...        ...           ...         ...   \n",
       "1447         62.0     7917            6       1999          2000         0.0   \n",
       "1448         85.0    13175            6       1978          1988       119.0   \n",
       "1449         66.0     9042            7       1941          2006         0.0   \n",
       "1450         68.0     9717            5       1950          1996         0.0   \n",
       "1451         75.0     9937            5       1965          1965         0.0   \n",
       "\n",
       "      ExterQual  BsmtQual  BsmtFinType1  TotalBsmtSF  ...  FireplaceQu  \\\n",
       "0             4         4             6          856  ...            0   \n",
       "1             3         4             5         1262  ...            3   \n",
       "2             4         4             6          920  ...            3   \n",
       "3             3         3             5          756  ...            4   \n",
       "4             4         4             6         1145  ...            3   \n",
       "...         ...       ...           ...          ...  ...          ...   \n",
       "1447          3         4             1          953  ...            3   \n",
       "1448          3         4             5         1542  ...            3   \n",
       "1449          5         3             6         1152  ...            4   \n",
       "1450          3         3             6         1078  ...            0   \n",
       "1451          4         3             4         1256  ...            0   \n",
       "\n",
       "      GarageYrBlt  GarageFinish  GarageCars  GarageArea  WoodDeckSF  \\\n",
       "0          2003.0             2           2         548           0   \n",
       "1          1976.0             2           2         460         298   \n",
       "2          2001.0             2           2         608           0   \n",
       "3          1998.0             1           3         642           0   \n",
       "4          2000.0             2           3         836         192   \n",
       "...           ...           ...         ...         ...         ...   \n",
       "1447       1999.0             2           2         460           0   \n",
       "1448       1978.0             1           2         500         349   \n",
       "1449       1941.0             2           1         252           0   \n",
       "1450       1950.0             1           1         240         366   \n",
       "1451       1965.0             3           1         276         736   \n",
       "\n",
       "      OpenPorchSF  TotalBath  Bedroom/Bathroom  Foundation_CBlock  \n",
       "0              61          4              0.75                  0  \n",
       "1               0          3              1.00                  1  \n",
       "2              42          4              0.75                  0  \n",
       "3              35          2              1.50                  0  \n",
       "4              84          4              1.00                  0  \n",
       "...           ...        ...               ...                ...  \n",
       "1447           40          3              1.00                  0  \n",
       "1448            0          3              1.00                  1  \n",
       "1449           60          2              2.00                  0  \n",
       "1450            0          2              1.00                  1  \n",
       "1451           68          3              1.00                  1  \n",
       "\n",
       "[1452 rows x 25 columns]"
      ]
     },
     "execution_count": 201,
     "metadata": {},
     "output_type": "execute_result"
    }
   ],
   "source": [
    "df.loc[:, df.columns.isin(top30_features)]"
   ]
  },
  {
   "cell_type": "code",
   "execution_count": 202,
   "metadata": {},
   "outputs": [
    {
     "data": {
      "text/plain": [
       "0.9779327356827335"
      ]
     },
     "execution_count": 202,
     "metadata": {},
     "output_type": "execute_result"
    }
   ],
   "source": [
    "reduced_forest = ensemble.RandomForestRegressor()\n",
    "reduced_forest.set_params(random_state=42, n_estimators=50, max_features=4)\n",
    "reduced_forest.fit(np.array(df.loc[:, df.columns.isin(top30_features)]), np.array(df['SalePrice']))\n",
    "reduced_forest.score(np.array(df.loc[:, df.columns.isin(top30_features)]), np.array(df['SalePrice']))"
   ]
  },
  {
   "cell_type": "code",
   "execution_count": 203,
   "metadata": {
    "scrolled": false
   },
   "outputs": [
    {
     "data": {
      "text/plain": [
       "array([0.02117153, 0.03291498, 0.18950559, 0.03421561, 0.02471048,\n",
       "       0.01537431, 0.07090371, 0.05034816, 0.00665969, 0.07828152,\n",
       "       0.00741787, 0.0949884 , 0.06609224, 0.02209232, 0.01919537,\n",
       "       0.01369099, 0.02305002, 0.02071103, 0.06335908, 0.07578419,\n",
       "       0.00994531, 0.00956568, 0.03607127, 0.0122072 , 0.00174347])"
      ]
     },
     "execution_count": 203,
     "metadata": {},
     "output_type": "execute_result"
    }
   ],
   "source": [
    "reduced_forest.feature_importances_"
   ]
  },
  {
   "cell_type": "code",
   "execution_count": 204,
   "metadata": {},
   "outputs": [
    {
     "data": {
      "text/plain": [
       "[('OverallQual', 0.18950558982215454),\n",
       " ('GrLivArea', 0.094988404961557),\n",
       " ('TotalBsmtSF', 0.0782815208788697),\n",
       " ('GarageArea', 0.07578418580988315),\n",
       " ('ExterQual', 0.07090370826673434),\n",
       " ('KitchenQual', 0.06609224219125916),\n",
       " ('GarageCars', 0.06335908413669708),\n",
       " ('BsmtQual', 0.050348155596498245),\n",
       " ('TotalBath', 0.03607127170437686),\n",
       " ('YearBuilt', 0.03421560971961088),\n",
       " ('LotArea', 0.032914976522713676),\n",
       " ('YearRemodAdd', 0.024710480807174858),\n",
       " ('GarageYrBlt', 0.02305001545047999),\n",
       " ('TotRmsAbvGrd', 0.02209232001067497),\n",
       " ('LotFrontage', 0.02117152790188805),\n",
       " ('GarageFinish', 0.020711025908568065)]"
      ]
     },
     "execution_count": 204,
     "metadata": {},
     "output_type": "execute_result"
    }
   ],
   "source": [
    "reduced_feature_importance = sorted(list(zip(list(df.loc[:, df.columns.isin(top30_features)].columns), \n",
    "                                             list(reduced_forest.feature_importances_))), \n",
    "                                    key=lambda tup: tup[1], reverse=True)\n",
    "reduced_top_features_16 = list(filter(lambda tup: tup[1] > 0.02, reduced_feature_importance))\n",
    "reduced_top_features_16"
   ]
  },
  {
   "cell_type": "code",
   "execution_count": 205,
   "metadata": {},
   "outputs": [
    {
     "data": {
      "text/plain": [
       "[('OverallQual', 0.18950558982215454),\n",
       " ('GrLivArea', 0.094988404961557),\n",
       " ('TotalBsmtSF', 0.0782815208788697),\n",
       " ('GarageArea', 0.07578418580988315),\n",
       " ('ExterQual', 0.07090370826673434),\n",
       " ('KitchenQual', 0.06609224219125916),\n",
       " ('GarageCars', 0.06335908413669708),\n",
       " ('BsmtQual', 0.050348155596498245)]"
      ]
     },
     "execution_count": 205,
     "metadata": {},
     "output_type": "execute_result"
    }
   ],
   "source": [
    "reduced_top_features_8 = list(filter(lambda tup: tup[1] > 0.05, reduced_feature_importance))\n",
    "reduced_top_features_8"
   ]
  },
  {
   "cell_type": "code",
   "execution_count": 206,
   "metadata": {},
   "outputs": [
    {
     "data": {
      "text/plain": [
       "['OverallQual',\n",
       " 'GrLivArea',\n",
       " 'TotalBsmtSF',\n",
       " 'GarageArea',\n",
       " 'ExterQual',\n",
       " 'KitchenQual',\n",
       " 'GarageCars',\n",
       " 'BsmtQual',\n",
       " 'TotalBath',\n",
       " 'YearBuilt',\n",
       " 'LotArea',\n",
       " 'YearRemodAdd',\n",
       " 'GarageYrBlt',\n",
       " 'TotRmsAbvGrd',\n",
       " 'LotFrontage',\n",
       " 'GarageFinish']"
      ]
     },
     "execution_count": 206,
     "metadata": {},
     "output_type": "execute_result"
    }
   ],
   "source": [
    "top16_features = list(map(lambda x: x[0], reduced_top_features_16))\n",
    "top16_features"
   ]
  },
  {
   "cell_type": "code",
   "execution_count": 207,
   "metadata": {},
   "outputs": [
    {
     "data": {
      "text/plain": [
       "['OverallQual',\n",
       " 'GrLivArea',\n",
       " 'TotalBsmtSF',\n",
       " 'GarageArea',\n",
       " 'ExterQual',\n",
       " 'KitchenQual',\n",
       " 'GarageCars',\n",
       " 'BsmtQual']"
      ]
     },
     "execution_count": 207,
     "metadata": {},
     "output_type": "execute_result"
    }
   ],
   "source": [
    "top8_features = list(map(lambda x: x[0], reduced_top_features_8))\n",
    "top8_features"
   ]
  },
  {
   "cell_type": "code",
   "execution_count": 208,
   "metadata": {
    "scrolled": false
   },
   "outputs": [
    {
     "data": {
      "text/plain": [
       "0.9780820422986479"
      ]
     },
     "execution_count": 208,
     "metadata": {},
     "output_type": "execute_result"
    }
   ],
   "source": [
    "reduced16_forest = ensemble.RandomForestRegressor()\n",
    "reduced16_forest.set_params(random_state=42, n_estimators=50, max_features=4)\n",
    "reduced16_forest.fit(np.array(df.loc[:, df.columns.isin(top16_features)]), np.array(df['SalePrice']))\n",
    "reduced16_forest.score(np.array(df.loc[:, df.columns.isin(top16_features)]), np.array(df['SalePrice']))"
   ]
  },
  {
   "cell_type": "code",
   "execution_count": 209,
   "metadata": {
    "scrolled": false
   },
   "outputs": [
    {
     "data": {
      "text/plain": [
       "array([0.02160106, 0.04358842, 0.22912989, 0.05056003, 0.01979849,\n",
       "       0.10041096, 0.03262423, 0.07906957, 0.14116877, 0.05429698,\n",
       "       0.02402034, 0.02565614, 0.01115633, 0.08072213, 0.04457439,\n",
       "       0.04162228])"
      ]
     },
     "execution_count": 209,
     "metadata": {},
     "output_type": "execute_result"
    }
   ],
   "source": [
    "reduced16_forest.feature_importances_"
   ]
  },
  {
   "cell_type": "code",
   "execution_count": 210,
   "metadata": {},
   "outputs": [
    {
     "data": {
      "text/plain": [
       "0.9740138373376618"
      ]
     },
     "execution_count": 210,
     "metadata": {},
     "output_type": "execute_result"
    }
   ],
   "source": [
    "reduced8_forest = ensemble.RandomForestRegressor()\n",
    "reduced8_forest.set_params(random_state=42, n_estimators=50, max_features=4)\n",
    "reduced8_forest.fit(np.array(df.loc[:, df.columns.isin(top8_features)]), np.array(df['SalePrice']))\n",
    "reduced8_forest.score(np.array(df.loc[:, df.columns.isin(top8_features)]), np.array(df['SalePrice']))"
   ]
  },
  {
   "cell_type": "code",
   "execution_count": 211,
   "metadata": {},
   "outputs": [
    {
     "data": {
      "text/plain": [
       "array([0.34162391, 0.0999509 , 0.04211375, 0.10300113, 0.18919154,\n",
       "       0.04439218, 0.11449503, 0.06523156])"
      ]
     },
     "execution_count": 211,
     "metadata": {},
     "output_type": "execute_result"
    }
   ],
   "source": [
    "reduced8_forest.feature_importances_"
   ]
  },
  {
   "cell_type": "code",
   "execution_count": 176,
   "metadata": {},
   "outputs": [],
   "source": [
    "from sklearn.model_selection import GridSearchCV\n",
    "grid_para_forest = [{\n",
    "    \"max_depth\": range(2,6),\n",
    "    \"max_features\": range(2, 6),\n",
    "    \"n_estimators\": range(50, 1050, 50)\n",
    "}]"
   ]
  },
  {
   "cell_type": "code",
   "execution_count": 177,
   "metadata": {
    "scrolled": true
   },
   "outputs": [
    {
     "name": "stdout",
     "output_type": "stream",
     "text": [
      "Fitting 5 folds for each of 320 candidates, totalling 1600 fits\n"
     ]
    },
    {
     "name": "stderr",
     "output_type": "stream",
     "text": [
      "[Parallel(n_jobs=-1)]: Using backend LokyBackend with 4 concurrent workers.\n",
      "[Parallel(n_jobs=-1)]: Done  61 tasks      | elapsed:   14.2s\n",
      "[Parallel(n_jobs=-1)]: Done 211 tasks      | elapsed:  1.3min\n",
      "[Parallel(n_jobs=-1)]: Done 461 tasks      | elapsed:  2.8min\n",
      "[Parallel(n_jobs=-1)]: Done 811 tasks      | elapsed:  5.1min\n",
      "[Parallel(n_jobs=-1)]: Done 1261 tasks      | elapsed:  8.1min\n",
      "[Parallel(n_jobs=-1)]: Done 1600 out of 1600 | elapsed: 10.8min finished\n"
     ]
    },
    {
     "data": {
      "text/plain": [
       "GridSearchCV(cv=5, error_score='raise-deprecating',\n",
       "             estimator=RandomForestRegressor(bootstrap=True, criterion='mse',\n",
       "                                             max_depth=None, max_features=4,\n",
       "                                             max_leaf_nodes=None,\n",
       "                                             min_impurity_decrease=0.0,\n",
       "                                             min_impurity_split=None,\n",
       "                                             min_samples_leaf=1,\n",
       "                                             min_samples_split=2,\n",
       "                                             min_weight_fraction_leaf=0.0,\n",
       "                                             n_estimators=50, n_jobs=None,\n",
       "                                             oob_score=False, random_state=42,\n",
       "                                             verbose=0, warm_start=False),\n",
       "             iid='warn', n_jobs=-1,\n",
       "             param_grid=[{'max_depth': range(2, 6), 'max_features': range(2, 6),\n",
       "                          'n_estimators': range(50, 1050, 50)}],\n",
       "             pre_dispatch='2*n_jobs', refit=True, return_train_score=True,\n",
       "             scoring='r2', verbose=1)"
      ]
     },
     "execution_count": 177,
     "metadata": {},
     "output_type": "execute_result"
    }
   ],
   "source": [
    "grid_forest_8 = GridSearchCV(reduced_forest, grid_para_forest, cv=5, scoring='r2', n_jobs=-1, return_train_score=True, verbose=1)\n",
    "grid_forest_8.fit(np.array(df.loc[:, df.columns.isin(top30_features)]), np.array(df['SalePrice']))"
   ]
  },
  {
   "cell_type": "code",
   "execution_count": 178,
   "metadata": {},
   "outputs": [
    {
     "data": {
      "image/png": "[encoded data removed]",
      "text/plain": [
       "<Figure size 432x288 with 1 Axes>"
      ]
     },
     "metadata": {
      "needs_background": "light"
     },
     "output_type": "display_data"
    },
    {
     "data": {
      "image/png": "[encoded data removed]",
      "text/plain": [
       "<Figure size 432x288 with 1 Axes>"
      ]
     },
     "metadata": {
      "needs_background": "light"
     },
     "output_type": "display_data"
    },
    {
     "data": {
      "image/png": "[encoded data removed]",
      "text/plain": [
       "<Figure size 432x288 with 1 Axes>"
      ]
     },
     "metadata": {
      "needs_background": "light"
     },
     "output_type": "display_data"
    },
    {
     "data": {
      "image/png": "[encoded data removed]",
      "text/plain": [
       "<Figure size 432x288 with 1 Axes>"
      ]
     },
     "metadata": {
      "needs_background": "light"
     },
     "output_type": "display_data"
    },
    {
     "data": {
      "image/png": "[encoded data removed]",
      "text/plain": [
       "<Figure size 432x288 with 1 Axes>"
      ]
     },
     "metadata": {
      "needs_background": "light"
     },
     "output_type": "display_data"
    },
    {
     "data": {
      "image/png": "[encoded data removed]",
      "text/plain": [
       "<Figure size 432x288 with 1 Axes>"
      ]
     },
     "metadata": {
      "needs_background": "light"
     },
     "output_type": "display_data"
    },
    {
     "data": {
      "image/png": "[encoded data removed]",
      "text/plain": [
       "<Figure size 432x288 with 1 Axes>"
      ]
     },
     "metadata": {
      "needs_background": "light"
     },
     "output_type": "display_data"
    },
    {
     "data": {
      "image/png": "[encoded data removed]",
      "text/plain": [
       "<Figure size 432x288 with 1 Axes>"
      ]
     },
     "metadata": {
      "needs_background": "light"
     },
     "output_type": "display_data"
    },
    {
     "data": {
      "image/png": "[encoded data removed]",
      "text/plain": [
       "<Figure size 432x288 with 1 Axes>"
      ]
     },
     "metadata": {
      "needs_background": "light"
     },
     "output_type": "display_data"
    },
    {
     "data": {
      "image/png": "[encoded data removed]",
      "text/plain": [
       "<Figure size 432x288 with 1 Axes>"
      ]
     },
     "metadata": {
      "needs_background": "light"
     },
     "output_type": "display_data"
    },
    {
     "data": {
      "image/png": "[encoded data removed]",
      "text/plain": [
       "<Figure size 432x288 with 1 Axes>"
      ]
     },
     "metadata": {
      "needs_background": "light"
     },
     "output_type": "display_data"
    },
    {
     "data": {
      "image/png": "[encoded data removed]",
      "text/plain": [
       "<Figure size 432x288 with 1 Axes>"
      ]
     },
     "metadata": {
      "needs_background": "light"
     },
     "output_type": "display_data"
    },
    {
     "data": {
      "image/png": "[encoded data removed]",
      "text/plain": [
       "<Figure size 432x288 with 1 Axes>"
      ]
     },
     "metadata": {
      "needs_background": "light"
     },
     "output_type": "display_data"
    },
    {
     "data": {
      "image/png": "[encoded data removed]",
      "text/plain": [
       "<Figure size 432x288 with 1 Axes>"
      ]
     },
     "metadata": {
      "needs_background": "light"
     },
     "output_type": "display_data"
    },
    {
     "data": {
      "image/png": "[encoded data removed]",
      "text/plain": [
       "<Figure size 432x288 with 1 Axes>"
      ]
     },
     "metadata": {
      "needs_background": "light"
     },
     "output_type": "display_data"
    },
    {
     "data": {
      "image/png": "[encoded data removed]",
      "text/plain": [
       "<Figure size 432x288 with 1 Axes>"
      ]
     },
     "metadata": {
      "needs_background": "light"
     },
     "output_type": "display_data"
    }
   ],
   "source": [
    "train_r2 = {}\n",
    "test_r2 = {}\n",
    "for i in range(len(grid_forest_8.cv_results_['mean_test_score'])):\n",
    "    max_depth = grid_forest_8.cv_results_['params'][i]['max_depth']\n",
    "    max_features = grid_forest_8.cv_results_['params'][i]['max_features']\n",
    "    if (max_depth, max_features) in train_r2.keys():\n",
    "        train_r2[(max_depth, max_features)].append(grid_forest_8.cv_results_['mean_train_score'][i])\n",
    "        test_r2[(max_depth, max_features)].append(grid_forest_8.cv_results_['mean_test_score'][i])\n",
    "    else:\n",
    "        train_r2[(max_depth, max_features)] = [grid_forest_8.cv_results_['mean_train_score'][i]]\n",
    "        test_r2[(max_depth, max_features)] = [grid_forest_8.cv_results_['mean_test_score'][i]]\n",
    "train_r2\n",
    "\n",
    "for (max_depth, max_features) in train_r2.keys():\n",
    "    plt.plot(range(50, 1050, 50), train_r2[(max_depth, max_features)], label='train')\n",
    "    plt.plot(range(50, 1050, 50), test_r2[(max_depth, max_features)], label='test')\n",
    "    plt.legend(loc=1)    \n",
    "    plt.xlabel('n_estimators')\n",
    "    plt.ylabel('r^2')\n",
    "    plt.title('max depth:' + str(max_depth) + 'max features:' + str(max_features))\n",
    "    plt.show()"
   ]
  },
  {
   "cell_type": "code",
   "execution_count": 212,
   "metadata": {
    "scrolled": false
   },
   "outputs": [
    {
     "name": "stderr",
     "output_type": "stream",
     "text": [
      "[Parallel(n_jobs=-1)]: Using backend LokyBackend with 4 concurrent workers.\n",
      "[Parallel(n_jobs=-1)]: Done  33 tasks      | elapsed:   10.1s\n",
      "[Parallel(n_jobs=-1)]: Done  75 out of  75 | elapsed:   22.0s finished\n",
      "\n",
      "[2019-11-14 12:14:20] Features: 1/1 -- score: 0.6766839014376432"
     ]
    },
    {
     "name": "stdout",
     "output_type": "stream",
     "text": [
      "Features: [3]\n",
      "Train Score: 0.6820476682726357\n",
      "Test Score: 0.6786681771652564\n"
     ]
    },
    {
     "name": "stderr",
     "output_type": "stream",
     "text": [
      "[Parallel(n_jobs=-1)]: Using backend LokyBackend with 4 concurrent workers.\n",
      "[Parallel(n_jobs=-1)]: Done  33 tasks      | elapsed:   14.3s\n",
      "[Parallel(n_jobs=-1)]: Done  75 out of  75 | elapsed:   28.3s finished\n",
      "\n",
      "[2019-11-14 12:14:49] Features: 1/2 -- score: 0.6766839014376432[Parallel(n_jobs=-1)]: Using backend LokyBackend with 4 concurrent workers.\n",
      "[Parallel(n_jobs=-1)]: Done  33 tasks      | elapsed:   14.1s\n",
      "[Parallel(n_jobs=-1)]: Done  74 out of  74 | elapsed:   24.3s finished\n",
      "\n",
      "[2019-11-14 12:15:13] Features: 2/2 -- score: 0.7488684173620734"
     ]
    },
    {
     "name": "stdout",
     "output_type": "stream",
     "text": [
      "Features: [2, 3]\n",
      "Train Score: 0.7978568260079624\n",
      "Test Score: 0.7389707068131742\n"
     ]
    },
    {
     "name": "stderr",
     "output_type": "stream",
     "text": [
      "[Parallel(n_jobs=-1)]: Using backend LokyBackend with 4 concurrent workers.\n",
      "[Parallel(n_jobs=-1)]: Done  33 tasks      | elapsed:    8.7s\n",
      "[Parallel(n_jobs=-1)]: Done  75 out of  75 | elapsed:   17.6s finished\n",
      "\n",
      "[2019-11-14 12:15:32] Features: 1/3 -- score: 0.6766839014376432[Parallel(n_jobs=-1)]: Using backend LokyBackend with 4 concurrent workers.\n",
      "[Parallel(n_jobs=-1)]: Done  33 tasks      | elapsed:    9.6s\n",
      "[Parallel(n_jobs=-1)]: Done  74 out of  74 | elapsed:   19.5s finished\n",
      "\n",
      "[2019-11-14 12:15:52] Features: 2/3 -- score: 0.7488684173620734[Parallel(n_jobs=-1)]: Using backend LokyBackend with 4 concurrent workers.\n",
      "[Parallel(n_jobs=-1)]: Done  33 tasks      | elapsed:   15.5s\n",
      "[Parallel(n_jobs=-1)]: Done  73 out of  73 | elapsed:   38.8s finished\n",
      "\n",
      "[2019-11-14 12:16:31] Features: 3/3 -- score: 0.8210427645297569"
     ]
    },
    {
     "name": "stdout",
     "output_type": "stream",
     "text": [
      "Features: [2, 3, 15]\n",
      "Train Score: 0.9735683469948715\n",
      "Test Score: 0.8173583298262453\n"
     ]
    },
    {
     "name": "stderr",
     "output_type": "stream",
     "text": [
      "[Parallel(n_jobs=-1)]: Using backend LokyBackend with 4 concurrent workers.\n",
      "[Parallel(n_jobs=-1)]: Done  33 tasks      | elapsed:   22.0s\n",
      "[Parallel(n_jobs=-1)]: Done  75 out of  75 | elapsed:   42.5s finished\n",
      "\n",
      "[2019-11-14 12:17:16] Features: 1/4 -- score: 0.6766839014376432[Parallel(n_jobs=-1)]: Using backend LokyBackend with 4 concurrent workers.\n",
      "[Parallel(n_jobs=-1)]: Done  33 tasks      | elapsed:   23.2s\n",
      "[Parallel(n_jobs=-1)]: Done  74 out of  74 | elapsed:   44.6s finished\n",
      "\n",
      "[2019-11-14 12:18:01] Features: 2/4 -- score: 0.7488684173620734[Parallel(n_jobs=-1)]: Using backend LokyBackend with 4 concurrent workers.\n",
      "[Parallel(n_jobs=-1)]: Done  33 tasks      | elapsed:   27.9s\n",
      "[Parallel(n_jobs=-1)]: Done  73 out of  73 | elapsed:   58.0s finished\n",
      "\n",
      "[2019-11-14 12:18:59] Features: 3/4 -- score: 0.8210427645297569[Parallel(n_jobs=-1)]: Using backend LokyBackend with 4 concurrent workers.\n",
      "[Parallel(n_jobs=-1)]: Done  33 tasks      | elapsed:   35.9s\n",
      "[Parallel(n_jobs=-1)]: Done  72 out of  72 | elapsed:   58.2s finished\n",
      "\n",
      "[2019-11-14 12:19:57] Features: 4/4 -- score: 0.854027280865717"
     ]
    },
    {
     "name": "stdout",
     "output_type": "stream",
     "text": [
      "Features: [2, 3, 15, 44]\n",
      "Train Score: 0.9793713599161813\n",
      "Test Score: 0.8531300185738049\n"
     ]
    },
    {
     "name": "stderr",
     "output_type": "stream",
     "text": [
      "[Parallel(n_jobs=-1)]: Using backend LokyBackend with 4 concurrent workers.\n",
      "[Parallel(n_jobs=-1)]: Done  33 tasks      | elapsed:   11.5s\n",
      "[Parallel(n_jobs=-1)]: Done  75 out of  75 | elapsed:   25.8s finished\n",
      "\n",
      "[2019-11-14 12:20:25] Features: 1/5 -- score: 0.6766839014376432[Parallel(n_jobs=-1)]: Using backend LokyBackend with 4 concurrent workers.\n",
      "[Parallel(n_jobs=-1)]: Done  33 tasks      | elapsed:   14.6s\n",
      "[Parallel(n_jobs=-1)]: Done  74 out of  74 | elapsed:   30.5s finished\n",
      "\n",
      "[2019-11-14 12:20:56] Features: 2/5 -- score: 0.7488684173620734[Parallel(n_jobs=-1)]: Using backend LokyBackend with 4 concurrent workers.\n",
      "[Parallel(n_jobs=-1)]: Done  33 tasks      | elapsed:   18.3s\n",
      "[Parallel(n_jobs=-1)]: Done  73 out of  73 | elapsed:   33.2s finished\n",
      "\n",
      "[2019-11-14 12:21:29] Features: 3/5 -- score: 0.8210427645297569[Parallel(n_jobs=-1)]: Using backend LokyBackend with 4 concurrent workers.\n",
      "[Parallel(n_jobs=-1)]: Done  33 tasks      | elapsed:   19.6s\n",
      "[Parallel(n_jobs=-1)]: Done  72 out of  72 | elapsed:   39.4s finished\n",
      "\n",
      "[2019-11-14 12:22:09] Features: 4/5 -- score: 0.854027280865717[Parallel(n_jobs=-1)]: Using backend LokyBackend with 4 concurrent workers.\n",
      "[Parallel(n_jobs=-1)]: Done  33 tasks      | elapsed:   22.4s\n",
      "[Parallel(n_jobs=-1)]: Done  71 out of  71 | elapsed:   44.6s finished\n",
      "\n",
      "[2019-11-14 12:22:53] Features: 5/5 -- score: 0.8676252760054399"
     ]
    },
    {
     "name": "stdout",
     "output_type": "stream",
     "text": [
      "Features: [2, 3, 13, 15, 44]\n",
      "Train Score: 0.9810744227910858\n",
      "Test Score: 0.8718569509845139\n"
     ]
    }
   ],
   "source": [
    "feature_selection = [1, 2, 3, 4, 5]\n",
    "\n",
    "features = []\n",
    "train_scores = []\n",
    "test_scores = []\n",
    "\n",
    "from mlxtend.feature_selection import SequentialFeatureSelector as sfs\n",
    "\n",
    "for k_features in feature_selection:\n",
    "    forest_forward = ensemble.RandomForestRegressor()\n",
    "    forest_forward.set_params(random_state=42, n_estimators=100, max_features=4)\n",
    "    sfs1 = sfs(forest_forward,\n",
    "               k_features=k_features,\n",
    "               forward=True,\n",
    "               floating=False,\n",
    "               verbose=2,\n",
    "               scoring='r2',\n",
    "               cv=5,\n",
    "               n_jobs=-1)\n",
    "    sfs1 = sfs1.fit(np.array(df_X), np.array(df['SalePrice']))\n",
    "    feat_cols = list(sfs1.k_feature_idx_)\n",
    "    features.append(feat_cols)\n",
    "    print('Features: ' + str(feat_cols))\n",
    "    forest_forward.fit(df_X.iloc[:,feat_cols], df['SalePrice'])\n",
    "    train_scores.append(forest_forward.score(df_X.iloc[:,feat_cols], df['SalePrice']))\n",
    "    print('Train Score: ' + str(train_scores[-1]))\n",
    "    ms_k3 = ms.KFold(n_splits=3)\n",
    "    test_scores.append(np.mean(ms.cross_val_score(estimator=forest_forward, X=df_X.iloc[:, feat_cols], y=df['SalePrice'], cv=ms_k3)))\n",
    "    print('Test Score: ' + str(test_scores[-1]))"
   ]
  },
  {
   "cell_type": "code",
   "execution_count": 213,
   "metadata": {},
   "outputs": [
    {
     "name": "stdout",
     "output_type": "stream",
     "text": [
      "[[3], [2, 3], [2, 3, 15], [2, 3, 15, 44], [2, 3, 13, 15, 44]]\n",
      "[0.6820476682726357, 0.7978568260079624, 0.9735683469948715, 0.9793713599161813, 0.9810744227910858]\n",
      "[0.6786681771652564, 0.7389707068131742, 0.8173583298262453, 0.8531300185738049, 0.8718569509845139]\n"
     ]
    }
   ],
   "source": [
    "print(features)\n",
    "print(train_scores)\n",
    "print(test_scores)"
   ]
  },
  {
   "cell_type": "code",
   "execution_count": 214,
   "metadata": {
    "scrolled": true
   },
   "outputs": [
    {
     "data": {
      "text/html": [
       "<div>\n",
       "<style scoped>\n",
       "    .dataframe tbody tr th:only-of-type {\n",
       "        vertical-align: middle;\n",
       "    }\n",
       "\n",
       "    .dataframe tbody tr th {\n",
       "        vertical-align: top;\n",
       "    }\n",
       "\n",
       "    .dataframe thead th {\n",
       "        text-align: right;\n",
       "    }\n",
       "</style>\n",
       "<table border=\"1\" class=\"dataframe\">\n",
       "  <thead>\n",
       "    <tr style=\"text-align: right;\">\n",
       "      <th></th>\n",
       "      <th>Neighborhood</th>\n",
       "      <th>OverallQual</th>\n",
       "      <th>TotalBsmtSF</th>\n",
       "      <th>GrLivArea</th>\n",
       "      <th>Bedroom/Bathroom</th>\n",
       "    </tr>\n",
       "  </thead>\n",
       "  <tbody>\n",
       "    <tr>\n",
       "      <th>0</th>\n",
       "      <td>20</td>\n",
       "      <td>7</td>\n",
       "      <td>856</td>\n",
       "      <td>1710</td>\n",
       "      <td>0.75</td>\n",
       "    </tr>\n",
       "    <tr>\n",
       "      <th>1</th>\n",
       "      <td>23</td>\n",
       "      <td>6</td>\n",
       "      <td>1262</td>\n",
       "      <td>1262</td>\n",
       "      <td>1.00</td>\n",
       "    </tr>\n",
       "    <tr>\n",
       "      <th>2</th>\n",
       "      <td>20</td>\n",
       "      <td>7</td>\n",
       "      <td>920</td>\n",
       "      <td>1786</td>\n",
       "      <td>0.75</td>\n",
       "    </tr>\n",
       "    <tr>\n",
       "      <th>3</th>\n",
       "      <td>15</td>\n",
       "      <td>7</td>\n",
       "      <td>756</td>\n",
       "      <td>1717</td>\n",
       "      <td>1.50</td>\n",
       "    </tr>\n",
       "    <tr>\n",
       "      <th>4</th>\n",
       "      <td>18</td>\n",
       "      <td>8</td>\n",
       "      <td>1145</td>\n",
       "      <td>2198</td>\n",
       "      <td>1.00</td>\n",
       "    </tr>\n",
       "    <tr>\n",
       "      <th>...</th>\n",
       "      <td>...</td>\n",
       "      <td>...</td>\n",
       "      <td>...</td>\n",
       "      <td>...</td>\n",
       "      <td>...</td>\n",
       "    </tr>\n",
       "    <tr>\n",
       "      <th>1447</th>\n",
       "      <td>14</td>\n",
       "      <td>6</td>\n",
       "      <td>953</td>\n",
       "      <td>1647</td>\n",
       "      <td>1.00</td>\n",
       "    </tr>\n",
       "    <tr>\n",
       "      <th>1448</th>\n",
       "      <td>9</td>\n",
       "      <td>6</td>\n",
       "      <td>1542</td>\n",
       "      <td>2073</td>\n",
       "      <td>1.00</td>\n",
       "    </tr>\n",
       "    <tr>\n",
       "      <th>1449</th>\n",
       "      <td>15</td>\n",
       "      <td>7</td>\n",
       "      <td>1152</td>\n",
       "      <td>2340</td>\n",
       "      <td>2.00</td>\n",
       "    </tr>\n",
       "    <tr>\n",
       "      <th>1450</th>\n",
       "      <td>10</td>\n",
       "      <td>5</td>\n",
       "      <td>1078</td>\n",
       "      <td>1078</td>\n",
       "      <td>1.00</td>\n",
       "    </tr>\n",
       "    <tr>\n",
       "      <th>1451</th>\n",
       "      <td>6</td>\n",
       "      <td>5</td>\n",
       "      <td>1256</td>\n",
       "      <td>1256</td>\n",
       "      <td>1.00</td>\n",
       "    </tr>\n",
       "  </tbody>\n",
       "</table>\n",
       "<p>1452 rows × 5 columns</p>\n",
       "</div>"
      ],
      "text/plain": [
       "      Neighborhood  OverallQual  TotalBsmtSF  GrLivArea  Bedroom/Bathroom\n",
       "0               20            7          856       1710              0.75\n",
       "1               23            6         1262       1262              1.00\n",
       "2               20            7          920       1786              0.75\n",
       "3               15            7          756       1717              1.50\n",
       "4               18            8         1145       2198              1.00\n",
       "...            ...          ...          ...        ...               ...\n",
       "1447            14            6          953       1647              1.00\n",
       "1448             9            6         1542       2073              1.00\n",
       "1449            15            7         1152       2340              2.00\n",
       "1450            10            5         1078       1078              1.00\n",
       "1451             6            5         1256       1256              1.00\n",
       "\n",
       "[1452 rows x 5 columns]"
      ]
     },
     "execution_count": 214,
     "metadata": {},
     "output_type": "execute_result"
    }
   ],
   "source": [
    "df_X.iloc[:,features[-1]]"
   ]
  },
  {
   "cell_type": "code",
   "execution_count": 221,
   "metadata": {},
   "outputs": [
    {
     "name": "stdout",
     "output_type": "stream",
     "text": [
      "train R^2: 0.305567\n",
      "test R^2: 0.315813\n"
     ]
    }
   ],
   "source": [
    "forest_2features = ensemble.RandomForestRegressor()\n",
    "forest_2features.set_params(random_state=42, n_estimators=100, max_features=0.5, max_depth=3)\n",
    "\n",
    "X_train, X_test, Y_train, Y_test = train_test_split(df_X.iloc[:, [44]], df['SalePrice'], test_size=0.3, random_state=42)\n",
    "forest_2features.fit(X_train,Y_train)\n",
    "print(\"train R^2: %f\" %forest_2features.score(X_train,Y_train))\n",
    "print(\"test R^2: %f\"%forest_2features.score(X_test,Y_test))"
   ]
  }
 ],
 "metadata": {
  "kernelspec": {
   "display_name": "Python 3",
   "language": "python",
   "name": "python3"
  },
  "language_info": {
   "codemirror_mode": {
    "name": "ipython",
    "version": 3
   },
   "file_extension": ".py",
   "mimetype": "text/x-python",
   "name": "python",
   "nbconvert_exporter": "python",
   "pygments_lexer": "ipython3",
   "version": "3.7.3"
  }
 },
 "nbformat": 4,
 "nbformat_minor": 2
}
